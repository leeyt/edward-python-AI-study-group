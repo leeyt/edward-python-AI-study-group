{
 "cells": [
  {
   "cell_type": "markdown",
   "metadata": {},
   "source": [
    "# 通用範例/範例二: Concatenating multiple feature extraction methods\n",
    "\n",
    "http://scikit-learn.org/stable/auto_examples/feature_stacker.html\n",
    "\n",
    "在許多真的案例中，會有很多方法可以從一個數據集中提取特徵。也常常會組合多個方法來獲得良好的特徵。這個例子說明如何使用` FeatureUnion` 來結合由` PCA` 和` univariate selection` 時的特徵。雖然在這個例子中使用此方法並沒有特殊幫助，只是用來說明如何使用` FeatureUnion` 。\n",
    "\n",
    "這個範例的主要目的：\n",
    "* 使用iris 鳶尾花資料集\n",
    "* 使用`FeatureUnion` \n"
   ]
  },
  {
   "cell_type": "markdown",
   "metadata": {},
   "source": [
    "# (一)資料匯入及描述\n",
    "\n",
    "* 首先先匯入iris 鳶尾花資料集，使用from sklearn.datasets import load_iris將資料存入\n",
    "* 準備X (特徵資料) 以及 y (目標資料)"
   ]
  },
  {
   "cell_type": "code",
   "execution_count": 7,
   "metadata": {
    "collapsed": true
   },
   "outputs": [],
   "source": [
    "from sklearn.pipeline import Pipeline, FeatureUnion\n",
    "from sklearn.grid_search import GridSearchCV\n",
    "from sklearn.svm import SVC\n",
    "from sklearn.datasets import load_iris\n",
    "from sklearn.decomposition import PCA\n",
    "from sklearn.feature_selection import SelectKBest\n",
    "\n",
    "iris = load_iris()\n",
    "\n",
    "X, y = iris.data, iris.target"
   ]
  },
  {
   "cell_type": "markdown",
   "metadata": {},
   "source": [
    "測試資料：\n",
    "* `iris`為一個dict型別資料。\n",
    "\n",
    "| 顯示 | 說明 |\n",
    "| -- | -- |\n",
    "| ('target_names', (3L,))| 共有三種鳶尾花 setosa, versicolor, virginica |\n",
    "| ('data', (150L, 4L)) | 有150筆資料，共四種特徵 |\n",
    "| ('target', (150L,))| 這150筆資料各是那一種鳶尾花|\n",
    "| DESCR | 資料之描述 |\n",
    "| feature_names| 四個特徵代表的意義 |"
   ]
  },
  {
   "cell_type": "markdown",
   "metadata": {},
   "source": [
    "# (二)PCA與SelectKBest\n",
    "* `PCA(n_components = 主要成份數量)`:Principal Component Analysis(PCA)主成份分析，是一個常用的將資料維度減少的方法。它的原理是找出一個新的座標軸，將資料投影到該軸時，數據的變異量會最大。利用這個方式減少資料維度，又希望能保留住原數據點的特性。\n",
    "\n",
    "* `SelectKBest(score_func , k )`: `score_func`是選擇特徵值所依據的函式，而`K`值則是設定要選出多少特徵。"
   ]
  },
  {
   "cell_type": "code",
   "execution_count": 8,
   "metadata": {
    "collapsed": false
   },
   "outputs": [],
   "source": [
    "# This dataset is way to high-dimensional. Better do PCA:\n",
    "pca = PCA(n_components=2)\n",
    "\n",
    "# Maybe some original features where good, too?\n",
    "selection = SelectKBest(k=1)"
   ]
  },
  {
   "cell_type": "markdown",
   "metadata": {},
   "source": [
    "# (三)FeatureUnionc\n",
    "使用sklearn.pipeline.FeatureUnion合併主成分分析(PCA)和綜合篩選(SelectKBest)。<br />\n",
    "最後得到選出的特徵。\n"
   ]
  },
  {
   "cell_type": "code",
   "execution_count": 9,
   "metadata": {
    "collapsed": true
   },
   "outputs": [],
   "source": [
    "# Build estimator from PCA and Univariate selection:\n",
    "\n",
    "combined_features = FeatureUnion([(\"pca\", pca), (\"univ_select\", selection)])\n",
    "\n",
    "# Use combined features to transform dataset:\n",
    "X_features = combined_features.fit(X, y).transform(X)"
   ]
  },
  {
   "cell_type": "markdown",
   "metadata": {
    "collapsed": false
   },
   "source": [
    "# (四)找到最佳的結果\n",
    "* Scikit-lenarn的支持向量機分類涵式庫提供使用簡單易懂的指令，可以用 SVC() 建立運算物件，之後並可以用運算物件內的方法 .fit() 與 .predict() 來做訓練與預測。\n",
    "\n",
    "* 使用`GridSearchCV`交叉驗證，得到由參數網格計算出的分數網格，並找到分數網格中最優的點。\n",
    "    \n",
    "    最後印出這個點所代表的參數\n",
    "\n",
    "\n"
   ]
  },
  {
   "cell_type": "code",
   "execution_count": 10,
   "metadata": {
    "collapsed": false
   },
   "outputs": [
    {
     "name": "stdout",
     "output_type": "stream",
     "text": [
      "Fitting 3 folds for each of 18 candidates, totalling 54 fits\n",
      "[CV] features__univ_select__k=1, features__pca__n_components=1, svm__C=0.1 \n",
      "[CV]  features__univ_select__k=1, features__pca__n_components=1, svm__C=0.1, score=0.960784 -   0.0s\n",
      "[CV] features__univ_select__k=1, features__pca__n_components=1, svm__C=0.1 \n",
      "[CV]  features__univ_select__k=1, features__pca__n_components=1, svm__C=0.1, score=0.901961 -   0.0s\n",
      "[CV] features__univ_select__k=1, features__pca__n_components=1, svm__C=0.1 \n",
      "[CV]  features__univ_select__k=1, features__pca__n_components=1, svm__C=0.1, score=0.979167 -   0.0s\n",
      "[CV] features__univ_select__k=1, features__pca__n_components=1, svm__C=1 \n",
      "[CV]  features__univ_select__k=1, features__pca__n_components=1, svm__C=1, score=0.941176 -   0.0s\n",
      "[CV] features__univ_select__k=1, features__pca__n_components=1, svm__C=1 \n",
      "[CV]  features__univ_select__k=1, features__pca__n_components=1, svm__C=1, score=0.921569 -   0.0s\n",
      "[CV] features__univ_select__k=1, features__pca__n_components=1, svm__C=1 \n",
      "[CV]  features__univ_select__k=1, features__pca__n_components=1, svm__C=1, score=0.979167 -   0.0s\n",
      "[CV] features__univ_select__k=1, features__pca__n_components=1, svm__C=10 \n",
      "[CV]  features__univ_select__k=1, features__pca__n_components=1, svm__C=10, score=0.960784 -   0.0s\n",
      "[CV] features__univ_select__k=1, features__pca__n_components=1, svm__C=10 \n",
      "[CV]  features__univ_select__k=1, features__pca__n_components=1, svm__C=10, score=0.921569 -   0.0s\n",
      "[CV] features__univ_select__k=1, features__pca__n_components=1, svm__C=10 \n",
      "[CV]  features__univ_select__k=1, features__pca__n_components=1, svm__C=10, score=0.979167 -   0.0s\n",
      "[CV] features__univ_select__k=2, features__pca__n_components=1, svm__C=0.1 \n",
      "[CV]  features__univ_select__k=2, features__pca__n_components=1, svm__C=0.1, score=0.960784 -   0.0s\n",
      "[CV] features__univ_select__k=2, features__pca__n_components=1, svm__C=0.1 \n",
      "[CV]  features__univ_select__k=2, features__pca__n_components=1, svm__C=0.1, score=0.921569 -   0.0s\n",
      "[CV] features__univ_select__k=2, features__pca__n_components=1, svm__C=0.1 \n",
      "[CV]  features__univ_select__k=2, features__pca__n_components=1, svm__C=0.1, score=0.979167 -   0.0s\n",
      "[CV] features__univ_select__k=2, features__pca__n_components=1, svm__C=1 \n",
      "[CV]  features__univ_select__k=2, features__pca__n_components=1, svm__C=1, score=0.960784 -   0.0s\n",
      "[CV] features__univ_select__k=2, features__pca__n_components=1, svm__C=1 \n",
      "[CV]  features__univ_select__k=2, features__pca__n_components=1, svm__C=1, score=0.921569 -   0.0s\n",
      "[CV] features__univ_select__k=2, features__pca__n_components=1, svm__C=1 \n",
      "[CV]  features__univ_select__k=2, features__pca__n_components=1, svm__C=1, score=1.000000 -   0.0s\n",
      "[CV] features__univ_select__k=2, features__pca__n_components=1, svm__C=10 "
     ]
    },
    {
     "name": "stderr",
     "output_type": "stream",
     "text": [
      "[Parallel(n_jobs=1)]: Done   1 jobs       | elapsed:    0.0s\n",
      "[Parallel(n_jobs=1)]: Done   2 jobs       | elapsed:    0.0s\n",
      "[Parallel(n_jobs=1)]: Done   5 jobs       | elapsed:    0.0s\n",
      "[Parallel(n_jobs=1)]: Done   8 jobs       | elapsed:    0.0s\n",
      "[Parallel(n_jobs=1)]: Done  13 jobs       | elapsed:    0.0s\n",
      "[Parallel(n_jobs=1)]: Done  18 jobs       | elapsed:    0.0s\n"
     ]
    },
    {
     "name": "stdout",
     "output_type": "stream",
     "text": [
      "\n",
      "[CV]  features__univ_select__k=2, features__pca__n_components=1, svm__C=10, score=0.980392 -   0.0s\n",
      "[CV] features__univ_select__k=2, features__pca__n_components=1, svm__C=10 \n",
      "[CV]  features__univ_select__k=2, features__pca__n_components=1, svm__C=10, score=0.901961 -   0.0s\n",
      "[CV] features__univ_select__k=2, features__pca__n_components=1, svm__C=10 \n",
      "[CV]  features__univ_select__k=2, features__pca__n_components=1, svm__C=10, score=1.000000 -   0.0s\n",
      "[CV] features__univ_select__k=1, features__pca__n_components=2, svm__C=0.1 \n",
      "[CV]  features__univ_select__k=1, features__pca__n_components=2, svm__C=0.1, score=0.960784 -   0.0s\n",
      "[CV] features__univ_select__k=1, features__pca__n_components=2, svm__C=0.1 \n",
      "[CV]  features__univ_select__k=1, features__pca__n_components=2, svm__C=0.1, score=0.901961 -   0.0s\n",
      "[CV] features__univ_select__k=1, features__pca__n_components=2, svm__C=0.1 \n",
      "[CV]  features__univ_select__k=1, features__pca__n_components=2, svm__C=0.1, score=0.979167 -   0.0s\n",
      "[CV] features__univ_select__k=1, features__pca__n_components=2, svm__C=1 \n",
      "[CV]  features__univ_select__k=1, features__pca__n_components=2, svm__C=1, score=0.980392 -   0.0s\n",
      "[CV] features__univ_select__k=1, features__pca__n_components=2, svm__C=1 \n",
      "[CV]  features__univ_select__k=1, features__pca__n_components=2, svm__C=1, score=0.941176 -   0.0s\n",
      "[CV] features__univ_select__k=1, features__pca__n_components=2, svm__C=1 \n",
      "[CV]  features__univ_select__k=1, features__pca__n_components=2, svm__C=1, score=0.979167 -   0.0s\n",
      "[CV] features__univ_select__k=1, features__pca__n_components=2, svm__C=10 \n",
      "[CV]  features__univ_select__k=1, features__pca__n_components=2, svm__C=10, score=0.980392 -   0.0s\n",
      "[CV] features__univ_select__k=1, features__pca__n_components=2, svm__C=10 \n",
      "[CV]  features__univ_select__k=1, features__pca__n_components=2, svm__C=10, score=0.941176 -   0.0s\n",
      "[CV] features__univ_select__k=1, features__pca__n_components=2, svm__C=10 \n",
      "[CV]  features__univ_select__k=1, features__pca__n_components=2, svm__C=10, score=0.979167 -   0.0s\n",
      "[CV] features__univ_select__k=2, features__pca__n_components=2, svm__C=0.1 \n",
      "[CV]  features__univ_select__k=2, features__pca__n_components=2, svm__C=0.1, score=0.980392 -   0.0s\n",
      "[CV] features__univ_select__k=2, features__pca__n_components=2, svm__C=0.1 \n",
      "[CV]  features__univ_select__k=2, features__pca__n_components=2, svm__C=0.1, score=0.941176 -   0.0s\n",
      "[CV] features__univ_select__k=2, features__pca__n_components=2, svm__C=0.1 \n",
      "[CV]  features__univ_select__k=2, features__pca__n_components=2, svm__C=0.1, score=0.979167 -   0.0s\n",
      "[CV] features__univ_select__k=2, features__pca__n_components=2, svm__C=1 \n",
      "[CV]  features__univ_select__k=2, features__pca__n_components=2, svm__C=1, score=1.000000 -   0.0s\n",
      "[CV] features__univ_select__k=2, features__pca__n_components=2, svm__C=1 \n",
      "[CV]  features__univ_select__k=2, features__pca__n_components=2, svm__C=1, score=0.960784 -   0.0s\n",
      "[CV] features__univ_select__k=2, features__pca__n_components=2, svm__C=1 \n",
      "[CV]  features__univ_select__k=2, features__pca__n_components=2, svm__C=1, score=0.979167 -   0.0s\n",
      "[CV] features__univ_select__k=2, features__pca__n_components=2, svm__C=10 \n",
      "[CV]  features__univ_select__k=2, features__pca__n_components=2, svm__C=10, score=0.980392 -   0.0s\n",
      "[CV] features__univ_select__k=2, features__pca__n_components=2, svm__C=10 \n",
      "[CV]  features__univ_select__k=2, features__pca__n_components=2, svm__C=10, score=0.921569 -   0.0s\n",
      "[CV] features__univ_select__k=2, features__pca__n_components=2, svm__C=10 \n",
      "[CV]  features__univ_select__k=2, features__pca__n_components=2, svm__C=10, score=1.000000 -   0.0s\n",
      "[CV] features__univ_select__k=1, features__pca__n_components=3, svm__C=0.1 \n",
      "[CV]  features__univ_select__k=1, features__pca__n_components=3, svm__C=0.1, score=0.980392 -   0.0s\n",
      "[CV] features__univ_select__k=1, features__pca__n_components=3, svm__C=0.1 \n",
      "[CV]  features__univ_select__k=1, features__pca__n_components=3, svm__C=0.1, score=0.941176 -   0.0s\n",
      "[CV] features__univ_select__k=1, features__pca__n_components=3, svm__C=0.1 \n",
      "[CV]  features__univ_select__k=1, features__pca__n_components=3, svm__C=0.1, score=0.979167 -   0.0s\n",
      "[CV] features__univ_select__k=1, features__pca__n_components=3, svm__C=1 \n",
      "[CV]  features__univ_select__k=1, features__pca__n_components=3, svm__C=1, score=1.000000 -   0.0s\n",
      "[CV] features__univ_select__k=1, features__pca__n_components=3, svm__C=1 \n",
      "[CV]  features__univ_select__k=1, features__pca__n_components=3, svm__C=1, score=0.941176 -   0.0s\n",
      "[CV] features__univ_select__k=1, features__pca__n_components=3, svm__C=1 \n",
      "[CV]  features__univ_select__k=1, features__pca__n_components=3, svm__C=1, score=0.979167 -   0.0s\n",
      "[CV] features__univ_select__k=1, features__pca__n_components=3, svm__C=10 \n",
      "[CV]  features__univ_select__k=1, features__pca__n_components=3, svm__C=10, score=1.000000 -   0.0s\n",
      "[CV] features__univ_select__k=1, features__pca__n_components=3, svm__C=10 \n",
      "[CV]  features__univ_select__k=1, features__pca__n_components=3, svm__C=10, score=0.921569 -   0.0s\n",
      "[CV] features__univ_select__k=1, features__pca__n_components=3, svm__C=10 \n",
      "[CV]  features__univ_select__k=1, features__pca__n_components=3, svm__C=10, score=1.000000 -   0.0s\n",
      "[CV] features__univ_select__k=2, features__pca__n_components=3, svm__C=0.1 \n",
      "[CV]  features__univ_select__k=2, features__pca__n_components=3, svm__C=0.1, score=0.980392 -   0.0s\n",
      "[CV] features__univ_select__k=2, features__pca__n_components=3, svm__C=0.1 \n",
      "[CV]  features__univ_select__k=2, features__pca__n_components=3, svm__C=0.1, score=0.941176 -   0.0s\n",
      "[CV] features__univ_select__k=2, features__pca__n_components=3, svm__C=0.1 \n",
      "[CV]  features__univ_select__k=2, features__pca__n_components=3, svm__C=0.1, score=0.979167 -   0.0s\n",
      "[CV] features__univ_select__k=2, features__pca__n_components=3, svm__C=1 \n",
      "[CV]  features__univ_select__k=2, features__pca__n_components=3, svm__C=1, score=1.000000 -   0.0s"
     ]
    },
    {
     "name": "stderr",
     "output_type": "stream",
     "text": [
      "[Parallel(n_jobs=1)]: Done  25 jobs       | elapsed:    0.0s\n",
      "[Parallel(n_jobs=1)]: Done  32 jobs       | elapsed:    0.0s\n",
      "[Parallel(n_jobs=1)]: Done  41 jobs       | elapsed:    0.0s\n",
      "[Parallel(n_jobs=1)]: Done  50 jobs       | elapsed:    0.1s\n"
     ]
    },
    {
     "name": "stdout",
     "output_type": "stream",
     "text": [
      "\n",
      "[CV] features__univ_select__k=2, features__pca__n_components=3, svm__C=1 \n",
      "[CV]  features__univ_select__k=2, features__pca__n_components=3, svm__C=1, score=0.960784 -   0.0s\n",
      "[CV] features__univ_select__k=2, features__pca__n_components=3, svm__C=1 \n",
      "[CV]  features__univ_select__k=2, features__pca__n_components=3, svm__C=1, score=0.979167 -   0.0s\n",
      "[CV] features__univ_select__k=2, features__pca__n_components=3, svm__C=10 \n",
      "[CV]  features__univ_select__k=2, features__pca__n_components=3, svm__C=10, score=1.000000 -   0.0s\n",
      "[CV] features__univ_select__k=2, features__pca__n_components=3, svm__C=10 \n",
      "[CV]  features__univ_select__k=2, features__pca__n_components=3, svm__C=10, score=0.921569 -   0.0s\n",
      "[CV] features__univ_select__k=2, features__pca__n_components=3, svm__C=10 \n",
      "[CV]  features__univ_select__k=2, features__pca__n_components=3, svm__C=10, score=1.000000 -   0.0s\n",
      "Pipeline(steps=[('features', FeatureUnion(n_jobs=1,\n",
      "       transformer_list=[('pca', PCA(copy=True, n_components=2, whiten=False)), ('univ_select', SelectKBest(k=2, score_func=<function f_classif at 0x0000000007243488>))],\n",
      "       transformer_weights=None)), ('svm', SVC(C=1, cache_size=200, class_weight=None, coef0=0.0, degree=3, gamma=0.0,\n",
      "  kernel='linear', max_iter=-1, probability=False, random_state=None,\n",
      "  shrinking=True, tol=0.001, verbose=False))])\n"
     ]
    },
    {
     "name": "stderr",
     "output_type": "stream",
     "text": [
      "[Parallel(n_jobs=1)]: Done  54 out of  54 | elapsed:    0.1s finished\n"
     ]
    }
   ],
   "source": [
    "svm = SVC(kernel=\"linear\")\n",
    "\n",
    "# Do grid search over k, n_components and C:\n",
    "\n",
    "pipeline = Pipeline([(\"features\", combined_features), (\"svm\", svm)])\n",
    "\n",
    "param_grid = dict(features__pca__n_components=[1, 2, 3],\n",
    "                  features__univ_select__k=[1, 2],\n",
    "                  svm__C=[0.1, 1, 10])\n",
    "\n",
    "grid_search = GridSearchCV(pipeline, param_grid=param_grid, verbose=10)\n",
    "grid_search.fit(X, y)\n",
    "print(grid_search.best_estimator_)"
   ]
  },
  {
   "cell_type": "code",
   "execution_count": null,
   "metadata": {
    "collapsed": true
   },
   "outputs": [],
   "source": []
  }
 ],
 "metadata": {
  "kernelspec": {
   "display_name": "Python 2",
   "language": "python",
   "name": "python2"
  },
  "language_info": {
   "codemirror_mode": {
    "name": "ipython",
    "version": 2
   },
   "file_extension": ".py",
   "mimetype": "text/x-python",
   "name": "python",
   "nbconvert_exporter": "python",
   "pygments_lexer": "ipython2",
   "version": "2.7.10"
  }
 },
 "nbformat": 4,
 "nbformat_minor": 0
}
