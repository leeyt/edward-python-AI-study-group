{
 "cells": [
  {
   "cell_type": "markdown",
   "metadata": {
    "ExecuteTime": {
     "end_time": "2018-09-14T18:33:33.224199Z",
     "start_time": "2018-09-14T18:33:33.201834Z"
    }
   },
   "source": [
    "# Matplotlib Tutorial\n",
    "\n",
    "View more python tutorials on my Youtube and Youku channel!!!\n",
    "\n",
    "Youtube video tutorial: https://www.youtube.com/channel/UCdyjiB5H8Pu7aDTNVXTTpcg  \n",
    "Youku video tutorial: http://i.youku.com/pythontutorial\n",
    "\n",
    "## Legend\n",
    "\n",
    "Please note, this script is for python3+.\n",
    "If you are using python2+, please modify it accordingly.\n",
    "Tutorial reference: http://www.scipy-lectures.org/intro/matplotlib/matplotlib.html"
   ]
  },
  {
   "cell_type": "code",
   "execution_count": 1,
   "metadata": {
    "ExecuteTime": {
     "end_time": "2018-09-14T18:41:03.937176Z",
     "start_time": "2018-09-14T18:41:03.619046Z"
    }
   },
   "outputs": [],
   "source": [
    "import matplotlib.pyplot as plt\n",
    "import numpy as np\n",
    "\n",
    "%matplotlib inline"
   ]
  },
  {
   "cell_type": "code",
   "execution_count": 2,
   "metadata": {
    "ExecuteTime": {
     "end_time": "2018-09-14T18:41:03.947146Z",
     "start_time": "2018-09-14T18:41:03.940246Z"
    }
   },
   "outputs": [],
   "source": [
    "x = np.linspace(-3, 3, 50)\n",
    "y1 = 2*x + 1\n",
    "y2 = x**2"
   ]
  },
  {
   "cell_type": "code",
   "execution_count": 3,
   "metadata": {
    "ExecuteTime": {
     "end_time": "2018-09-14T18:41:04.450759Z",
     "start_time": "2018-09-14T18:41:03.957518Z"
    }
   },
   "outputs": [
    {
     "data": {
      "image/png": "[encoded data removed]",
      "text/plain": [
       "<matplotlib.figure.Figure at 0x10fa08b70>"
      ]
     },
     "metadata": {},
     "output_type": "display_data"
    }
   ],
   "source": [
    "plt.figure()\n",
    "# set x limits\n",
    "plt.xlim((-1, 2))\n",
    "plt.ylim((-2, 3))\n",
    "\n",
    "# set new sticks\n",
    "new_sticks = np.linspace(-1, 2, 5)\n",
    "plt.xticks(new_sticks)\n",
    "# set tick labels\n",
    "plt.yticks([-2, -1.8, -1, 1.22, 3],\n",
    "           [r'$really\\ bad$', r'$bad$', r'$normal$', r'$good$', r'$really\\ good$'])\n",
    "\n",
    "l1, = plt.plot(x, y1, label='linear line')\n",
    "l2, = plt.plot(x, y2, color='red', linewidth=1.0, linestyle='--', label='square line')\n",
    "\n",
    "plt.legend(loc='upper right')\n",
    "\n",
    "plt.show()"
   ]
  },
  {
   "cell_type": "markdown",
   "metadata": {
    "ExecuteTime": {
     "end_time": "2018-09-14T18:35:52.711237Z",
     "start_time": "2018-09-14T18:35:51.950550Z"
    }
   },
   "source": [
    "```python\n",
    "plt.legend(handles=[l1, l2], labels=['up', 'down'],  loc='best')\n",
    "```\n",
    "\n",
    "the \",\" is very important in here l1, = plt... and l2, = plt... for this step\n",
    "\n",
    "```python\n",
    "legend(handles=(line1, line2, line3),\n",
    "       labels=('label1', 'label2', 'label3'),\n",
    "       'upper right')\n",
    "```\n",
    "\n",
    "The *loc* location codes are:\n",
    "\n",
    "- 'best' : 0,          (currently not supported for figure legends)  \n",
    "- 'upper right'  : 1,  \n",
    "- 'upper left'   : 2,  \n",
    "- 'lower left'   : 3,  \n",
    "- 'lower right'  : 4,  \n",
    "- 'right'        : 5,  \n",
    "- 'center left'  : 6,  \n",
    "- 'center right' : 7,  \n",
    "- 'lower center' : 8,  \n",
    "- 'upper center' : 9,  \n",
    "- 'center'       : 10,"
   ]
  }
 ],
 "metadata": {
  "kernelspec": {
   "display_name": "Python 3",
   "language": "python",
   "name": "python3"
  },
  "language_info": {
   "codemirror_mode": {
    "name": "ipython",
    "version": 3
   },
   "file_extension": ".py",
   "mimetype": "text/x-python",
   "name": "python",
   "nbconvert_exporter": "python",
   "pygments_lexer": "ipython3",
   "version": "3.6.3"
  },
  "toc": {
   "base_numbering": 1,
   "nav_menu": {},
   "number_sections": true,
   "sideBar": true,
   "skip_h1_title": false,
   "title_cell": "Table of Contents",
   "title_sidebar": "Contents",
   "toc_cell": false,
   "toc_position": {},
   "toc_section_display": true,
   "toc_window_display": false
  },
  "varInspector": {
   "cols": {
    "lenName": 16,
    "lenType": 16,
    "lenVar": 40
   },
   "kernels_config": {
    "python": {
     "delete_cmd_postfix": "",
     "delete_cmd_prefix": "del ",
     "library": "var_list.py",
     "varRefreshCmd": "print(var_dic_list())"
    },
    "r": {
     "delete_cmd_postfix": ") ",
     "delete_cmd_prefix": "rm(",
     "library": "var_list.r",
     "varRefreshCmd": "cat(var_dic_list()) "
    }
   },
   "types_to_exclude": [
    "module",
    "function",
    "builtin_function_or_method",
    "instance",
    "_Feature"
   ],
   "window_display": false
  }
 },
 "nbformat": 4,
 "nbformat_minor": 2
}
