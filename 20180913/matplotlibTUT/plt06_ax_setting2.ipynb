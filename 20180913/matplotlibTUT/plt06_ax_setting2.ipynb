{
 "cells": [
  {
   "cell_type": "markdown",
   "metadata": {
    "ExecuteTime": {
     "end_time": "2018-09-14T10:03:30.715963Z",
     "start_time": "2018-09-14T10:03:30.709076Z"
    }
   },
   "source": [
    "# Matplotlib Tutorial\n",
    "\n",
    "View more python tutorials on my Youtube and Youku channel!!!\n",
    "\n",
    "Youtube video tutorial: https://www.youtube.com/channel/UCdyjiB5H8Pu7aDTNVXTTpcg  \n",
    "Youku video tutorial: http://i.youku.com/pythontutorial\n",
    "\n",
    "## Axis setting - Part 2\n",
    "\n",
    "Please note, this script is for python3+.\n",
    "If you are using python2+, please modify it accordingly.\n",
    "Tutorial reference: http://www.scipy-lectures.org/intro/matplotlib/matplotlib.html"
   ]
  },
  {
   "cell_type": "code",
   "execution_count": 2,
   "metadata": {
    "ExecuteTime": {
     "end_time": "2018-09-14T10:04:16.579244Z",
     "start_time": "2018-09-14T10:04:16.302326Z"
    }
   },
   "outputs": [],
   "source": [
    "import matplotlib.pyplot as plt\n",
    "import numpy as np\n",
    "%matplotlib inline"
   ]
  },
  {
   "cell_type": "code",
   "execution_count": 3,
   "metadata": {
    "ExecuteTime": {
     "end_time": "2018-09-14T10:04:21.648845Z",
     "start_time": "2018-09-14T10:04:21.642026Z"
    }
   },
   "outputs": [],
   "source": [
    "x = np.linspace(-3, 3, 50)\n",
    "y1 = 2*x + 1\n",
    "y2 = x**2"
   ]
  },
  {
   "cell_type": "code",
   "execution_count": 4,
   "metadata": {
    "ExecuteTime": {
     "end_time": "2018-09-14T10:05:26.580375Z",
     "start_time": "2018-09-14T10:05:25.805778Z"
    }
   },
   "outputs": [
    {
     "data": {
      "image/png": "[encoded data removed]",
      "text/plain": [
       "<matplotlib.figure.Figure at 0x10f927a90>"
      ]
     },
     "metadata": {},
     "output_type": "display_data"
    }
   ],
   "source": [
    "plt.figure()\n",
    "plt.plot(x, y2)\n",
    "# plot the second curve in this figure with certain parameters\n",
    "plt.plot(x, y1, color='red', linewidth=1.0, linestyle='--')\n",
    "# set x limits\n",
    "plt.xlim((-1, 2))\n",
    "plt.ylim((-2, 3))\n",
    "\n",
    "# set new ticks\n",
    "new_ticks = np.linspace(-1, 2, 5)\n",
    "plt.xticks(new_ticks)\n",
    "# set tick labels\n",
    "plt.yticks([-2, -1.8, -1, 1.22, 3],\n",
    "           ['$really\\ bad$', '$bad$', '$normal$', '$good$', '$really\\ good$'])\n",
    "# to use '$ $' for math text and nice looking, e.g. '$\\pi$'\n",
    "\n",
    "# gca = 'get current axis'\n",
    "ax = plt.gca()\n",
    "ax.spines['right'].set_color('none')\n",
    "ax.spines['top'].set_color('none')\n",
    "\n",
    "ax.xaxis.set_ticks_position('bottom')\n",
    "# ACCEPTS: [ 'top' | 'bottom' | 'both' | 'default' | 'none' ]\n",
    "\n",
    "ax.spines['bottom'].set_position(('data', 0))\n",
    "# the 1st is in 'outward' | 'axes' | 'data'\n",
    "# axes: percentage of y axis\n",
    "# data: depend on y data\n",
    "\n",
    "ax.yaxis.set_ticks_position('left')\n",
    "# ACCEPTS: [ 'left' | 'right' | 'both' | 'default' | 'none' ]\n",
    "\n",
    "ax.spines['left'].set_position(('data',0))\n",
    "plt.show()"
   ]
  }
 ],
 "metadata": {
  "kernelspec": {
   "display_name": "Python 3",
   "language": "python",
   "name": "python3"
  },
  "language_info": {
   "codemirror_mode": {
    "name": "ipython",
    "version": 3
   },
   "file_extension": ".py",
   "mimetype": "text/x-python",
   "name": "python",
   "nbconvert_exporter": "python",
   "pygments_lexer": "ipython3",
   "version": "3.6.3"
  },
  "toc": {
   "base_numbering": 1,
   "nav_menu": {},
   "number_sections": true,
   "sideBar": true,
   "skip_h1_title": false,
   "title_cell": "Table of Contents",
   "title_sidebar": "Contents",
   "toc_cell": false,
   "toc_position": {},
   "toc_section_display": true,
   "toc_window_display": false
  },
  "varInspector": {
   "cols": {
    "lenName": 16,
    "lenType": 16,
    "lenVar": 40
   },
   "kernels_config": {
    "python": {
     "delete_cmd_postfix": "",
     "delete_cmd_prefix": "del ",
     "library": "var_list.py",
     "varRefreshCmd": "print(var_dic_list())"
    },
    "r": {
     "delete_cmd_postfix": ") ",
     "delete_cmd_prefix": "rm(",
     "library": "var_list.r",
     "varRefreshCmd": "cat(var_dic_list()) "
    }
   },
   "types_to_exclude": [
    "module",
    "function",
    "builtin_function_or_method",
    "instance",
    "_Feature"
   ],
   "window_display": false
  }
 },
 "nbformat": 4,
 "nbformat_minor": 2
}
