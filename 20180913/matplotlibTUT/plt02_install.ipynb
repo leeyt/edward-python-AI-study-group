{
 "cells": [
  {
   "cell_type": "markdown",
   "metadata": {
    "ExecuteTime": {
     "end_time": "2018-09-14T07:13:12.331671Z",
     "start_time": "2018-09-14T07:13:12.324258Z"
    }
   },
   "source": [
    "# Matplotlib Tutorial\n",
    "\n",
    "View more python tutorials on my Youtube and Youku channel!!!\n",
    "\n",
    "Youtube video tutorial: https://www.youtube.com/channel/UCdyjiB5H8Pu7aDTNVXTTpcg  \n",
    "Youku video tutorial: http://i.youku.com/pythontutorial\n",
    "\n",
    "## Install\n",
    "\n",
    "Make sure you have installed numpy.\n",
    "\n",
    "---\n",
    "\n",
    "INSTALL on Linux:\n",
    "\n",
    "If you have python3, in terminal you will type:\n",
    "\n",
    "```bash\n",
    "sudo apt-get install python3-matplotlib\n",
    "```\n",
    "\n",
    "Otherwise, if python2, type:\n",
    "\n",
    "```bash\n",
    "sudo apt-get install python-matplotlib\n",
    "```\n",
    "\n",
    "---\n",
    "\n",
    "INSTALL on MacOS\n",
    "\n",
    "For python3:\n",
    "\n",
    "```bash\n",
    "pip3 install matplotlib\n",
    "```\n",
    "\n",
    "For python2:\n",
    "\n",
    "```bash\n",
    "pip install matplotlib\n",
    "```\n",
    "\n",
    "---\n",
    "\n",
    "INSTALL on Windows:\n",
    "\n",
    "1. make sure you install Visual Studio;\n",
    "2. go to: https://pypi.python.org/pypi/matplotlib/\n",
    "3. find the wheel file (a file ending in .whl) matches your python version and system\n",
    "(e.g. cp35 for python3.5, win32 for 32-bit system, win_amd64 for 64-bit system);\n",
    "4. Copy the .whl file to your project folder, open a command window,\n",
    "and navigate to the project folder. Then use pip to install matplotlib:\n",
    "\n",
    "e.g.\n",
    "\n",
    "```bash\n",
    "cd python_work\n",
    "python -m pip3 install matplotlib-1.4.3-cp35-none-win32.whl\n",
    "```\n",
    "\n",
    "If not success. Try the alternative way: using \"Anaconda\" to install.\n",
    "Please search this by yourself."
   ]
  }
 ],
 "metadata": {
  "kernelspec": {
   "display_name": "Python 3",
   "language": "python",
   "name": "python3"
  },
  "language_info": {
   "codemirror_mode": {
    "name": "ipython",
    "version": 3
   },
   "file_extension": ".py",
   "mimetype": "text/x-python",
   "name": "python",
   "nbconvert_exporter": "python",
   "pygments_lexer": "ipython3",
   "version": "3.6.3"
  },
  "toc": {
   "base_numbering": 1,
   "nav_menu": {},
   "number_sections": true,
   "sideBar": true,
   "skip_h1_title": false,
   "title_cell": "Table of Contents",
   "title_sidebar": "Contents",
   "toc_cell": false,
   "toc_position": {},
   "toc_section_display": true,
   "toc_window_display": false
  },
  "varInspector": {
   "cols": {
    "lenName": 16,
    "lenType": 16,
    "lenVar": 40
   },
   "kernels_config": {
    "python": {
     "delete_cmd_postfix": "",
     "delete_cmd_prefix": "del ",
     "library": "var_list.py",
     "varRefreshCmd": "print(var_dic_list())"
    },
    "r": {
     "delete_cmd_postfix": ") ",
     "delete_cmd_prefix": "rm(",
     "library": "var_list.r",
     "varRefreshCmd": "cat(var_dic_list()) "
    }
   },
   "types_to_exclude": [
    "module",
    "function",
    "builtin_function_or_method",
    "instance",
    "_Feature"
   ],
   "window_display": false
  }
 },
 "nbformat": 4,
 "nbformat_minor": 2
}
