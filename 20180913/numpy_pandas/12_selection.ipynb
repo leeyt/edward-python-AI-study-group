{
 "cells": [
  {
   "cell_type": "markdown",
   "metadata": {
    "ExecuteTime": {
     "end_time": "2018-09-13T12:43:31.535397Z",
     "start_time": "2018-09-13T12:43:31.515203Z"
    }
   },
   "source": [
    "# Selection\n",
    "\n",
    "View more python tutorials on my Youtube and Youku channel!!!\n",
    "\n",
    "Youtube video tutorial: https://www.youtube.com/channel/UCdyjiB5H8Pu7aDTNVXTTpcg  \n",
    "Youku video tutorial: http://i.youku.com/pythontutorial\n",
    "\n",
    "Please note, this code is only for python 3+. If you are using python 2+, please modify the code accordingly."
   ]
  },
  {
   "cell_type": "code",
   "execution_count": 1,
   "metadata": {
    "ExecuteTime": {
     "end_time": "2018-09-14T04:12:14.346349Z",
     "start_time": "2018-09-14T04:12:13.379171Z"
    }
   },
   "outputs": [
    {
     "name": "stdout",
     "output_type": "stream",
     "text": [
      "Pandas version: 0.20.3\n"
     ]
    }
   ],
   "source": [
    "import pandas as pd\n",
    "import numpy as np\n",
    "\n",
    "print('Pandas version:', pd.__version__)"
   ]
  },
  {
   "cell_type": "code",
   "execution_count": 2,
   "metadata": {
    "ExecuteTime": {
     "end_time": "2018-09-14T04:12:14.368624Z",
     "start_time": "2018-09-14T04:12:14.353972Z"
    }
   },
   "outputs": [
    {
     "name": "stdout",
     "output_type": "stream",
     "text": [
      "2013-01-01    0.560787\n",
      "2013-01-02   -0.363628\n",
      "2013-01-03    0.097201\n",
      "2013-01-04   -0.222577\n",
      "2013-01-05    2.440297\n",
      "2013-01-06   -1.264938\n",
      "Freq: D, Name: A, dtype: float64\n"
     ]
    }
   ],
   "source": [
    "dates = pd.date_range('20130101', periods=6)\n",
    "df = pd.DataFrame(np.random.randn(6,4), index=dates, columns=['A', 'B', 'C', 'D'])\n",
    "\n",
    "print(df['A'])"
   ]
  },
  {
   "cell_type": "code",
   "execution_count": 3,
   "metadata": {
    "ExecuteTime": {
     "end_time": "2018-09-14T04:12:14.395162Z",
     "start_time": "2018-09-14T04:12:14.374004Z"
    }
   },
   "outputs": [
    {
     "name": "stdout",
     "output_type": "stream",
     "text": [
      "2013-01-01    0.560787\n",
      "2013-01-02   -0.363628\n",
      "2013-01-03    0.097201\n",
      "2013-01-04   -0.222577\n",
      "2013-01-05    2.440297\n",
      "2013-01-06   -1.264938\n",
      "Freq: D, Name: A, dtype: float64\n"
     ]
    }
   ],
   "source": [
    "print(df.A)"
   ]
  },
  {
   "cell_type": "code",
   "execution_count": 4,
   "metadata": {
    "ExecuteTime": {
     "end_time": "2018-09-14T04:12:14.424415Z",
     "start_time": "2018-09-14T04:12:14.405485Z"
    }
   },
   "outputs": [
    {
     "name": "stdout",
     "output_type": "stream",
     "text": [
      "                   A         B         C         D\n",
      "2013-01-01  0.560787 -0.335566  0.800120 -0.831453\n",
      "2013-01-02 -0.363628 -0.481824  1.359480 -0.208611\n",
      "2013-01-03  0.097201  1.050034  0.798947  1.418150\n"
     ]
    }
   ],
   "source": [
    "print(df[0:3])"
   ]
  },
  {
   "cell_type": "code",
   "execution_count": 5,
   "metadata": {
    "ExecuteTime": {
     "end_time": "2018-09-14T04:12:14.454059Z",
     "start_time": "2018-09-14T04:12:14.436803Z"
    }
   },
   "outputs": [
    {
     "name": "stdout",
     "output_type": "stream",
     "text": [
      "                   A         B         C         D\n",
      "2013-01-02 -0.363628 -0.481824  1.359480 -0.208611\n",
      "2013-01-03  0.097201  1.050034  0.798947  1.418150\n",
      "2013-01-04 -0.222577 -0.259466 -0.548083  0.975699\n"
     ]
    }
   ],
   "source": [
    "print(df['20130102':'20130104'])"
   ]
  },
  {
   "cell_type": "code",
   "execution_count": 6,
   "metadata": {
    "ExecuteTime": {
     "end_time": "2018-09-14T04:12:14.479408Z",
     "start_time": "2018-09-14T04:12:14.460246Z"
    }
   },
   "outputs": [
    {
     "name": "stdout",
     "output_type": "stream",
     "text": [
      "A   -0.363628\n",
      "B   -0.481824\n",
      "C    1.359480\n",
      "D   -0.208611\n",
      "Name: 2013-01-02 00:00:00, dtype: float64\n"
     ]
    }
   ],
   "source": [
    "# select by label: loc\n",
    "print(df.loc['20130102'])"
   ]
  },
  {
   "cell_type": "code",
   "execution_count": 7,
   "metadata": {
    "ExecuteTime": {
     "end_time": "2018-09-14T04:12:14.509557Z",
     "start_time": "2018-09-14T04:12:14.489960Z"
    }
   },
   "outputs": [
    {
     "name": "stdout",
     "output_type": "stream",
     "text": [
      "                   A         B\n",
      "2013-01-01  0.560787 -0.335566\n",
      "2013-01-02 -0.363628 -0.481824\n",
      "2013-01-03  0.097201  1.050034\n",
      "2013-01-04 -0.222577 -0.259466\n",
      "2013-01-05  2.440297  1.723404\n",
      "2013-01-06 -1.264938  0.144139\n"
     ]
    }
   ],
   "source": [
    "# select by label: loc\n",
    "print(df.loc[:,['A','B']])"
   ]
  },
  {
   "cell_type": "code",
   "execution_count": 8,
   "metadata": {
    "ExecuteTime": {
     "end_time": "2018-09-14T04:12:14.529783Z",
     "start_time": "2018-09-14T04:12:14.518838Z"
    }
   },
   "outputs": [
    {
     "name": "stdout",
     "output_type": "stream",
     "text": [
      "A   -0.363628\n",
      "B   -0.481824\n",
      "Name: 2013-01-02 00:00:00, dtype: float64\n"
     ]
    }
   ],
   "source": [
    "# select by label: loc\n",
    "print(df.loc['20130102', ['A','B']])"
   ]
  },
  {
   "cell_type": "code",
   "execution_count": 9,
   "metadata": {
    "ExecuteTime": {
     "end_time": "2018-09-14T04:12:14.545729Z",
     "start_time": "2018-09-14T04:12:14.536218Z"
    }
   },
   "outputs": [
    {
     "name": "stdout",
     "output_type": "stream",
     "text": [
      "A   -0.222577\n",
      "B   -0.259466\n",
      "C   -0.548083\n",
      "D    0.975699\n",
      "Name: 2013-01-04 00:00:00, dtype: float64\n"
     ]
    }
   ],
   "source": [
    "# select by position: iloc\n",
    "print(df.iloc[3])"
   ]
  },
  {
   "cell_type": "code",
   "execution_count": 10,
   "metadata": {
    "ExecuteTime": {
     "end_time": "2018-09-14T04:12:14.567394Z",
     "start_time": "2018-09-14T04:12:14.557104Z"
    }
   },
   "outputs": [
    {
     "name": "stdout",
     "output_type": "stream",
     "text": [
      "-0.25946641650237523\n"
     ]
    }
   ],
   "source": [
    "# select by position: iloc\n",
    "print(df.iloc[3, 1])"
   ]
  },
  {
   "cell_type": "code",
   "execution_count": 11,
   "metadata": {
    "ExecuteTime": {
     "end_time": "2018-09-14T04:12:14.595105Z",
     "start_time": "2018-09-14T04:12:14.574729Z"
    }
   },
   "outputs": [
    {
     "name": "stdout",
     "output_type": "stream",
     "text": [
      "                   A         B\n",
      "2013-01-04 -0.222577 -0.259466\n",
      "2013-01-05  2.440297  1.723404\n"
     ]
    }
   ],
   "source": [
    "# select by position: iloc\n",
    "print(df.iloc[3:5,0:2])"
   ]
  },
  {
   "cell_type": "code",
   "execution_count": 12,
   "metadata": {
    "ExecuteTime": {
     "end_time": "2018-09-14T04:12:14.632688Z",
     "start_time": "2018-09-14T04:12:14.609626Z"
    }
   },
   "outputs": [
    {
     "name": "stdout",
     "output_type": "stream",
     "text": [
      "                   A         C\n",
      "2013-01-02 -0.363628  1.359480\n",
      "2013-01-03  0.097201  0.798947\n",
      "2013-01-05  2.440297  0.824148\n"
     ]
    }
   ],
   "source": [
    "# select by position: iloc\n",
    "print(df.iloc[[1,2,4],[0,2]])"
   ]
  },
  {
   "cell_type": "code",
   "execution_count": 13,
   "metadata": {
    "ExecuteTime": {
     "end_time": "2018-09-14T04:12:14.664126Z",
     "start_time": "2018-09-14T04:12:14.640878Z"
    }
   },
   "outputs": [
    {
     "name": "stdout",
     "output_type": "stream",
     "text": [
      "                   A         C\n",
      "2013-01-01  0.560787  0.800120\n",
      "2013-01-02 -0.363628  1.359480\n",
      "2013-01-03  0.097201  0.798947\n"
     ]
    }
   ],
   "source": [
    "# mixed selection: ix is deprecated since pandas 0.20.0\n",
    "# print(df.ix[:3, ['A', 'C']])\n",
    "\n",
    "print(df.iloc[:3, df.columns.get_indexer(['A', 'C'])])"
   ]
  },
  {
   "cell_type": "code",
   "execution_count": 14,
   "metadata": {
    "ExecuteTime": {
     "end_time": "2018-09-14T04:12:14.682088Z",
     "start_time": "2018-09-14T04:12:14.669871Z"
    }
   },
   "outputs": [
    {
     "name": "stdout",
     "output_type": "stream",
     "text": [
      "                   A         C\n",
      "2013-01-01  0.560787  0.800120\n",
      "2013-01-02 -0.363628  1.359480\n",
      "2013-01-03  0.097201  0.798947\n"
     ]
    }
   ],
   "source": [
    "# mixed selection: ix is deprecated since pandas 0.20.0\n",
    "# print(df.ix[:3, ['A', 'C']])\n",
    "\n",
    "print(df.loc[df.index[:3], ['A', 'C']])"
   ]
  },
  {
   "cell_type": "code",
   "execution_count": 15,
   "metadata": {
    "ExecuteTime": {
     "end_time": "2018-09-14T04:12:14.718295Z",
     "start_time": "2018-09-14T04:12:14.696425Z"
    }
   },
   "outputs": [
    {
     "name": "stdout",
     "output_type": "stream",
     "text": [
      "                   A         B         C         D\n",
      "2013-01-01  0.560787 -0.335566  0.800120 -0.831453\n",
      "2013-01-03  0.097201  1.050034  0.798947  1.418150\n",
      "2013-01-05  2.440297  1.723404  0.824148  0.351805\n"
     ]
    }
   ],
   "source": [
    "# Boolean indexing\n",
    "print(df[df.A > 0])"
   ]
  }
 ],
 "metadata": {
  "kernelspec": {
   "display_name": "Python 3",
   "language": "python",
   "name": "python3"
  },
  "language_info": {
   "codemirror_mode": {
    "name": "ipython",
    "version": 3
   },
   "file_extension": ".py",
   "mimetype": "text/x-python",
   "name": "python",
   "nbconvert_exporter": "python",
   "pygments_lexer": "ipython3",
   "version": "3.6.3"
  },
  "toc": {
   "base_numbering": 1,
   "nav_menu": {},
   "number_sections": true,
   "sideBar": true,
   "skip_h1_title": false,
   "title_cell": "Table of Contents",
   "title_sidebar": "Contents",
   "toc_cell": false,
   "toc_position": {},
   "toc_section_display": true,
   "toc_window_display": false
  },
  "varInspector": {
   "cols": {
    "lenName": 16,
    "lenType": 16,
    "lenVar": 40
   },
   "kernels_config": {
    "python": {
     "delete_cmd_postfix": "",
     "delete_cmd_prefix": "del ",
     "library": "var_list.py",
     "varRefreshCmd": "print(var_dic_list())"
    },
    "r": {
     "delete_cmd_postfix": ") ",
     "delete_cmd_prefix": "rm(",
     "library": "var_list.r",
     "varRefreshCmd": "cat(var_dic_list()) "
    }
   },
   "types_to_exclude": [
    "module",
    "function",
    "builtin_function_or_method",
    "instance",
    "_Feature"
   ],
   "window_display": false
  }
 },
 "nbformat": 4,
 "nbformat_minor": 2
}
