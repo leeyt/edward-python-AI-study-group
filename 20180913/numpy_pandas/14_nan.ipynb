{
 "cells": [
  {
   "cell_type": "markdown",
   "metadata": {
    "ExecuteTime": {
     "end_time": "2018-09-14T03:54:57.225072Z",
     "start_time": "2018-09-14T03:54:57.215472Z"
    }
   },
   "source": [
    "# NaN\n",
    "\n",
    "View more python tutorials on my Youtube and Youku channel!!!\n",
    "\n",
    "Youtube video tutorial: https://www.youtube.com/channel/UCdyjiB5H8Pu7aDTNVXTTpcg  \n",
    "Youku video tutorial: http://i.youku.com/pythontutorial\n",
    "\n",
    "\n",
    "Please note, this code is only for python 3+. If you are using python 2+, please modify the code accordingly."
   ]
  },
  {
   "cell_type": "code",
   "execution_count": 1,
   "metadata": {
    "ExecuteTime": {
     "end_time": "2018-09-14T04:16:01.926931Z",
     "start_time": "2018-09-14T04:16:01.101226Z"
    }
   },
   "outputs": [
    {
     "name": "stdout",
     "output_type": "stream",
     "text": [
      "Pandas version: 0.20.3\n"
     ]
    }
   ],
   "source": [
    "import pandas as pd\n",
    "import numpy as np\n",
    "\n",
    "print('Pandas version:', pd.__version__)"
   ]
  },
  {
   "cell_type": "code",
   "execution_count": 2,
   "metadata": {
    "ExecuteTime": {
     "end_time": "2018-09-14T04:16:01.952489Z",
     "start_time": "2018-09-14T04:16:01.932131Z"
    }
   },
   "outputs": [
    {
     "name": "stdout",
     "output_type": "stream",
     "text": [
      "             A   B   C   D\n",
      "2013-01-01   0   1   2   3\n",
      "2013-01-02   4   5   6   7\n",
      "2013-01-03   8   9  10  11\n",
      "2013-01-04  12  13  14  15\n",
      "2013-01-05  16  17  18  19\n",
      "2013-01-06  20  21  22  23\n"
     ]
    }
   ],
   "source": [
    "dates = pd.date_range('20130101', periods=6)\n",
    "df = pd.DataFrame(np.arange(24).reshape((6,4)), index=dates, columns=['A', 'B', 'C', 'D'])\n",
    "\n",
    "print(df)"
   ]
  },
  {
   "cell_type": "code",
   "execution_count": 3,
   "metadata": {
    "ExecuteTime": {
     "end_time": "2018-09-14T04:16:01.983309Z",
     "start_time": "2018-09-14T04:16:01.958836Z"
    }
   },
   "outputs": [
    {
     "name": "stdout",
     "output_type": "stream",
     "text": [
      "             A     B     C   D\n",
      "2013-01-01   0   NaN   2.0   3\n",
      "2013-01-02   4   5.0   NaN   7\n",
      "2013-01-03   8   9.0  10.0  11\n",
      "2013-01-04  12  13.0  14.0  15\n",
      "2013-01-05  16  17.0  18.0  19\n",
      "2013-01-06  20  21.0  22.0  23\n"
     ]
    }
   ],
   "source": [
    "df.iloc[0,1] = np.nan\n",
    "df.iloc[1,2] = np.nan\n",
    "\n",
    "print(df)"
   ]
  },
  {
   "cell_type": "code",
   "execution_count": 4,
   "metadata": {
    "ExecuteTime": {
     "end_time": "2018-09-14T04:16:02.013846Z",
     "start_time": "2018-09-14T04:16:01.989573Z"
    }
   },
   "outputs": [
    {
     "name": "stdout",
     "output_type": "stream",
     "text": [
      "             A     B     C   D\n",
      "2013-01-03   8   9.0  10.0  11\n",
      "2013-01-04  12  13.0  14.0  15\n",
      "2013-01-05  16  17.0  18.0  19\n",
      "2013-01-06  20  21.0  22.0  23\n"
     ]
    }
   ],
   "source": [
    "print(df.dropna(axis=0, how='any'))   # how={'any', 'all'}"
   ]
  },
  {
   "cell_type": "code",
   "execution_count": 5,
   "metadata": {
    "ExecuteTime": {
     "end_time": "2018-09-14T04:16:02.099322Z",
     "start_time": "2018-09-14T04:16:02.020947Z"
    }
   },
   "outputs": [
    {
     "name": "stdout",
     "output_type": "stream",
     "text": [
      "             A     B     C   D\n",
      "2013-01-01   0   0.0   2.0   3\n",
      "2013-01-02   4   5.0   0.0   7\n",
      "2013-01-03   8   9.0  10.0  11\n",
      "2013-01-04  12  13.0  14.0  15\n",
      "2013-01-05  16  17.0  18.0  19\n",
      "2013-01-06  20  21.0  22.0  23\n"
     ]
    }
   ],
   "source": [
    "print(df.fillna(value=0))"
   ]
  },
  {
   "cell_type": "code",
   "execution_count": 6,
   "metadata": {
    "ExecuteTime": {
     "end_time": "2018-09-14T04:16:02.129232Z",
     "start_time": "2018-09-14T04:16:02.107898Z"
    }
   },
   "outputs": [
    {
     "name": "stdout",
     "output_type": "stream",
     "text": [
      "                A      B      C      D\n",
      "2013-01-01  False   True  False  False\n",
      "2013-01-02  False  False   True  False\n",
      "2013-01-03  False  False  False  False\n",
      "2013-01-04  False  False  False  False\n",
      "2013-01-05  False  False  False  False\n",
      "2013-01-06  False  False  False  False\n"
     ]
    }
   ],
   "source": [
    "print(pd.isnull(df))"
   ]
  }
 ],
 "metadata": {
  "kernelspec": {
   "display_name": "Python 3",
   "language": "python",
   "name": "python3"
  },
  "language_info": {
   "codemirror_mode": {
    "name": "ipython",
    "version": 3
   },
   "file_extension": ".py",
   "mimetype": "text/x-python",
   "name": "python",
   "nbconvert_exporter": "python",
   "pygments_lexer": "ipython3",
   "version": "3.6.3"
  },
  "toc": {
   "base_numbering": 1,
   "nav_menu": {},
   "number_sections": true,
   "sideBar": true,
   "skip_h1_title": false,
   "title_cell": "Table of Contents",
   "title_sidebar": "Contents",
   "toc_cell": false,
   "toc_position": {},
   "toc_section_display": true,
   "toc_window_display": false
  },
  "varInspector": {
   "cols": {
    "lenName": 16,
    "lenType": 16,
    "lenVar": 40
   },
   "kernels_config": {
    "python": {
     "delete_cmd_postfix": "",
     "delete_cmd_prefix": "del ",
     "library": "var_list.py",
     "varRefreshCmd": "print(var_dic_list())"
    },
    "r": {
     "delete_cmd_postfix": ") ",
     "delete_cmd_prefix": "rm(",
     "library": "var_list.r",
     "varRefreshCmd": "cat(var_dic_list()) "
    }
   },
   "types_to_exclude": [
    "module",
    "function",
    "builtin_function_or_method",
    "instance",
    "_Feature"
   ],
   "window_display": false
  }
 },
 "nbformat": 4,
 "nbformat_minor": 2
}
