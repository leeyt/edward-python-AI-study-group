{
 "cells": [
  {
   "cell_type": "code",
   "execution_count": 1,
   "metadata": {
    "collapsed": false
   },
   "outputs": [],
   "source": [
    "# 分组变换和分析\n",
    "import matplotlib.pyplot as plt\n",
    "import numpy as np\n",
    "import pandas as pd\n",
    "import random\n",
    "import string\n",
    "import tushare as ts # Yahoo的接口不能指望了\n",
    "from pandas import DataFrame, Series\n",
    "from pandas.tseries.offsets import Day, Hour, Minute, MonthEnd\n",
    "from sklearn.linear_model import LinearRegression\n",
    "\n",
    "%matplotlib inline"
   ]
  },
  {
   "cell_type": "code",
   "execution_count": 2,
   "metadata": {
    "collapsed": false
   },
   "outputs": [
    {
     "data": {
      "text/plain": [
       "array(['MQNCX', 'IJYOS', 'CTAMU', 'DAANV', 'PAQJB', 'FBHXO', 'NRXGH',\n",
       "       'BBTFB', 'WEZHG', 'VSJOL'],\n",
       "      dtype='<U5')"
      ]
     },
     "execution_count": 2,
     "metadata": {},
     "output_type": "execute_result"
    }
   ],
   "source": [
    "N = 1000\n",
    "def rands(n):\n",
    "  choices = string.ascii_uppercase\n",
    "  return ''.join([random.choice(choices) for _ in range(n)])\n",
    "tickers = np.array([rands(5) for _ in range(N)])\n",
    "tickers[:10] # 随机生成1000个股票代码，显示前10个。"
   ]
  },
  {
   "cell_type": "code",
   "execution_count": 3,
   "metadata": {
    "collapsed": false
   },
   "outputs": [
    {
     "data": {
      "text/html": [
       "<div>\n",
       "<style>\n",
       "    .dataframe thead tr:only-child th {\n",
       "        text-align: right;\n",
       "    }\n",
       "\n",
       "    .dataframe thead th {\n",
       "        text-align: left;\n",
       "    }\n",
       "\n",
       "    .dataframe tbody tr th {\n",
       "        vertical-align: top;\n",
       "    }\n",
       "</style>\n",
       "<table border=\"1\" class=\"dataframe\">\n",
       "  <thead>\n",
       "    <tr style=\"text-align: right;\">\n",
       "      <th></th>\n",
       "      <th>Momentum</th>\n",
       "      <th>ShortInterest</th>\n",
       "      <th>Value</th>\n",
       "    </tr>\n",
       "  </thead>\n",
       "  <tbody>\n",
       "    <tr>\n",
       "      <th>MQNCX</th>\n",
       "      <td>0.033327</td>\n",
       "      <td>-0.022390</td>\n",
       "      <td>0.080698</td>\n",
       "    </tr>\n",
       "    <tr>\n",
       "      <th>IJYOS</th>\n",
       "      <td>0.045715</td>\n",
       "      <td>-0.018835</td>\n",
       "      <td>0.093913</td>\n",
       "    </tr>\n",
       "    <tr>\n",
       "      <th>CTAMU</th>\n",
       "      <td>0.030443</td>\n",
       "      <td>-0.014324</td>\n",
       "      <td>0.073361</td>\n",
       "    </tr>\n",
       "    <tr>\n",
       "      <th>DAANV</th>\n",
       "      <td>0.021882</td>\n",
       "      <td>-0.012971</td>\n",
       "      <td>0.079016</td>\n",
       "    </tr>\n",
       "    <tr>\n",
       "      <th>PAQJB</th>\n",
       "      <td>0.030116</td>\n",
       "      <td>-0.025061</td>\n",
       "      <td>0.079561</td>\n",
       "    </tr>\n",
       "  </tbody>\n",
       "</table>\n",
       "</div>"
      ],
      "text/plain": [
       "       Momentum  ShortInterest     Value\n",
       "MQNCX  0.033327      -0.022390  0.080698\n",
       "IJYOS  0.045715      -0.018835  0.093913\n",
       "CTAMU  0.030443      -0.014324  0.073361\n",
       "DAANV  0.021882      -0.012971  0.079016\n",
       "PAQJB  0.030116      -0.025061  0.079561"
      ]
     },
     "execution_count": 3,
     "metadata": {},
     "output_type": "execute_result"
    }
   ],
   "source": [
    "M = 500\n",
    "df = DataFrame({'Momentum' : np.random.randn(M) / 200 + 0.03,\n",
    "                'Value' : np.random.randn(M) / 200 + 0.08,\n",
    "                'ShortInterest' : np.random.randn(M) / 200 - 0.02},\n",
    "               index=tickers[:M])\n",
    "df.head()"
   ]
  },
  {
   "cell_type": "code",
   "execution_count": 4,
   "metadata": {
    "collapsed": false
   },
   "outputs": [
    {
     "data": {
      "text/plain": [
       "MQNCX         TECH\n",
       "IJYOS    FINANCIAL\n",
       "CTAMU         TECH\n",
       "DAANV         TECH\n",
       "PAQJB         TECH\n",
       "Name: industry, dtype: object"
      ]
     },
     "execution_count": 4,
     "metadata": {},
     "output_type": "execute_result"
    }
   ],
   "source": [
    "ind_names = np.array(['FINANCIAL', 'TECH'])\n",
    "sampler = np.random.randint(0, len(ind_names), N)\n",
    "industries = Series(ind_names[sampler],\n",
    "                    index=tickers,\n",
    "                    name='industry')\n",
    "industries.head() # 随机给公司分类，financial或tech。"
   ]
  },
  {
   "cell_type": "code",
   "execution_count": 5,
   "metadata": {
    "collapsed": false
   },
   "outputs": [
    {
     "data": {
      "text/html": [
       "<div>\n",
       "<style>\n",
       "    .dataframe thead tr:only-child th {\n",
       "        text-align: right;\n",
       "    }\n",
       "\n",
       "    .dataframe thead th {\n",
       "        text-align: left;\n",
       "    }\n",
       "\n",
       "    .dataframe tbody tr th {\n",
       "        vertical-align: top;\n",
       "    }\n",
       "</style>\n",
       "<table border=\"1\" class=\"dataframe\">\n",
       "  <thead>\n",
       "    <tr style=\"text-align: right;\">\n",
       "      <th></th>\n",
       "      <th>Momentum</th>\n",
       "      <th>ShortInterest</th>\n",
       "      <th>Value</th>\n",
       "    </tr>\n",
       "    <tr>\n",
       "      <th>industry</th>\n",
       "      <th></th>\n",
       "      <th></th>\n",
       "      <th></th>\n",
       "    </tr>\n",
       "  </thead>\n",
       "  <tbody>\n",
       "    <tr>\n",
       "      <th>FINANCIAL</th>\n",
       "      <td>0.030235</td>\n",
       "      <td>-0.020340</td>\n",
       "      <td>0.079965</td>\n",
       "    </tr>\n",
       "    <tr>\n",
       "      <th>TECH</th>\n",
       "      <td>0.030338</td>\n",
       "      <td>-0.019692</td>\n",
       "      <td>0.079927</td>\n",
       "    </tr>\n",
       "  </tbody>\n",
       "</table>\n",
       "</div>"
      ],
      "text/plain": [
       "           Momentum  ShortInterest     Value\n",
       "industry                                    \n",
       "FINANCIAL  0.030235      -0.020340  0.079965\n",
       "TECH       0.030338      -0.019692  0.079927"
      ]
     },
     "execution_count": 5,
     "metadata": {},
     "output_type": "execute_result"
    }
   ],
   "source": [
    "by_industry = df.groupby(industries)\n",
    "by_industry.mean() # 计算按行业分组的平均值"
   ]
  },
  {
   "cell_type": "code",
   "execution_count": 6,
   "metadata": {
    "collapsed": false
   },
   "outputs": [
    {
     "data": {
      "text/html": [
       "<div>\n",
       "<style>\n",
       "    .dataframe thead tr:only-child th {\n",
       "        text-align: right;\n",
       "    }\n",
       "\n",
       "    .dataframe thead th {\n",
       "        text-align: left;\n",
       "    }\n",
       "\n",
       "    .dataframe tbody tr th {\n",
       "        vertical-align: top;\n",
       "    }\n",
       "</style>\n",
       "<table border=\"1\" class=\"dataframe\">\n",
       "  <thead>\n",
       "    <tr>\n",
       "      <th></th>\n",
       "      <th colspan=\"8\" halign=\"left\">Momentum</th>\n",
       "      <th colspan=\"5\" halign=\"left\">ShortInterest</th>\n",
       "      <th colspan=\"8\" halign=\"left\">Value</th>\n",
       "    </tr>\n",
       "    <tr>\n",
       "      <th></th>\n",
       "      <th>count</th>\n",
       "      <th>mean</th>\n",
       "      <th>std</th>\n",
       "      <th>min</th>\n",
       "      <th>25%</th>\n",
       "      <th>50%</th>\n",
       "      <th>75%</th>\n",
       "      <th>max</th>\n",
       "      <th>count</th>\n",
       "      <th>mean</th>\n",
       "      <th>...</th>\n",
       "      <th>75%</th>\n",
       "      <th>max</th>\n",
       "      <th>count</th>\n",
       "      <th>mean</th>\n",
       "      <th>std</th>\n",
       "      <th>min</th>\n",
       "      <th>25%</th>\n",
       "      <th>50%</th>\n",
       "      <th>75%</th>\n",
       "      <th>max</th>\n",
       "    </tr>\n",
       "    <tr>\n",
       "      <th>industry</th>\n",
       "      <th></th>\n",
       "      <th></th>\n",
       "      <th></th>\n",
       "      <th></th>\n",
       "      <th></th>\n",
       "      <th></th>\n",
       "      <th></th>\n",
       "      <th></th>\n",
       "      <th></th>\n",
       "      <th></th>\n",
       "      <th></th>\n",
       "      <th></th>\n",
       "      <th></th>\n",
       "      <th></th>\n",
       "      <th></th>\n",
       "      <th></th>\n",
       "      <th></th>\n",
       "      <th></th>\n",
       "      <th></th>\n",
       "      <th></th>\n",
       "      <th></th>\n",
       "    </tr>\n",
       "  </thead>\n",
       "  <tbody>\n",
       "    <tr>\n",
       "      <th>FINANCIAL</th>\n",
       "      <td>230.0</td>\n",
       "      <td>0.030235</td>\n",
       "      <td>0.004861</td>\n",
       "      <td>0.018799</td>\n",
       "      <td>0.027297</td>\n",
       "      <td>0.029913</td>\n",
       "      <td>0.032982</td>\n",
       "      <td>0.046882</td>\n",
       "      <td>230.0</td>\n",
       "      <td>-0.020340</td>\n",
       "      <td>...</td>\n",
       "      <td>-0.017302</td>\n",
       "      <td>-0.006896</td>\n",
       "      <td>230.0</td>\n",
       "      <td>0.079965</td>\n",
       "      <td>0.005032</td>\n",
       "      <td>0.064342</td>\n",
       "      <td>0.076482</td>\n",
       "      <td>0.079450</td>\n",
       "      <td>0.083322</td>\n",
       "      <td>0.094006</td>\n",
       "    </tr>\n",
       "    <tr>\n",
       "      <th>TECH</th>\n",
       "      <td>270.0</td>\n",
       "      <td>0.030338</td>\n",
       "      <td>0.004785</td>\n",
       "      <td>0.017966</td>\n",
       "      <td>0.027037</td>\n",
       "      <td>0.030376</td>\n",
       "      <td>0.033564</td>\n",
       "      <td>0.043232</td>\n",
       "      <td>270.0</td>\n",
       "      <td>-0.019692</td>\n",
       "      <td>...</td>\n",
       "      <td>-0.016145</td>\n",
       "      <td>-0.004464</td>\n",
       "      <td>270.0</td>\n",
       "      <td>0.079927</td>\n",
       "      <td>0.005413</td>\n",
       "      <td>0.059576</td>\n",
       "      <td>0.076253</td>\n",
       "      <td>0.079672</td>\n",
       "      <td>0.083438</td>\n",
       "      <td>0.093884</td>\n",
       "    </tr>\n",
       "  </tbody>\n",
       "</table>\n",
       "<p>2 rows × 24 columns</p>\n",
       "</div>"
      ],
      "text/plain": [
       "          Momentum                                                    \\\n",
       "             count      mean       std       min       25%       50%   \n",
       "industry                                                               \n",
       "FINANCIAL    230.0  0.030235  0.004861  0.018799  0.027297  0.029913   \n",
       "TECH         270.0  0.030338  0.004785  0.017966  0.027037  0.030376   \n",
       "\n",
       "                              ShortInterest              ...               \\\n",
       "                75%       max         count      mean    ...          75%   \n",
       "industry                                                 ...                \n",
       "FINANCIAL  0.032982  0.046882         230.0 -0.020340    ...    -0.017302   \n",
       "TECH       0.033564  0.043232         270.0 -0.019692    ...    -0.016145   \n",
       "\n",
       "                     Value                                                    \\\n",
       "                max  count      mean       std       min       25%       50%   \n",
       "industry                                                                       \n",
       "FINANCIAL -0.006896  230.0  0.079965  0.005032  0.064342  0.076482  0.079450   \n",
       "TECH      -0.004464  270.0  0.079927  0.005413  0.059576  0.076253  0.079672   \n",
       "\n",
       "                               \n",
       "                75%       max  \n",
       "industry                       \n",
       "FINANCIAL  0.083322  0.094006  \n",
       "TECH       0.083438  0.093884  \n",
       "\n",
       "[2 rows x 24 columns]"
      ]
     },
     "execution_count": 6,
     "metadata": {},
     "output_type": "execute_result"
    }
   ],
   "source": [
    "by_industry.describe()"
   ]
  },
  {
   "cell_type": "code",
   "execution_count": 7,
   "metadata": {
    "collapsed": true
   },
   "outputs": [],
   "source": [
    "def zscore(group):\n",
    "  return (group - group.mean()) / group.std()"
   ]
  },
  {
   "cell_type": "code",
   "execution_count": 8,
   "metadata": {
    "collapsed": false
   },
   "outputs": [
    {
     "data": {
      "text/html": [
       "<div>\n",
       "<style>\n",
       "    .dataframe thead tr:only-child th {\n",
       "        text-align: right;\n",
       "    }\n",
       "\n",
       "    .dataframe thead th {\n",
       "        text-align: left;\n",
       "    }\n",
       "\n",
       "    .dataframe tbody tr th {\n",
       "        vertical-align: top;\n",
       "    }\n",
       "</style>\n",
       "<table border=\"1\" class=\"dataframe\">\n",
       "  <thead>\n",
       "    <tr style=\"text-align: right;\">\n",
       "      <th></th>\n",
       "      <th>Momentum</th>\n",
       "      <th>ShortInterest</th>\n",
       "      <th>Value</th>\n",
       "    </tr>\n",
       "  </thead>\n",
       "  <tbody>\n",
       "    <tr>\n",
       "      <th>MQNCX</th>\n",
       "      <td>0.624594</td>\n",
       "      <td>-0.539440</td>\n",
       "      <td>0.142331</td>\n",
       "    </tr>\n",
       "    <tr>\n",
       "      <th>IJYOS</th>\n",
       "      <td>3.184773</td>\n",
       "      <td>0.314931</td>\n",
       "      <td>2.771779</td>\n",
       "    </tr>\n",
       "    <tr>\n",
       "      <th>CTAMU</th>\n",
       "      <td>0.021955</td>\n",
       "      <td>1.073453</td>\n",
       "      <td>-1.212983</td>\n",
       "    </tr>\n",
       "    <tr>\n",
       "      <th>DAANV</th>\n",
       "      <td>-1.767286</td>\n",
       "      <td>1.344028</td>\n",
       "      <td>-0.168335</td>\n",
       "    </tr>\n",
       "    <tr>\n",
       "      <th>PAQJB</th>\n",
       "      <td>-0.046455</td>\n",
       "      <td>-1.073684</td>\n",
       "      <td>-0.067583</td>\n",
       "    </tr>\n",
       "  </tbody>\n",
       "</table>\n",
       "</div>"
      ],
      "text/plain": [
       "       Momentum  ShortInterest     Value\n",
       "MQNCX  0.624594      -0.539440  0.142331\n",
       "IJYOS  3.184773       0.314931  2.771779\n",
       "CTAMU  0.021955       1.073453 -1.212983\n",
       "DAANV -1.767286       1.344028 -0.168335\n",
       "PAQJB -0.046455      -1.073684 -0.067583"
      ]
     },
     "execution_count": 8,
     "metadata": {},
     "output_type": "execute_result"
    }
   ],
   "source": [
    "df_stand = by_industry.apply(zscore) # 每个股票减去所在分组的平均值再除标准差\n",
    "df_stand.head()"
   ]
  },
  {
   "cell_type": "code",
   "execution_count": 9,
   "metadata": {
    "collapsed": false
   },
   "outputs": [
    {
     "data": {
      "text/html": [
       "<div>\n",
       "<style>\n",
       "    .dataframe thead tr:only-child th {\n",
       "        text-align: right;\n",
       "    }\n",
       "\n",
       "    .dataframe thead th {\n",
       "        text-align: left;\n",
       "    }\n",
       "\n",
       "    .dataframe tbody tr th {\n",
       "        vertical-align: top;\n",
       "    }\n",
       "</style>\n",
       "<table border=\"1\" class=\"dataframe\">\n",
       "  <thead>\n",
       "    <tr>\n",
       "      <th></th>\n",
       "      <th colspan=\"2\" halign=\"left\">Momentum</th>\n",
       "      <th colspan=\"2\" halign=\"left\">ShortInterest</th>\n",
       "      <th colspan=\"2\" halign=\"left\">Value</th>\n",
       "    </tr>\n",
       "    <tr>\n",
       "      <th></th>\n",
       "      <th>mean</th>\n",
       "      <th>std</th>\n",
       "      <th>mean</th>\n",
       "      <th>std</th>\n",
       "      <th>mean</th>\n",
       "      <th>std</th>\n",
       "    </tr>\n",
       "    <tr>\n",
       "      <th>industry</th>\n",
       "      <th></th>\n",
       "      <th></th>\n",
       "      <th></th>\n",
       "      <th></th>\n",
       "      <th></th>\n",
       "      <th></th>\n",
       "    </tr>\n",
       "  </thead>\n",
       "  <tbody>\n",
       "    <tr>\n",
       "      <th>FINANCIAL</th>\n",
       "      <td>4.962818e-16</td>\n",
       "      <td>1.0</td>\n",
       "      <td>2.280302e-15</td>\n",
       "      <td>1.0</td>\n",
       "      <td>1.915316e-14</td>\n",
       "      <td>1.0</td>\n",
       "    </tr>\n",
       "    <tr>\n",
       "      <th>TECH</th>\n",
       "      <td>7.822960e-16</td>\n",
       "      <td>1.0</td>\n",
       "      <td>-1.085551e-16</td>\n",
       "      <td>1.0</td>\n",
       "      <td>-2.607970e-15</td>\n",
       "      <td>1.0</td>\n",
       "    </tr>\n",
       "  </tbody>\n",
       "</table>\n",
       "</div>"
      ],
      "text/plain": [
       "               Momentum      ShortInterest              Value     \n",
       "                   mean  std          mean  std          mean  std\n",
       "industry                                                          \n",
       "FINANCIAL  4.962818e-16  1.0  2.280302e-15  1.0  1.915316e-14  1.0\n",
       "TECH       7.822960e-16  1.0 -1.085551e-16  1.0 -2.607970e-15  1.0"
      ]
     },
     "execution_count": 9,
     "metadata": {},
     "output_type": "execute_result"
    }
   ],
   "source": [
    "df_stand.groupby(industries).agg(['mean', 'std']) # 显然均值为0，标准差为1。看下zscore公式就明白了。"
   ]
  },
  {
   "cell_type": "code",
   "execution_count": 10,
   "metadata": {
    "collapsed": false
   },
   "outputs": [
    {
     "data": {
      "text/html": [
       "<div>\n",
       "<style>\n",
       "    .dataframe thead tr:only-child th {\n",
       "        text-align: right;\n",
       "    }\n",
       "\n",
       "    .dataframe thead th {\n",
       "        text-align: left;\n",
       "    }\n",
       "\n",
       "    .dataframe tbody tr th {\n",
       "        vertical-align: top;\n",
       "    }\n",
       "</style>\n",
       "<table border=\"1\" class=\"dataframe\">\n",
       "  <thead>\n",
       "    <tr style=\"text-align: right;\">\n",
       "      <th></th>\n",
       "      <th>Momentum</th>\n",
       "      <th>ShortInterest</th>\n",
       "      <th>Value</th>\n",
       "    </tr>\n",
       "  </thead>\n",
       "  <tbody>\n",
       "    <tr>\n",
       "      <th>MQNCX</th>\n",
       "      <td>76.0</td>\n",
       "      <td>188.0</td>\n",
       "      <td>114.0</td>\n",
       "    </tr>\n",
       "    <tr>\n",
       "      <th>IJYOS</th>\n",
       "      <td>2.0</td>\n",
       "      <td>84.0</td>\n",
       "      <td>2.0</td>\n",
       "    </tr>\n",
       "    <tr>\n",
       "      <th>CTAMU</th>\n",
       "      <td>134.0</td>\n",
       "      <td>38.0</td>\n",
       "      <td>243.0</td>\n",
       "    </tr>\n",
       "    <tr>\n",
       "      <th>DAANV</th>\n",
       "      <td>260.0</td>\n",
       "      <td>25.0</td>\n",
       "      <td>152.0</td>\n",
       "    </tr>\n",
       "    <tr>\n",
       "      <th>PAQJB</th>\n",
       "      <td>143.0</td>\n",
       "      <td>234.0</td>\n",
       "      <td>142.0</td>\n",
       "    </tr>\n",
       "  </tbody>\n",
       "</table>\n",
       "</div>"
      ],
      "text/plain": [
       "       Momentum  ShortInterest  Value\n",
       "MQNCX      76.0          188.0  114.0\n",
       "IJYOS       2.0           84.0    2.0\n",
       "CTAMU     134.0           38.0  243.0\n",
       "DAANV     260.0           25.0  152.0\n",
       "PAQJB     143.0          234.0  142.0"
      ]
     },
     "execution_count": 10,
     "metadata": {},
     "output_type": "execute_result"
    }
   ],
   "source": [
    "ind_rank = by_industry.rank(ascending=False)\n",
    "ind_rank.head()"
   ]
  },
  {
   "cell_type": "code",
   "execution_count": 11,
   "metadata": {
    "collapsed": false
   },
   "outputs": [
    {
     "data": {
      "text/html": [
       "<div>\n",
       "<style>\n",
       "    .dataframe thead tr:only-child th {\n",
       "        text-align: right;\n",
       "    }\n",
       "\n",
       "    .dataframe thead th {\n",
       "        text-align: left;\n",
       "    }\n",
       "\n",
       "    .dataframe tbody tr th {\n",
       "        vertical-align: top;\n",
       "    }\n",
       "</style>\n",
       "<table border=\"1\" class=\"dataframe\">\n",
       "  <thead>\n",
       "    <tr>\n",
       "      <th></th>\n",
       "      <th colspan=\"2\" halign=\"left\">Momentum</th>\n",
       "      <th colspan=\"2\" halign=\"left\">ShortInterest</th>\n",
       "      <th colspan=\"2\" halign=\"left\">Value</th>\n",
       "    </tr>\n",
       "    <tr>\n",
       "      <th></th>\n",
       "      <th>min</th>\n",
       "      <th>max</th>\n",
       "      <th>min</th>\n",
       "      <th>max</th>\n",
       "      <th>min</th>\n",
       "      <th>max</th>\n",
       "    </tr>\n",
       "    <tr>\n",
       "      <th>industry</th>\n",
       "      <th></th>\n",
       "      <th></th>\n",
       "      <th></th>\n",
       "      <th></th>\n",
       "      <th></th>\n",
       "      <th></th>\n",
       "    </tr>\n",
       "  </thead>\n",
       "  <tbody>\n",
       "    <tr>\n",
       "      <th>FINANCIAL</th>\n",
       "      <td>1.0</td>\n",
       "      <td>230.0</td>\n",
       "      <td>1.0</td>\n",
       "      <td>230.0</td>\n",
       "      <td>1.0</td>\n",
       "      <td>230.0</td>\n",
       "    </tr>\n",
       "    <tr>\n",
       "      <th>TECH</th>\n",
       "      <td>1.0</td>\n",
       "      <td>270.0</td>\n",
       "      <td>1.0</td>\n",
       "      <td>270.0</td>\n",
       "      <td>1.0</td>\n",
       "      <td>270.0</td>\n",
       "    </tr>\n",
       "  </tbody>\n",
       "</table>\n",
       "</div>"
      ],
      "text/plain": [
       "          Momentum        ShortInterest        Value       \n",
       "               min    max           min    max   min    max\n",
       "industry                                                   \n",
       "FINANCIAL      1.0  230.0           1.0  230.0   1.0  230.0\n",
       "TECH           1.0  270.0           1.0  270.0   1.0  270.0"
      ]
     },
     "execution_count": 11,
     "metadata": {},
     "output_type": "execute_result"
    }
   ],
   "source": [
    "ind_rank.groupby(industries).agg(['min', 'max'])"
   ]
  },
  {
   "cell_type": "code",
   "execution_count": 12,
   "metadata": {
    "collapsed": false
   },
   "outputs": [
    {
     "data": {
      "text/html": [
       "<div>\n",
       "<style>\n",
       "    .dataframe thead tr:only-child th {\n",
       "        text-align: right;\n",
       "    }\n",
       "\n",
       "    .dataframe thead th {\n",
       "        text-align: left;\n",
       "    }\n",
       "\n",
       "    .dataframe tbody tr th {\n",
       "        vertical-align: top;\n",
       "    }\n",
       "</style>\n",
       "<table border=\"1\" class=\"dataframe\">\n",
       "  <thead>\n",
       "    <tr style=\"text-align: right;\">\n",
       "      <th></th>\n",
       "      <th>Momentum</th>\n",
       "      <th>ShortInterest</th>\n",
       "      <th>Value</th>\n",
       "    </tr>\n",
       "  </thead>\n",
       "  <tbody>\n",
       "    <tr>\n",
       "      <th>MQNCX</th>\n",
       "      <td>0.761976</td>\n",
       "      <td>-0.672331</td>\n",
       "      <td>0.275336</td>\n",
       "    </tr>\n",
       "    <tr>\n",
       "      <th>IJYOS</th>\n",
       "      <td>1.705755</td>\n",
       "      <td>0.473403</td>\n",
       "      <td>1.705755</td>\n",
       "    </tr>\n",
       "    <tr>\n",
       "      <th>CTAMU</th>\n",
       "      <td>0.019209</td>\n",
       "      <td>1.248615</td>\n",
       "      <td>-1.376679</td>\n",
       "    </tr>\n",
       "    <tr>\n",
       "      <th>DAANV</th>\n",
       "      <td>-1.594386</td>\n",
       "      <td>1.415098</td>\n",
       "      <td>-0.211304</td>\n",
       "    </tr>\n",
       "    <tr>\n",
       "      <th>PAQJB</th>\n",
       "      <td>-0.096047</td>\n",
       "      <td>-1.261422</td>\n",
       "      <td>-0.083241</td>\n",
       "    </tr>\n",
       "  </tbody>\n",
       "</table>\n",
       "</div>"
      ],
      "text/plain": [
       "       Momentum  ShortInterest     Value\n",
       "MQNCX  0.761976      -0.672331  0.275336\n",
       "IJYOS  1.705755       0.473403  1.705755\n",
       "CTAMU  0.019209       1.248615 -1.376679\n",
       "DAANV -1.594386       1.415098 -0.211304\n",
       "PAQJB -0.096047      -1.261422 -0.083241"
      ]
     },
     "execution_count": 12,
     "metadata": {},
     "output_type": "execute_result"
    }
   ],
   "source": [
    "by_industry.apply(lambda x: zscore(x.rank())).head() # 标准化排名数据"
   ]
  },
  {
   "cell_type": "code",
   "execution_count": 13,
   "metadata": {
    "collapsed": true
   },
   "outputs": [],
   "source": [
    "# 分组因子暴露"
   ]
  },
  {
   "cell_type": "code",
   "execution_count": 14,
   "metadata": {
    "collapsed": false
   },
   "outputs": [
    {
     "data": {
      "text/plain": [
       "array(['DMIQP', 'VZJDZ', 'JZISA', 'BRGLD', 'MNRHS', 'PPCPE', 'KWSMF',\n",
       "       'NHPNA', 'ZTUMI', 'BNBRW'],\n",
       "      dtype='<U5')"
      ]
     },
     "execution_count": 14,
     "metadata": {},
     "output_type": "execute_result"
    }
   ],
   "source": [
    "fac1, fac2, fac3 = np.random.rand(3, 1000)\n",
    "ticker_subset = tickers.take(np.random.permutation(N)[:1000])\n",
    "ticker_subset[:10]"
   ]
  },
  {
   "cell_type": "code",
   "execution_count": 15,
   "metadata": {
    "collapsed": false
   },
   "outputs": [
    {
     "data": {
      "text/plain": [
       "DMIQP    0.489926\n",
       "VZJDZ    1.183795\n",
       "JZISA    0.866891\n",
       "BRGLD    0.316336\n",
       "MNRHS    0.132618\n",
       "dtype: float64"
      ]
     },
     "execution_count": 15,
     "metadata": {},
     "output_type": "execute_result"
    }
   ],
   "source": [
    "port = Series(0.7 * fac1 - 1.2 * fac2 + 0.3 * fac3 + np.random.rand(1000),\n",
    "              index=ticker_subset)\n",
    "port.head()"
   ]
  },
  {
   "cell_type": "code",
   "execution_count": 16,
   "metadata": {
    "collapsed": false
   },
   "outputs": [
    {
     "data": {
      "text/html": [
       "<div>\n",
       "<style>\n",
       "    .dataframe thead tr:only-child th {\n",
       "        text-align: right;\n",
       "    }\n",
       "\n",
       "    .dataframe thead th {\n",
       "        text-align: left;\n",
       "    }\n",
       "\n",
       "    .dataframe tbody tr th {\n",
       "        vertical-align: top;\n",
       "    }\n",
       "</style>\n",
       "<table border=\"1\" class=\"dataframe\">\n",
       "  <thead>\n",
       "    <tr style=\"text-align: right;\">\n",
       "      <th></th>\n",
       "      <th>f1</th>\n",
       "      <th>f2</th>\n",
       "      <th>f3</th>\n",
       "    </tr>\n",
       "  </thead>\n",
       "  <tbody>\n",
       "    <tr>\n",
       "      <th>DMIQP</th>\n",
       "      <td>0.149764</td>\n",
       "      <td>0.530645</td>\n",
       "      <td>0.568934</td>\n",
       "    </tr>\n",
       "    <tr>\n",
       "      <th>VZJDZ</th>\n",
       "      <td>0.650494</td>\n",
       "      <td>0.085542</td>\n",
       "      <td>0.449133</td>\n",
       "    </tr>\n",
       "    <tr>\n",
       "      <th>JZISA</th>\n",
       "      <td>0.959627</td>\n",
       "      <td>0.070090</td>\n",
       "      <td>0.220922</td>\n",
       "    </tr>\n",
       "    <tr>\n",
       "      <th>BRGLD</th>\n",
       "      <td>0.591602</td>\n",
       "      <td>0.515622</td>\n",
       "      <td>0.657364</td>\n",
       "    </tr>\n",
       "    <tr>\n",
       "      <th>MNRHS</th>\n",
       "      <td>0.150281</td>\n",
       "      <td>0.137429</td>\n",
       "      <td>0.059683</td>\n",
       "    </tr>\n",
       "  </tbody>\n",
       "</table>\n",
       "</div>"
      ],
      "text/plain": [
       "             f1        f2        f3\n",
       "DMIQP  0.149764  0.530645  0.568934\n",
       "VZJDZ  0.650494  0.085542  0.449133\n",
       "JZISA  0.959627  0.070090  0.220922\n",
       "BRGLD  0.591602  0.515622  0.657364\n",
       "MNRHS  0.150281  0.137429  0.059683"
      ]
     },
     "execution_count": 16,
     "metadata": {},
     "output_type": "execute_result"
    }
   ],
   "source": [
    "factors = DataFrame({'f1': fac1, 'f2': fac2, 'f3': fac3},\n",
    "                    index=ticker_subset)\n",
    "factors.head()"
   ]
  },
  {
   "cell_type": "code",
   "execution_count": 17,
   "metadata": {
    "collapsed": false
   },
   "outputs": [
    {
     "data": {
      "text/plain": [
       "f1    0.418460\n",
       "f2   -0.676459\n",
       "f3    0.230189\n",
       "dtype: float64"
      ]
     },
     "execution_count": 17,
     "metadata": {},
     "output_type": "execute_result"
    }
   ],
   "source": [
    "factors.corrwith(port) # 相关系数"
   ]
  },
  {
   "cell_type": "code",
   "execution_count": 18,
   "metadata": {
    "collapsed": false
   },
   "outputs": [],
   "source": [
    "# pd.ols(y=port, x=factors).beta 遗憾的是pandas升级把ols踢掉了，我们只能依靠sklearn。\n",
    "def beta_exposure(port, factors):\n",
    "    lr = LinearRegression()\n",
    "    y = port.as_matrix()\n",
    "    x = factors.as_matrix()\n",
    "    lr.fit(x, y) # 实际上就是把因子系数还原出来\n",
    "    return np.append(lr.coef_, lr.intercept_) # coef_是系数数组，intercept_是常数截距。"
   ]
  },
  {
   "cell_type": "code",
   "execution_count": 19,
   "metadata": {
    "collapsed": false
   },
   "outputs": [
    {
     "data": {
      "text/plain": [
       "array([ 0.68795968, -1.18575378,  0.38915681,  0.4397482 ])"
      ]
     },
     "execution_count": 19,
     "metadata": {},
     "output_type": "execute_result"
    }
   ],
   "source": [
    "beta_exposure(port, factors)"
   ]
  },
  {
   "cell_type": "code",
   "execution_count": 20,
   "metadata": {
    "collapsed": false
   },
   "outputs": [
    {
     "name": "stdout",
     "output_type": "stream",
     "text": [
      "FINANCIAL: [ 0.69629311 -1.22427684  0.3611382   0.46239374]\n",
      "TECH: [ 0.67928687 -1.15298132  0.41722053  0.41948588]\n"
     ]
    }
   ],
   "source": [
    "for name, group in port.groupby(industries): # 书上的代码不要指望，不工作的，因为数组大小不匹配。如果你手工调整也是可以的。\n",
    "    factors_ = factors.loc[group.index,]\n",
    "    port_ = port.loc[group.index,]\n",
    "    beta = beta_exposure(port_, factors_)\n",
    "    print(name + ': ' + str(beta))"
   ]
  },
  {
   "cell_type": "code",
   "execution_count": 21,
   "metadata": {
    "collapsed": true
   },
   "outputs": [],
   "source": [
    "# 十分位和四分位分析"
   ]
  },
  {
   "cell_type": "code",
   "execution_count": 22,
   "metadata": {
    "collapsed": false
   },
   "outputs": [
    {
     "data": {
      "text/html": [
       "<div>\n",
       "<style>\n",
       "    .dataframe thead tr:only-child th {\n",
       "        text-align: right;\n",
       "    }\n",
       "\n",
       "    .dataframe thead th {\n",
       "        text-align: left;\n",
       "    }\n",
       "\n",
       "    .dataframe tbody tr th {\n",
       "        vertical-align: top;\n",
       "    }\n",
       "</style>\n",
       "<table border=\"1\" class=\"dataframe\">\n",
       "  <thead>\n",
       "    <tr style=\"text-align: right;\">\n",
       "      <th></th>\n",
       "      <th>open</th>\n",
       "      <th>high</th>\n",
       "      <th>close</th>\n",
       "      <th>low</th>\n",
       "      <th>volume</th>\n",
       "      <th>price_change</th>\n",
       "      <th>p_change</th>\n",
       "      <th>ma5</th>\n",
       "      <th>ma10</th>\n",
       "      <th>ma20</th>\n",
       "      <th>v_ma5</th>\n",
       "      <th>v_ma10</th>\n",
       "      <th>v_ma20</th>\n",
       "    </tr>\n",
       "    <tr>\n",
       "      <th>date</th>\n",
       "      <th></th>\n",
       "      <th></th>\n",
       "      <th></th>\n",
       "      <th></th>\n",
       "      <th></th>\n",
       "      <th></th>\n",
       "      <th></th>\n",
       "      <th></th>\n",
       "      <th></th>\n",
       "      <th></th>\n",
       "      <th></th>\n",
       "      <th></th>\n",
       "      <th></th>\n",
       "    </tr>\n",
       "  </thead>\n",
       "  <tbody>\n",
       "    <tr>\n",
       "      <th>2015-01-05</th>\n",
       "      <td>2.580</td>\n",
       "      <td>2.655</td>\n",
       "      <td>2.622</td>\n",
       "      <td>2.555</td>\n",
       "      <td>15964693.0</td>\n",
       "      <td>0.070</td>\n",
       "      <td>2.74</td>\n",
       "      <td>2.587</td>\n",
       "      <td>2.587</td>\n",
       "      <td>2.587</td>\n",
       "      <td>16572601.50</td>\n",
       "      <td>16572601.50</td>\n",
       "      <td>16572601.50</td>\n",
       "    </tr>\n",
       "    <tr>\n",
       "      <th>2015-01-06</th>\n",
       "      <td>2.600</td>\n",
       "      <td>2.651</td>\n",
       "      <td>2.592</td>\n",
       "      <td>2.561</td>\n",
       "      <td>15561868.0</td>\n",
       "      <td>-0.030</td>\n",
       "      <td>-1.14</td>\n",
       "      <td>2.589</td>\n",
       "      <td>2.589</td>\n",
       "      <td>2.589</td>\n",
       "      <td>16235690.33</td>\n",
       "      <td>16235690.33</td>\n",
       "      <td>16235690.33</td>\n",
       "    </tr>\n",
       "    <tr>\n",
       "      <th>2015-01-07</th>\n",
       "      <td>2.575</td>\n",
       "      <td>2.622</td>\n",
       "      <td>2.588</td>\n",
       "      <td>2.558</td>\n",
       "      <td>8887969.0</td>\n",
       "      <td>-0.004</td>\n",
       "      <td>-0.15</td>\n",
       "      <td>2.589</td>\n",
       "      <td>2.589</td>\n",
       "      <td>2.589</td>\n",
       "      <td>14398760.00</td>\n",
       "      <td>14398760.00</td>\n",
       "      <td>14398760.00</td>\n",
       "    </tr>\n",
       "    <tr>\n",
       "      <th>2015-01-08</th>\n",
       "      <td>2.599</td>\n",
       "      <td>2.610</td>\n",
       "      <td>2.518</td>\n",
       "      <td>2.510</td>\n",
       "      <td>7936625.0</td>\n",
       "      <td>-0.070</td>\n",
       "      <td>-2.71</td>\n",
       "      <td>2.574</td>\n",
       "      <td>2.574</td>\n",
       "      <td>2.574</td>\n",
       "      <td>13106333.00</td>\n",
       "      <td>13106333.00</td>\n",
       "      <td>13106333.00</td>\n",
       "    </tr>\n",
       "    <tr>\n",
       "      <th>2015-01-09</th>\n",
       "      <td>2.510</td>\n",
       "      <td>2.644</td>\n",
       "      <td>2.524</td>\n",
       "      <td>2.496</td>\n",
       "      <td>11561505.0</td>\n",
       "      <td>0.006</td>\n",
       "      <td>0.24</td>\n",
       "      <td>2.569</td>\n",
       "      <td>2.566</td>\n",
       "      <td>2.566</td>\n",
       "      <td>11982532.00</td>\n",
       "      <td>12848861.67</td>\n",
       "      <td>12848861.67</td>\n",
       "    </tr>\n",
       "  </tbody>\n",
       "</table>\n",
       "</div>"
      ],
      "text/plain": [
       "             open   high  close    low      volume  price_change  p_change  \\\n",
       "date                                                                         \n",
       "2015-01-05  2.580  2.655  2.622  2.555  15964693.0         0.070      2.74   \n",
       "2015-01-06  2.600  2.651  2.592  2.561  15561868.0        -0.030     -1.14   \n",
       "2015-01-07  2.575  2.622  2.588  2.558   8887969.0        -0.004     -0.15   \n",
       "2015-01-08  2.599  2.610  2.518  2.510   7936625.0        -0.070     -2.71   \n",
       "2015-01-09  2.510  2.644  2.524  2.496  11561505.0         0.006      0.24   \n",
       "\n",
       "              ma5   ma10   ma20        v_ma5       v_ma10       v_ma20  \n",
       "date                                                                    \n",
       "2015-01-05  2.587  2.587  2.587  16572601.50  16572601.50  16572601.50  \n",
       "2015-01-06  2.589  2.589  2.589  16235690.33  16235690.33  16235690.33  \n",
       "2015-01-07  2.589  2.589  2.589  14398760.00  14398760.00  14398760.00  \n",
       "2015-01-08  2.574  2.574  2.574  13106333.00  13106333.00  13106333.00  \n",
       "2015-01-09  2.569  2.566  2.566  11982532.00  12848861.67  12848861.67  "
      ]
     },
     "execution_count": 22,
     "metadata": {},
     "output_type": "execute_result"
    }
   ],
   "source": [
    "data = ts.get_hist_data('510050',start='2015-01-01',end='2016-12-31')\n",
    "data.index = pd.to_datetime(data.index)\n",
    "data = data[::-1]\n",
    "data.head()"
   ]
  },
  {
   "cell_type": "code",
   "execution_count": 23,
   "metadata": {
    "collapsed": false
   },
   "outputs": [],
   "source": [
    "# 计算收益率\n",
    "px = data['close']\n",
    "returns = px.pct_change()"
   ]
  },
  {
   "cell_type": "code",
   "execution_count": 24,
   "metadata": {
    "collapsed": false
   },
   "outputs": [
    {
     "data": {
      "text/plain": [
       "0     NaN\n",
       "1     NaN\n",
       "2     6.0\n",
       "3    10.0\n",
       "4    15.0\n",
       "5    20.0\n",
       "6    25.0\n",
       "7    30.0\n",
       "dtype: float64"
      ]
     },
     "execution_count": 24,
     "metadata": {},
     "output_type": "execute_result"
    }
   ],
   "source": [
    "# 先简单介绍一下rolling（移动窗口）函数\n",
    "# - window: 窗口的大小\n",
    "# - min_periods：最小的观察数值个数\n",
    "s = Series([1, 2, 3, 4, 5, 6, 7, 8])\n",
    "r = s.rolling(window=5, min_periods=3).sum()\n",
    "r\n",
    "# 输出如下\n",
    "# 0     NaN\n",
    "# 1     NaN\n",
    "# 2     6.0 sum(1...3)\n",
    "# 3    10.0 sum(1...4)\n",
    "# 4    15.0 sum(1...5)\n",
    "# 5    20.0 sum(2...6)\n",
    "# 6    25.0 sum(3...7)\n",
    "# 7    30.0 sum(4...8)\n",
    "# dtype: float64"
   ]
  },
  {
   "cell_type": "code",
   "execution_count": 25,
   "metadata": {
    "collapsed": true
   },
   "outputs": [],
   "source": [
    "def to_index(rets):\n",
    "    index = (1 + rets).cumprod()\n",
    "    # 书里的代码不对，重写了。\n",
    "    # 因为前面用了移动窗口函数，所以这里first_loc是找到第一个数值不为NA的索引的位置。\n",
    "    first_loc = max(index.notnull().argmax() - Day(1), index.index[0])\n",
    "    index[first_loc] = 1\n",
    "    return index\n",
    "\n",
    "def trend_signal(rets, lookback, lag):\n",
    "    signal = rets.rolling(window=lookback, min_periods=lookback - lag).sum()\n",
    "    return signal.shift(lag)"
   ]
  },
  {
   "cell_type": "code",
   "execution_count": 26,
   "metadata": {
    "collapsed": false
   },
   "outputs": [
    {
     "name": "stderr",
     "output_type": "stream",
     "text": [
      "C:\\ProgramData\\Anaconda3\\lib\\site-packages\\ipykernel\\__main__.py:2: FutureWarning: \n",
      ".resample() is now a deferred operation\n",
      "You called resample(...) on this deferred object which materialized it into a series\n",
      "by implicitly taking the mean.  Use .resample(...).mean() instead\n",
      "  from ipykernel import kernelapp as app\n"
     ]
    },
    {
     "data": {
      "text/plain": [
       "date\n",
       "2015-06-22         NaN\n",
       "2015-06-23    0.008677\n",
       "2015-06-24    0.004675\n",
       "2015-06-25   -0.009195\n",
       "2015-06-26   -0.022823\n",
       "2015-06-29   -0.002663\n",
       "2015-06-30    0.017957\n",
       "2015-07-01   -0.011688\n",
       "2015-07-02   -0.002634\n",
       "2015-07-03   -0.008878\n",
       "Name: close, dtype: float64"
      ]
     },
     "execution_count": 26,
     "metadata": {},
     "output_type": "execute_result"
    }
   ],
   "source": [
    "signal = trend_signal(returns, 100, 3) # 累加100天的收益率\n",
    "trade_friday = signal.resample('W-FRI').resample('B').ffill() # 重采样到每个工作日周五\n",
    "trade_rets = trade_friday.shift(1) * returns # 计算周五买进的收益率\n",
    "trade_rets[120:130]"
   ]
  },
  {
   "cell_type": "code",
   "execution_count": 27,
   "metadata": {
    "collapsed": false,
    "scrolled": true
   },
   "outputs": [
    {
     "data": {
      "text/plain": [
       "<matplotlib.axes._subplots.AxesSubplot at 0x1d977610a90>"
      ]
     },
     "execution_count": 27,
     "metadata": {},
     "output_type": "execute_result"
    },
    {
     "data": {
      "image/png": "[encoded data removed]",
      "text/plain": [
       "<matplotlib.figure.Figure at 0x1d97761fe80>"
      ]
     },
     "metadata": {},
     "output_type": "display_data"
    }
   ],
   "source": [
    "to_index(trade_rets).plot()"
   ]
  },
  {
   "cell_type": "code",
   "execution_count": 28,
   "metadata": {
    "collapsed": false
   },
   "outputs": [],
   "source": [
    "# 书里代码不对，用returns的话后面groupby长度不匹配啊。。。\n",
    "vol = trade_rets.rolling(window=250, min_periods=200).std() * np.sqrt(250)"
   ]
  },
  {
   "cell_type": "code",
   "execution_count": 29,
   "metadata": {
    "collapsed": true
   },
   "outputs": [],
   "source": [
    "def sharpe(rets, ann=250): # 计算夏普率，定义自己网上查\n",
    "  return rets.mean() / rets.std()  * np.sqrt(ann)"
   ]
  },
  {
   "cell_type": "code",
   "execution_count": 30,
   "metadata": {
    "collapsed": false
   },
   "outputs": [
    {
     "data": {
      "text/plain": [
       "close\n",
       "(0.0161, 0.0232]   -0.339051\n",
       "(0.0232, 0.0401]    0.682121\n",
       "(0.0401, 0.0521]    2.242032\n",
       "(0.0521, 0.0715]   -0.146591\n",
       "Name: close, dtype: float64"
      ]
     },
     "execution_count": 30,
     "metadata": {},
     "output_type": "execute_result"
    }
   ],
   "source": [
    "trade_rets.groupby(pd.qcut(vol, 4)).agg(sharpe)"
   ]
  }
 ],
 "metadata": {
  "kernelspec": {
   "display_name": "Python 3",
   "language": "python",
   "name": "python3"
  },
  "language_info": {
   "codemirror_mode": {
    "name": "ipython",
    "version": 3
   },
   "file_extension": ".py",
   "mimetype": "text/x-python",
   "name": "python",
   "nbconvert_exporter": "python",
   "pygments_lexer": "ipython3",
   "version": "3.6.0"
  }
 },
 "nbformat": 4,
 "nbformat_minor": 2
}
