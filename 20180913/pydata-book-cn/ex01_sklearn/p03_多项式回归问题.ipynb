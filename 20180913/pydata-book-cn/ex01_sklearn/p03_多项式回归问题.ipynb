{
 "cells": [
  {
   "cell_type": "code",
   "execution_count": 1,
   "metadata": {
    "collapsed": true
   },
   "outputs": [],
   "source": [
    "# 多项式回归问题\n",
    "import matplotlib.pyplot as plt\n",
    "import numpy as np\n",
    "from sklearn.linear_model import LinearRegression\n",
    "from sklearn.preprocessing import PolynomialFeatures\n",
    "\n",
    "%matplotlib inline"
   ]
  },
  {
   "cell_type": "code",
   "execution_count": 2,
   "metadata": {
    "collapsed": false
   },
   "outputs": [
    {
     "name": "stdout",
     "output_type": "stream",
     "text": [
      "[[ 0.          1.295      -0.00164286]]\n",
      "[ 89.]\n"
     ]
    },
    {
     "data": {
      "image/png": "[encoded data removed]",
      "text/plain": [
       "<matplotlib.figure.Figure at 0x283a67eec18>"
      ]
     },
     "metadata": {},
     "output_type": "display_data"
    }
   ],
   "source": [
    "plt.figure() # 实例化作图变量\n",
    "plt.title('single variable') # 图像标题\n",
    "plt.xlabel('x') # x轴文本\n",
    "plt.ylabel('y') # y轴文本\n",
    "plt.axis([30, 400, 100, 400])\n",
    "plt.grid(True) # 是否绘制网格线\n",
    "\n",
    "x = [[50],[100],[150],[200],[250],[300]]\n",
    "y = [[150],[200],[250],[280],[310],[330]]\n",
    "x_test = [[250],[300]] # 用来做最终效果测试\n",
    "y_test = [[310],[330]] # 用来做最终效果测试\n",
    "plt.plot(x, y, 'k.')\n",
    "\n",
    "model = LinearRegression()\n",
    "model.fit(x, y)\n",
    "x2 = [[30], [400]]\n",
    "y2 = model.predict(x2)\n",
    "plt.plot(x2, y2, 'g-') # 线性回归\n",
    "\n",
    "xx = np.linspace(30, 400, 100) # 设计x轴一系列点作为画图的x点集\n",
    "quadratic_featurizer = PolynomialFeatures(degree=2) # 实例化一个二次多项式特征实例，可以把degree改成3，效果提升不会太多，而且会导致过拟合。\n",
    "x_train_quadratic = quadratic_featurizer.fit_transform(x) # 用二次多项式对样本X值做变换\n",
    "# x被转换为[1, x, x^2]\n",
    "xx_quadratic = quadratic_featurizer.transform(xx.reshape(xx.shape[0], 1)) # 把训练好X值的多项式特征实例应用到一系列点上,形成矩阵\n",
    "regressor_quadratic = LinearRegression() # 创建一个线性回归实例\n",
    "regressor_quadratic.fit(x_train_quadratic, y) # 以多项式变换后的x值为输入，代入线性回归模型做训练\n",
    "plt.plot(xx, regressor_quadratic.predict(xx_quadratic), 'r-') # 用训练好的模型作图\n",
    "print(regressor_quadratic.coef_)\n",
    "print(regressor_quadratic.intercept_)"
   ]
  },
  {
   "cell_type": "code",
   "execution_count": 3,
   "metadata": {
    "collapsed": false
   },
   "outputs": [
    {
     "data": {
      "text/plain": [
       "0.07555555555555149"
      ]
     },
     "execution_count": 3,
     "metadata": {},
     "output_type": "execute_result"
    }
   ],
   "source": [
    "model.score(x_test, y_test) # 线性模型分数"
   ]
  },
  {
   "cell_type": "code",
   "execution_count": 4,
   "metadata": {
    "collapsed": false
   },
   "outputs": [
    {
     "data": {
      "text/plain": [
       "0.99933673469387985"
      ]
     },
     "execution_count": 4,
     "metadata": {},
     "output_type": "execute_result"
    }
   ],
   "source": [
    "x_test_quadratic = quadratic_featurizer.transform(x_test)\n",
    "regressor_quadratic.score(x_test_quadratic, y_test) # 二次多项式回归分数"
   ]
  }
 ],
 "metadata": {
  "kernelspec": {
   "display_name": "Python 3",
   "language": "python",
   "name": "python3"
  },
  "language_info": {
   "codemirror_mode": {
    "name": "ipython",
    "version": 3
   },
   "file_extension": ".py",
   "mimetype": "text/x-python",
   "name": "python",
   "nbconvert_exporter": "python",
   "pygments_lexer": "ipython3",
   "version": "3.6.0"
  }
 },
 "nbformat": 4,
 "nbformat_minor": 2
}
