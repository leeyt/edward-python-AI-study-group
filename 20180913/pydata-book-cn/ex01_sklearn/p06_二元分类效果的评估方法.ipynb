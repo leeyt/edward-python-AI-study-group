{
 "cells": [
  {
   "cell_type": "code",
   "execution_count": 1,
   "metadata": {
    "collapsed": true
   },
   "outputs": [],
   "source": [
    "# 二元分类效果的评估方法\n",
    "import matplotlib.pyplot as plt\n",
    "from sklearn.metrics import roc_curve, auc\n",
    "\n",
    "%matplotlib inline"
   ]
  },
  {
   "cell_type": "code",
   "execution_count": 2,
   "metadata": {
    "collapsed": true
   },
   "outputs": [],
   "source": [
    "# 术语解释：\n",
    "# 真阳性：true positives, TP True => True\n",
    "# 真阴性：true negatives, TN False => False\n",
    "# 假阳性：false positives, FP False => True\n",
    "# 假阴性：false negatives, FN True => False"
   ]
  },
  {
   "cell_type": "code",
   "execution_count": 3,
   "metadata": {
    "collapsed": true
   },
   "outputs": [],
   "source": [
    "# 准确率：分类器预测正确性的比例，可以通过LogisticRegression.score() 来计算准确率。"
   ]
  },
  {
   "cell_type": "code",
   "execution_count": 4,
   "metadata": {
    "collapsed": true
   },
   "outputs": [],
   "source": [
    "# 精确率：预测为True的结果中正例的比例，P = TP / (TP + FP)"
   ]
  },
  {
   "cell_type": "code",
   "execution_count": 5,
   "metadata": {
    "collapsed": true
   },
   "outputs": [],
   "source": [
    "# 召回率（灵敏度）：所有正例True被正确找出来的比例，R = TP / (TP + FN)"
   ]
  },
  {
   "cell_type": "code",
   "execution_count": 6,
   "metadata": {
    "collapsed": true
   },
   "outputs": [],
   "source": [
    "# 综合评价指标：精确率和召回率都不能从差的分类器中区分出好的分类器，综合评价指标平衡了精确率和召回率。\n",
    "# F=2 * PR / (P + R)"
   ]
  },
  {
   "cell_type": "code",
   "execution_count": 7,
   "metadata": {
    "collapsed": true
   },
   "outputs": [],
   "source": [
    "# ROC(Receiver Operating Characteristic)画的是分类器的召回率与误警率(fall-out)的曲线\n",
    "# AUC(Area Under Curve)，ROC曲线下方的面积,它把ROC曲线变成一个值,表示分类器随机预测的效果。"
   ]
  },
  {
   "cell_type": "code",
   "execution_count": 8,
   "metadata": {
    "collapsed": false
   },
   "outputs": [
    {
     "name": "stdout",
     "output_type": "stream",
     "text": [
      "[ 0.    0.    0.25  0.25  1.  ]\n",
      "[ 0.5         0.83333333  0.83333333  1.          1.        ]\n",
      "[ 0.9   0.75  0.3   0.2   0.1 ]\n",
      "0.958333333333\n"
     ]
    },
    {
     "data": {
      "text/plain": [
       "[<matplotlib.lines.Line2D at 0x19a8c0f9780>]"
      ]
     },
     "execution_count": 8,
     "metadata": {},
     "output_type": "execute_result"
    },
    {
     "data": {
      "image/png": "[encoded data removed]",
      "text/plain": [
       "<matplotlib.figure.Figure at 0x19a8a09e0b8>"
      ]
     },
     "metadata": {},
     "output_type": "display_data"
    }
   ],
   "source": [
    "pred = [1, 1, 1, 0, 0, 0, 1, 0, 1, 1]\n",
    "predictions = [0.9, 0.9, 0.2, 0.1, 0.1, 0.1, 0.8, 0.3, 0.75, 0.9]\n",
    "false_positive_rate, recall, thresholds = roc_curve(pred, predictions)\n",
    "print(false_positive_rate)\n",
    "print(recall)\n",
    "print(thresholds) # 不懂的话看下面的解释\n",
    "roc_auc = auc(false_positive_rate, recall)\n",
    "print(roc_auc)\n",
    "plt.plot(false_positive_rate, recall, 'b', label='AUC = %0.2f' % roc_auc) # X轴是假阳性，Y轴是召回率。"
   ]
  },
  {
   "cell_type": "code",
   "execution_count": 9,
   "metadata": {
    "collapsed": true
   },
   "outputs": [],
   "source": [
    "# 没看懂上面的很正常，下面开始具体讲解。\n",
    "# Y轴为 TPR 真正例率，预测为正且实际为正的样本占所有正例样本的比例。 TPR = TP / (TP + FN)\n",
    "# 横轴为 FPR 假正例率，预测为正但实际为负的样本占所有负例样本的比例。FPR = FP / (TN + FP)\n",
    "# 先YY一下直角四个角上的点：\n",
    "# (0, 0)：分类器将所有的样本都预测为负样本\n",
    "# (0, 1)：这意味着分类器很完美，因为它将所有的样本都正确分类。（所以曲线越接近左上角越好）\n",
    "# (1, 0)：这个分类器是最糟糕的，因为它成功避开了所有的正确答案。\n",
    "# (1, 1)：分类器将所有的样本都预测为正样本。"
   ]
  },
  {
   "cell_type": "code",
   "execution_count": 10,
   "metadata": {
    "collapsed": true
   },
   "outputs": [],
   "source": [
    "# 如何画ROC曲线，先来20个值（按Score从小到大排列）：\n",
    "#  如果阈值设置为0或1，正好对应图上(0, 0)和(1, 1)两个点\n",
    "# ID    Class    Score    阈值0.52    阈值0.9\n",
    "# 1     F        0.1      F           F\n",
    "# 2     T        0.3      F           F\n",
    "# 3     F        0.33     F           F\n",
    "# 4     T        0.34     F           F\n",
    "# 5     F        0.35     F           F\n",
    "# 6     F        0.36     F           F\n",
    "# 7     F        0.37     F           F\n",
    "# 8     T        0.38     F           F\n",
    "# 9     F        0.39     F           F\n",
    "# 10    T        0.4      F           F\n",
    "# 11    F        0.505    F           F\n",
    "# 12    T        0.51     F           F\n",
    "# 13    F        0.52     T           F\n",
    "# 14    F        0.53     T           F\n",
    "# 15    T        0.54     T           F\n",
    "# 16    T        0.55     T           F\n",
    "# 17    T        0.6      T           F\n",
    "# 18    F        0.7      T           F\n",
    "# 19    T        0.8      T           F\n",
    "# 20    T        0.9      T           T\n",
    "# 阈值0.52：FPR(X) = 0.3, TPR(Y) = 0.5\n",
    "# 阈值0.9：FPR(X) = 0, TPR(Y) = 0.1"
   ]
  },
  {
   "cell_type": "code",
   "execution_count": 11,
   "metadata": {
    "collapsed": true
   },
   "outputs": [],
   "source": [
    "# AUC就简单了，根据上面取不同的阈值然后计算X和Y，最后计算面积。简单说面积越大分类器性能越好。"
   ]
  }
 ],
 "metadata": {
  "kernelspec": {
   "display_name": "Python 3",
   "language": "python",
   "name": "python3"
  },
  "language_info": {
   "codemirror_mode": {
    "name": "ipython",
    "version": 3
   },
   "file_extension": ".py",
   "mimetype": "text/x-python",
   "name": "python",
   "nbconvert_exporter": "python",
   "pygments_lexer": "ipython3",
   "version": "3.6.0"
  }
 },
 "nbformat": 4,
 "nbformat_minor": 2
}
