{
 "cells": [
  {
   "cell_type": "code",
   "execution_count": 1,
   "metadata": {
    "collapsed": true
   },
   "outputs": [],
   "source": [
    "# 用scikit-learn做聚类分析\n",
    "import matplotlib.pyplot as plt\n",
    "import numpy as np\n",
    "from scipy.spatial.distance import cdist\n",
    "from sklearn.cluster import KMeans\n",
    "\n",
    "%matplotlib inline"
   ]
  },
  {
   "cell_type": "code",
   "execution_count": 2,
   "metadata": {
    "collapsed": false
   },
   "outputs": [
    {
     "data": {
      "text/plain": [
       "[<matplotlib.lines.Line2D at 0x297eb125ba8>]"
      ]
     },
     "execution_count": 2,
     "metadata": {},
     "output_type": "execute_result"
    },
    {
     "data": {
      "image/png": "[encoded data removed]",
      "text/plain": [
       "<matplotlib.figure.Figure at 0x297e90cb240>"
      ]
     },
     "metadata": {},
     "output_type": "display_data"
    }
   ],
   "source": [
    "# 构造数据\n",
    "cluster1 = np.random.uniform(0.5, 1.5, (2, 10))\n",
    "cluster2 = np.random.uniform(3.5, 4.5, (2, 10))\n",
    "\n",
    "# 顺序连接两个矩阵，形成一个新矩阵,所以生成了一个2*20的矩阵，T做转置后变成20*2的矩阵,刚好是一堆(x,y)的坐标点\n",
    "x = np.hstack((cluster1, cluster2)).T\n",
    "plt.figure()\n",
    "plt.axis([0, 5, 0, 5])\n",
    "plt.grid(True)\n",
    "plt.plot(x[:, 0], x[:, 1], 'k.')\n",
    "# 使用k-means做聚类\n",
    "kmeans = KMeans(n_clusters=2)\n",
    "kmeans.fit(x)\n",
    "plt.plot(kmeans.cluster_centers_[: ,0], kmeans.cluster_centers_[:, 1], 'ro') # 红色为重心点位置"
   ]
  },
  {
   "cell_type": "code",
   "execution_count": 3,
   "metadata": {
    "collapsed": false
   },
   "outputs": [],
   "source": [
    "# 肘部法则（现实情况会比以上构造的数据复杂很多，因为直接看根本不知道该聚几个类。）"
   ]
  },
  {
   "cell_type": "code",
   "execution_count": 4,
   "metadata": {
    "collapsed": false
   },
   "outputs": [],
   "source": [
    "# 随机生成4个群\n",
    "cluster1 = np.random.uniform(0.5, 1.5, (2, 10))\n",
    "cluster2 = np.random.uniform(1.5, 2.5, (2, 10))\n",
    "cluster3 = np.random.uniform(1.5, 3.5, (2, 10))\n",
    "cluster4 = np.random.uniform(3.5, 4.5, (2, 10))\n",
    "x_1 = np.hstack((cluster1, cluster2))\n",
    "x_2 = np.hstack((cluster3, cluster4))\n",
    "x = np.hstack((x_1, x_2)).T"
   ]
  },
  {
   "cell_type": "code",
   "execution_count": 5,
   "metadata": {
    "collapsed": false
   },
   "outputs": [],
   "source": [
    "k = np.arange(1, 10)\n",
    "meandistortions = []\n",
    "for k_ in k:\n",
    "    kmeans = KMeans(n_clusters=k_)\n",
    "    kmeans.fit(x)\n",
    "    # 求kmeans的成本函数值\n",
    "    meandistortions.append(sum(np.min(cdist(x, kmeans.cluster_centers_, 'euclidean'), axis=1)) / x.shape[0])"
   ]
  },
  {
   "cell_type": "code",
   "execution_count": 6,
   "metadata": {
    "collapsed": false
   },
   "outputs": [
    {
     "data": {
      "text/plain": [
       "[<matplotlib.lines.Line2D at 0x297eb1ff470>]"
      ]
     },
     "execution_count": 6,
     "metadata": {},
     "output_type": "execute_result"
    },
    {
     "data": {
      "image/png": "[encoded data removed]",
      "text/plain": [
       "<matplotlib.figure.Figure at 0x297eb13b198>"
      ]
     },
     "metadata": {},
     "output_type": "display_data"
    }
   ],
   "source": [
    "plt.figure()\n",
    "plt.grid(True)\n",
    "plt1 = plt.subplot(2, 1, 1)\n",
    "plt1.plot(x[:,0], x[:, 1], 'k.')\n",
    "plt2 = plt.subplot(2, 1, 2)\n",
    "plt2.plot(k, meandistortions, 'bx-') # 根据成本自己选个K吧，貌似4更好好些，9的话粒度太细了。"
   ]
  }
 ],
 "metadata": {
  "kernelspec": {
   "display_name": "Python 3",
   "language": "python",
   "name": "python3"
  },
  "language_info": {
   "codemirror_mode": {
    "name": "ipython",
    "version": 3
   },
   "file_extension": ".py",
   "mimetype": "text/x-python",
   "name": "python",
   "nbconvert_exporter": "python",
   "pygments_lexer": "ipython3",
   "version": "3.6.0"
  }
 },
 "nbformat": 4,
 "nbformat_minor": 2
}
