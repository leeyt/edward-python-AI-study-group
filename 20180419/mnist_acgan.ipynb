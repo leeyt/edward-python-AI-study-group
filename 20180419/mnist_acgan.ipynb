{
 "cells": [
  {
   "cell_type": "markdown",
   "metadata": {},
   "source": [
    "# MNIST - ACGAN\n",
    "\n",
    "Train an Auxiliary Classifier Generative Adversarial Network (ACGAN) on the\n",
    "MNIST dataset. See https://arxiv.org/abs/1610.09585 for more details.\n",
    "\n",
    "You should start to see reasonable images after ~5 epochs, and good images\n",
    "by ~15 epochs. You should use a GPU, as the convolution-heavy operations are\n",
    "very slow on the CPU. Prefer the TensorFlow backend if you plan on iterating,\n",
    "as the compilation time can be a blocker using Theano.\n",
    "\n",
    "Timings:\n",
    "\n",
    "Hardware           | Backend | Time / Epoch\n",
    "------------------|----------|---------------\n",
    " CPU               | TF      | 3 hrs\n",
    " Titan X (maxwell) | TF      | 4 min\n",
    " Titan X (maxwell) | TH      | 7 min\n",
    "\n",
    "Consult https://github.com/lukedeo/keras-acgan for more information and\n",
    "example output"
   ]
  },
  {
   "cell_type": "code",
   "execution_count": null,
   "metadata": {
    "ExecuteTime": {
     "end_time": "2018-08-21T12:44:47.975152Z",
     "start_time": "2018-08-21T12:44:42.608929Z"
    }
   },
   "outputs": [],
   "source": [
    "from collections import defaultdict\n",
    "try:\n",
    "    import cPickle as pickle\n",
    "except ImportError:\n",
    "    import pickle\n",
    "from PIL import Image\n",
    "\n",
    "from six.moves import range\n",
    "\n",
    "from keras.datasets import mnist\n",
    "from keras import layers\n",
    "from keras.layers import Input, Dense, Reshape, Flatten, Embedding, Dropout\n",
    "from keras.layers import BatchNormalization\n",
    "from keras.layers.advanced_activations import LeakyReLU\n",
    "from keras.layers.convolutional import Conv2DTranspose, Conv2D\n",
    "from keras.models import Sequential, Model\n",
    "from keras.optimizers import Adam\n",
    "from keras.utils.generic_utils import Progbar\n",
    "import numpy as np"
   ]
  },
  {
   "cell_type": "code",
   "execution_count": null,
   "metadata": {
    "ExecuteTime": {
     "end_time": "2018-08-21T12:45:24.308305Z",
     "start_time": "2018-08-21T12:45:24.293699Z"
    }
   },
   "outputs": [],
   "source": [
    "np.random.seed(1337)\n",
    "num_classes = 10"
   ]
  },
  {
   "cell_type": "code",
   "execution_count": null,
   "metadata": {
    "ExecuteTime": {
     "end_time": "2018-08-21T12:46:28.763081Z",
     "start_time": "2018-08-21T12:46:28.664954Z"
    }
   },
   "outputs": [],
   "source": [
    "def build_generator(latent_size):\n",
    "    # we will map a pair of (z, L), where z is a latent vector and L is a\n",
    "    # label drawn from P_c, to image space (..., 28, 28, 1)\n",
    "    cnn = Sequential()\n",
    "\n",
    "    cnn.add(Dense(3 * 3 * 384, input_dim=latent_size, activation='relu'))\n",
    "    cnn.add(Reshape((3, 3, 384)))\n",
    "\n",
    "    # upsample to (7, 7, ...)\n",
    "    cnn.add(Conv2DTranspose(192, 5, strides=1, padding='valid',\n",
    "                            activation='relu',\n",
    "                            kernel_initializer='glorot_normal'))\n",
    "    cnn.add(BatchNormalization())\n",
    "\n",
    "    # upsample to (14, 14, ...)\n",
    "    cnn.add(Conv2DTranspose(96, 5, strides=2, padding='same',\n",
    "                            activation='relu',\n",
    "                            kernel_initializer='glorot_normal'))\n",
    "    cnn.add(BatchNormalization())\n",
    "\n",
    "    # upsample to (28, 28, ...)\n",
    "    cnn.add(Conv2DTranspose(1, 5, strides=2, padding='same',\n",
    "                            activation='tanh',\n",
    "                            kernel_initializer='glorot_normal'))\n",
    "\n",
    "    # this is the z space commonly referred to in GAN papers\n",
    "    latent = Input(shape=(latent_size, ))\n",
    "\n",
    "    # this will be our label\n",
    "    image_class = Input(shape=(1,), dtype='int32')\n",
    "\n",
    "    cls = Flatten()(Embedding(num_classes, latent_size,\n",
    "                              embeddings_initializer='glorot_normal')(image_class))\n",
    "\n",
    "    # hadamard product between z-space and a class conditional embedding\n",
    "    h = layers.multiply([latent, cls])\n",
    "\n",
    "    fake_image = cnn(h)\n",
    "\n",
    "    return Model([latent, image_class], fake_image)"
   ]
  },
  {
   "cell_type": "code",
   "execution_count": null,
   "metadata": {
    "ExecuteTime": {
     "end_time": "2018-08-21T12:46:32.925704Z",
     "start_time": "2018-08-21T12:46:32.858639Z"
    }
   },
   "outputs": [],
   "source": [
    "def build_discriminator():\n",
    "    # build a relatively standard conv net, with LeakyReLUs as suggested in\n",
    "    # the reference paper\n",
    "    cnn = Sequential()\n",
    "\n",
    "    cnn.add(Conv2D(32, 3, padding='same', strides=2,\n",
    "                   input_shape=(28, 28, 1)))\n",
    "    cnn.add(LeakyReLU(0.2))\n",
    "    cnn.add(Dropout(0.3))\n",
    "\n",
    "    cnn.add(Conv2D(64, 3, padding='same', strides=1))\n",
    "    cnn.add(LeakyReLU(0.2))\n",
    "    cnn.add(Dropout(0.3))\n",
    "\n",
    "    cnn.add(Conv2D(128, 3, padding='same', strides=2))\n",
    "    cnn.add(LeakyReLU(0.2))\n",
    "    cnn.add(Dropout(0.3))\n",
    "\n",
    "    cnn.add(Conv2D(256, 3, padding='same', strides=1))\n",
    "    cnn.add(LeakyReLU(0.2))\n",
    "    cnn.add(Dropout(0.3))\n",
    "\n",
    "    cnn.add(Flatten())\n",
    "\n",
    "    image = Input(shape=(28, 28, 1))\n",
    "\n",
    "    features = cnn(image)\n",
    "\n",
    "    # first output (name=generation) is whether or not the discriminator\n",
    "    # thinks the image that is being shown is fake, and the second output\n",
    "    # (name=auxiliary) is the class that the discriminator thinks the image\n",
    "    # belongs to.\n",
    "    fake = Dense(1, activation='sigmoid', name='generation')(features)\n",
    "    aux = Dense(num_classes, activation='softmax', name='auxiliary')(features)\n",
    "\n",
    "    return Model(image, [fake, aux])"
   ]
  },
  {
   "cell_type": "code",
   "execution_count": null,
   "metadata": {
    "ExecuteTime": {
     "end_time": "2018-08-21T12:46:49.627641Z",
     "start_time": "2018-08-21T12:46:49.619206Z"
    }
   },
   "outputs": [],
   "source": [
    "# batch and latent size taken from the paper\n",
    "epochs = 100\n",
    "batch_size = 100\n",
    "latent_size = 100"
   ]
  },
  {
   "cell_type": "code",
   "execution_count": null,
   "metadata": {
    "ExecuteTime": {
     "end_time": "2018-08-21T12:47:01.167994Z",
     "start_time": "2018-08-21T12:47:01.159026Z"
    }
   },
   "outputs": [],
   "source": [
    "# Adam parameters suggested in https://arxiv.org/abs/1511.06434\n",
    "adam_lr = 0.0002\n",
    "adam_beta_1 = 0.5"
   ]
  },
  {
   "cell_type": "code",
   "execution_count": null,
   "metadata": {
    "ExecuteTime": {
     "end_time": "2018-08-21T12:47:14.337400Z",
     "start_time": "2018-08-21T12:47:13.720133Z"
    }
   },
   "outputs": [],
   "source": [
    "# build the discriminator\n",
    "print('Discriminator model:')\n",
    "discriminator = build_discriminator()\n",
    "discriminator.compile(\n",
    "    optimizer=Adam(lr=adam_lr, beta_1=adam_beta_1),\n",
    "    loss=['binary_crossentropy', 'sparse_categorical_crossentropy']\n",
    ")\n",
    "discriminator.summary()"
   ]
  },
  {
   "cell_type": "code",
   "execution_count": null,
   "metadata": {
    "ExecuteTime": {
     "end_time": "2018-08-21T12:47:26.786067Z",
     "start_time": "2018-08-21T12:47:25.851794Z"
    }
   },
   "outputs": [],
   "source": [
    "# build the generator\n",
    "generator = build_generator(latent_size)\n",
    "\n",
    "latent = Input(shape=(latent_size, ))\n",
    "image_class = Input(shape=(1,), dtype='int32')"
   ]
  },
  {
   "cell_type": "code",
   "execution_count": null,
   "metadata": {
    "ExecuteTime": {
     "end_time": "2018-08-21T12:47:37.384402Z",
     "start_time": "2018-08-21T12:47:36.955083Z"
    }
   },
   "outputs": [],
   "source": [
    "# get a fake image\n",
    "fake = generator([latent, image_class])"
   ]
  },
  {
   "cell_type": "code",
   "execution_count": null,
   "metadata": {
    "ExecuteTime": {
     "end_time": "2018-08-21T12:47:57.427164Z",
     "start_time": "2018-08-21T12:47:57.154155Z"
    }
   },
   "outputs": [],
   "source": [
    "# we only want to be able to train generation for the combined model\n",
    "discriminator.trainable = False\n",
    "fake, aux = discriminator(fake)\n",
    "combined = Model([latent, image_class], [fake, aux])"
   ]
  },
  {
   "cell_type": "code",
   "execution_count": null,
   "metadata": {
    "ExecuteTime": {
     "end_time": "2018-08-21T12:48:09.537210Z",
     "start_time": "2018-08-21T12:48:09.264469Z"
    }
   },
   "outputs": [],
   "source": [
    "print('Combined model:')\n",
    "combined.compile(\n",
    "    optimizer=Adam(lr=adam_lr, beta_1=adam_beta_1),\n",
    "    loss=['binary_crossentropy', 'sparse_categorical_crossentropy']\n",
    ")\n",
    "combined.summary()"
   ]
  },
  {
   "cell_type": "code",
   "execution_count": null,
   "metadata": {
    "ExecuteTime": {
     "end_time": "2018-08-21T12:48:32.391271Z",
     "start_time": "2018-08-21T12:48:31.453303Z"
    }
   },
   "outputs": [],
   "source": [
    "# get our mnist data, and force it to be of shape (..., 28, 28, 1) with\n",
    "# range [-1, 1]\n",
    "(x_train, y_train), (x_test, y_test) = mnist.load_data()\n",
    "x_train = (x_train.astype(np.float32) - 127.5) / 127.5\n",
    "x_train = np.expand_dims(x_train, axis=-1)"
   ]
  },
  {
   "cell_type": "code",
   "execution_count": null,
   "metadata": {
    "ExecuteTime": {
     "end_time": "2018-08-21T12:48:46.689267Z",
     "start_time": "2018-08-21T12:48:46.662213Z"
    }
   },
   "outputs": [],
   "source": [
    "x_test = (x_test.astype(np.float32) - 127.5) / 127.5\n",
    "x_test = np.expand_dims(x_test, axis=-1)"
   ]
  },
  {
   "cell_type": "code",
   "execution_count": null,
   "metadata": {
    "ExecuteTime": {
     "end_time": "2018-08-21T12:49:10.329005Z",
     "start_time": "2018-08-21T12:49:10.318755Z"
    }
   },
   "outputs": [],
   "source": [
    "num_train, num_test = x_train.shape[0], x_test.shape[0]"
   ]
  },
  {
   "cell_type": "code",
   "execution_count": null,
   "metadata": {
    "ExecuteTime": {
     "end_time": "2018-08-21T12:49:17.932362Z",
     "start_time": "2018-08-21T12:49:17.923894Z"
    }
   },
   "outputs": [],
   "source": [
    "train_history = defaultdict(list)\n",
    "test_history = defaultdict(list)"
   ]
  },
  {
   "cell_type": "code",
   "execution_count": null,
   "metadata": {
    "ExecuteTime": {
     "start_time": "2018-08-21T12:51:02.609Z"
    }
   },
   "outputs": [],
   "source": [
    "for epoch in range(1, epochs + 1):\n",
    "    print('Epoch {}/{}'.format(epoch, epochs))\n",
    "\n",
    "    num_batches = int(x_train.shape[0] / batch_size)\n",
    "    progress_bar = Progbar(target=num_batches)\n",
    "\n",
    "    # we don't want the discriminator to also maximize the classification\n",
    "    # accuracy of the auxiliary classifier on generated images, so we\n",
    "    # don't train discriminator to produce class labels for generated\n",
    "    # images (see https://openreview.net/forum?id=rJXTf9Bxg).\n",
    "    # To preserve sum of sample weights for the auxiliary classifier,\n",
    "    # we assign sample weight of 2 to the real images.\n",
    "    disc_sample_weight = [np.ones(2 * batch_size),\n",
    "                          np.concatenate((np.ones(batch_size) * 2,\n",
    "                                          np.zeros(batch_size)))]\n",
    "\n",
    "    epoch_gen_loss = []\n",
    "    epoch_disc_loss = []\n",
    "\n",
    "    for index in range(num_batches):\n",
    "        # generate a new batch of noise\n",
    "        noise = np.random.uniform(-1, 1, (batch_size, latent_size))\n",
    "\n",
    "        # get a batch of real images\n",
    "        image_batch = x_train[index * batch_size:(index + 1) * batch_size]\n",
    "        label_batch = y_train[index * batch_size:(index + 1) * batch_size]\n",
    "\n",
    "        # sample some labels from p_c\n",
    "        sampled_labels = np.random.randint(0, num_classes, batch_size)\n",
    "\n",
    "        # generate a batch of fake images, using the generated labels as a\n",
    "        # conditioner. We reshape the sampled labels to be\n",
    "        # (batch_size, 1) so that we can feed them into the embedding\n",
    "        # layer as a length one sequence\n",
    "        generated_images = generator.predict(\n",
    "            [noise, sampled_labels.reshape((-1, 1))], verbose=0)\n",
    "\n",
    "        x = np.concatenate((image_batch, generated_images))\n",
    "\n",
    "        # use one-sided soft real/fake labels\n",
    "        # Salimans et al., 2016\n",
    "        # https://arxiv.org/pdf/1606.03498.pdf (Section 3.4)\n",
    "        soft_zero, soft_one = 0, 0.95\n",
    "        y = np.array([soft_one] * batch_size + [soft_zero] * batch_size)\n",
    "        aux_y = np.concatenate((label_batch, sampled_labels), axis=0)\n",
    "\n",
    "        # see if the discriminator can figure itself out...\n",
    "        epoch_disc_loss.append(discriminator.train_on_batch(\n",
    "            x, [y, aux_y], sample_weight=disc_sample_weight))\n",
    "\n",
    "        # make new noise. we generate 2 * batch size here such that we have\n",
    "        # the generator optimize over an identical number of images as the\n",
    "        # discriminator\n",
    "        noise = np.random.uniform(-1, 1, (2 * batch_size, latent_size))\n",
    "        sampled_labels = np.random.randint(0, num_classes, 2 * batch_size)\n",
    "\n",
    "        # we want to train the generator to trick the discriminator\n",
    "        # For the generator, we want all the {fake, not-fake} labels to say\n",
    "        # not-fake\n",
    "        trick = np.ones(2 * batch_size) * soft_one\n",
    "\n",
    "        epoch_gen_loss.append(combined.train_on_batch(\n",
    "            [noise, sampled_labels.reshape((-1, 1))],\n",
    "            [trick, sampled_labels]))\n",
    "\n",
    "        progress_bar.update(index + 1)\n",
    "\n",
    "    print('Testing for epoch {}:'.format(epoch))\n",
    "\n",
    "    # evaluate the testing loss here\n",
    "\n",
    "    # generate a new batch of noise\n",
    "    noise = np.random.uniform(-1, 1, (num_test, latent_size))\n",
    "\n",
    "    # sample some labels from p_c and generate images from them\n",
    "    sampled_labels = np.random.randint(0, num_classes, num_test)\n",
    "    generated_images = generator.predict(\n",
    "        [noise, sampled_labels.reshape((-1, 1))], verbose=False)\n",
    "\n",
    "    x = np.concatenate((x_test, generated_images))\n",
    "    y = np.array([1] * num_test + [0] * num_test)\n",
    "    aux_y = np.concatenate((y_test, sampled_labels), axis=0)\n",
    "\n",
    "    # see if the discriminator can figure itself out...\n",
    "    discriminator_test_loss = discriminator.evaluate(\n",
    "        x, [y, aux_y], verbose=False)\n",
    "\n",
    "    discriminator_train_loss = np.mean(np.array(epoch_disc_loss), axis=0)\n",
    "\n",
    "    # make new noise\n",
    "    noise = np.random.uniform(-1, 1, (2 * num_test, latent_size))\n",
    "    sampled_labels = np.random.randint(0, num_classes, 2 * num_test)\n",
    "\n",
    "    trick = np.ones(2 * num_test)\n",
    "\n",
    "    generator_test_loss = combined.evaluate(\n",
    "        [noise, sampled_labels.reshape((-1, 1))],\n",
    "        [trick, sampled_labels], verbose=False)\n",
    "\n",
    "    generator_train_loss = np.mean(np.array(epoch_gen_loss), axis=0)\n",
    "\n",
    "    # generate an epoch report on performance\n",
    "    train_history['generator'].append(generator_train_loss)\n",
    "    train_history['discriminator'].append(discriminator_train_loss)\n",
    "\n",
    "    test_history['generator'].append(generator_test_loss)\n",
    "    test_history['discriminator'].append(discriminator_test_loss)\n",
    "\n",
    "    print('{0:<22s} | {1:4s} | {2:15s} | {3:5s}'.format(\n",
    "        'component', *discriminator.metrics_names))\n",
    "    print('-' * 65)\n",
    "\n",
    "    ROW_FMT = '{0:<22s} | {1:<4.2f} | {2:<15.4f} | {3:<5.4f}'\n",
    "    print(ROW_FMT.format('generator (train)',\n",
    "                         *train_history['generator'][-1]))\n",
    "    print(ROW_FMT.format('generator (test)',\n",
    "                         *test_history['generator'][-1]))\n",
    "    print(ROW_FMT.format('discriminator (train)',\n",
    "                         *train_history['discriminator'][-1]))\n",
    "    print(ROW_FMT.format('discriminator (test)',\n",
    "                         *test_history['discriminator'][-1]))\n",
    "\n",
    "    # save weights every epoch\n",
    "    generator.save_weights(\n",
    "        'params_generator_epoch_{0:03d}.hdf5'.format(epoch), True)\n",
    "    discriminator.save_weights(\n",
    "        'params_discriminator_epoch_{0:03d}.hdf5'.format(epoch), True)\n",
    "\n",
    "    # generate some digits to display\n",
    "    num_rows = 40\n",
    "    noise = np.tile(np.random.uniform(-1, 1, (num_rows, latent_size)),\n",
    "                    (num_classes, 1))\n",
    "\n",
    "    sampled_labels = np.array([\n",
    "        [i] * num_rows for i in range(num_classes)\n",
    "    ]).reshape(-1, 1)\n",
    "\n",
    "    # get a batch to display\n",
    "    generated_images = generator.predict(\n",
    "        [noise, sampled_labels], verbose=0)\n",
    "\n",
    "    # prepare real images sorted by class label\n",
    "    real_labels = y_train[(epoch - 1) * num_rows * num_classes:\n",
    "                          epoch * num_rows * num_classes]\n",
    "    indices = np.argsort(real_labels, axis=0)\n",
    "    real_images = x_train[(epoch - 1) * num_rows * num_classes:\n",
    "                          epoch * num_rows * num_classes][indices]\n",
    "\n",
    "    # display generated images, white separator, real images\n",
    "    img = np.concatenate(\n",
    "        (generated_images,\n",
    "         np.repeat(np.ones_like(x_train[:1]), num_rows, axis=0),\n",
    "         real_images))\n",
    "\n",
    "    # arrange them into a grid\n",
    "    img = (np.concatenate([r.reshape(-1, 28)\n",
    "                           for r in np.split(img, 2 * num_classes + 1)\n",
    "                           ], axis=-1) * 127.5 + 127.5).astype(np.uint8)\n",
    "\n",
    "    Image.fromarray(img).save(\n",
    "        'plot_epoch_{0:03d}_generated.png'.format(epoch))"
   ]
  },
  {
   "cell_type": "code",
   "execution_count": null,
   "metadata": {
    "ExecuteTime": {
     "end_time": "2018-08-21T12:39:15.663861Z",
     "start_time": "2018-08-21T12:39:15.654987Z"
    }
   },
   "outputs": [],
   "source": [
    "with open('acgan-history.pkl', 'wb') as f:\n",
    "    pickle.dump({'train': train_history, 'test': test_history}, f)"
   ]
  }
 ],
 "metadata": {
  "kernelspec": {
   "display_name": "Python 3",
   "language": "python",
   "name": "python3"
  },
  "language_info": {
   "codemirror_mode": {
    "name": "ipython",
    "version": 3
   },
   "file_extension": ".py",
   "mimetype": "text/x-python",
   "name": "python",
   "nbconvert_exporter": "python",
   "pygments_lexer": "ipython3",
   "version": "3.6.3"
  },
  "toc": {
   "base_numbering": 1,
   "nav_menu": {},
   "number_sections": true,
   "sideBar": true,
   "skip_h1_title": false,
   "title_cell": "Table of Contents",
   "title_sidebar": "Contents",
   "toc_cell": false,
   "toc_position": {},
   "toc_section_display": true,
   "toc_window_display": false
  },
  "varInspector": {
   "cols": {
    "lenName": 16,
    "lenType": 16,
    "lenVar": 40
   },
   "kernels_config": {
    "python": {
     "delete_cmd_postfix": "",
     "delete_cmd_prefix": "del ",
     "library": "var_list.py",
     "varRefreshCmd": "print(var_dic_list())"
    },
    "r": {
     "delete_cmd_postfix": ") ",
     "delete_cmd_prefix": "rm(",
     "library": "var_list.r",
     "varRefreshCmd": "cat(var_dic_list()) "
    }
   },
   "types_to_exclude": [
    "module",
    "function",
    "builtin_function_or_method",
    "instance",
    "_Feature"
   ],
   "window_display": false
  }
 },
 "nbformat": 4,
 "nbformat_minor": 2
}
