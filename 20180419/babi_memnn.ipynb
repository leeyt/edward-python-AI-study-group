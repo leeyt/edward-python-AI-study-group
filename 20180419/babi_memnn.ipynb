{
 "cells": [
  {
   "cell_type": "markdown",
   "metadata": {
    "ExecuteTime": {
     "end_time": "2018-08-16T07:17:56.566963Z",
     "start_time": "2018-08-16T07:17:56.560659Z"
    }
   },
   "source": [
    "# bAbi - Memory Network\n",
    "\n",
    "Trains a memory network on the bAbI dataset.\n",
    "\n",
    "References:\n",
    "\n",
    "- Jason Weston, Antoine Bordes, Sumit Chopra, Tomas Mikolov, Alexander M. Rush,  \n",
    "  [Towards AI-Complete Question Answering: A Set of Prerequisite Toy Tasks](http://arxiv.org/abs/1502.05698)\n",
    "\n",
    "- Sainbayar Sukhbaatar, Arthur Szlam, Jason Weston, Rob Fergus,  \n",
    "  [End-To-End Memory Networks](http://arxiv.org/abs/1503.08895)\n",
    "\n",
    "Reaches 98.6% accuracy on task 'single_supporting_fact_10k' after 120 epochs.  \n",
    "Time per epoch: 3s on CPU (core i7)."
   ]
  },
  {
   "cell_type": "code",
   "execution_count": 1,
   "metadata": {
    "ExecuteTime": {
     "end_time": "2018-08-16T07:28:12.682569Z",
     "start_time": "2018-08-16T07:28:09.452981Z"
    }
   },
   "outputs": [
    {
     "name": "stderr",
     "output_type": "stream",
     "text": [
      "Using TensorFlow backend.\n"
     ]
    }
   ],
   "source": [
    "from keras.models import Sequential, Model\n",
    "from keras.layers.embeddings import Embedding\n",
    "from keras.layers import Input, Activation, Dense, Permute, Dropout, add, dot, concatenate\n",
    "from keras.layers import LSTM\n",
    "from keras.utils.data_utils import get_file\n",
    "from keras.preprocessing.sequence import pad_sequences\n",
    "\n",
    "from functools import reduce\n",
    "import tarfile\n",
    "import numpy as np\n",
    "import re"
   ]
  },
  {
   "cell_type": "code",
   "execution_count": 2,
   "metadata": {
    "ExecuteTime": {
     "end_time": "2018-08-16T07:28:12.694557Z",
     "start_time": "2018-08-16T07:28:12.685647Z"
    }
   },
   "outputs": [],
   "source": [
    "def tokenize(sent):\n",
    "    '''Return the tokens of a sentence including punctuation.\n",
    "\n",
    "    >>> tokenize('Bob dropped the apple. Where is the apple?')\n",
    "    ['Bob', 'dropped', 'the', 'apple', '.', 'Where', 'is', 'the', 'apple', '?']\n",
    "    '''\n",
    "    return [x.strip() for x in re.split('(\\W+)?', sent) if x.strip()]"
   ]
  },
  {
   "cell_type": "code",
   "execution_count": 3,
   "metadata": {
    "ExecuteTime": {
     "end_time": "2018-08-16T07:28:12.769934Z",
     "start_time": "2018-08-16T07:28:12.703215Z"
    }
   },
   "outputs": [],
   "source": [
    "def parse_stories(lines, only_supporting=False):\n",
    "    '''Parse stories provided in the bAbi tasks format\n",
    "\n",
    "    If only_supporting is true, only the sentences\n",
    "    that support the answer are kept.\n",
    "    '''\n",
    "    data = []\n",
    "    story = []\n",
    "    for line in lines:\n",
    "        line = line.decode('utf-8').strip()\n",
    "        nid, line = line.split(' ', 1)\n",
    "        nid = int(nid)\n",
    "        if nid == 1:\n",
    "            story = []\n",
    "        if '\\t' in line:\n",
    "            q, a, supporting = line.split('\\t')\n",
    "            q = tokenize(q)\n",
    "            substory = None\n",
    "            if only_supporting:\n",
    "                # Only select the related substory\n",
    "                supporting = map(int, supporting.split())\n",
    "                substory = [story[i - 1] for i in supporting]\n",
    "            else:\n",
    "                # Provide all the substories\n",
    "                substory = [x for x in story if x]\n",
    "            data.append((substory, q, a))\n",
    "            story.append('')\n",
    "        else:\n",
    "            sent = tokenize(line)\n",
    "            story.append(sent)\n",
    "    return data"
   ]
  },
  {
   "cell_type": "code",
   "execution_count": 4,
   "metadata": {
    "ExecuteTime": {
     "end_time": "2018-08-16T07:28:12.789163Z",
     "start_time": "2018-08-16T07:28:12.773428Z"
    }
   },
   "outputs": [],
   "source": [
    "def get_stories(f, only_supporting=False, max_length=None):\n",
    "    '''Given a file name, read the file,\n",
    "    retrieve the stories,\n",
    "    and then convert the sentences into a single story.\n",
    "\n",
    "    If max_length is supplied,\n",
    "    any stories longer than max_length tokens will be discarded.\n",
    "    '''\n",
    "    data = parse_stories(f.readlines(), only_supporting=only_supporting)\n",
    "    flatten = lambda data: reduce(lambda x, y: x + y, data)\n",
    "    data = [(flatten(story), q, answer) for story, q, answer in data if not max_length or len(flatten(story)) < max_length]\n",
    "    return data"
   ]
  },
  {
   "cell_type": "code",
   "execution_count": 5,
   "metadata": {
    "ExecuteTime": {
     "end_time": "2018-08-16T07:28:12.809885Z",
     "start_time": "2018-08-16T07:28:12.793006Z"
    }
   },
   "outputs": [],
   "source": [
    "def vectorize_stories(data):\n",
    "    inputs, queries, answers = [], [], []\n",
    "    for story, query, answer in data:\n",
    "        inputs.append([word_idx[w] for w in story])\n",
    "        queries.append([word_idx[w] for w in query])\n",
    "        answers.append(word_idx[answer])\n",
    "    return (pad_sequences(inputs, maxlen=story_maxlen),\n",
    "            pad_sequences(queries, maxlen=query_maxlen),\n",
    "            np.array(answers))"
   ]
  },
  {
   "cell_type": "code",
   "execution_count": 6,
   "metadata": {
    "ExecuteTime": {
     "end_time": "2018-08-16T07:28:12.829323Z",
     "start_time": "2018-08-16T07:28:12.818627Z"
    }
   },
   "outputs": [],
   "source": [
    "try:\n",
    "    path = get_file('babi-tasks-v1-2.tar.gz', origin='https://s3.amazonaws.com/text-datasets/babi_tasks_1-20_v1-2.tar.gz')\n",
    "except:\n",
    "    print('Error downloading dataset, please download it manually:\\n'\n",
    "          '$ wget http://www.thespermwhale.com/jaseweston/babi/tasks_1-20_v1-2.tar.gz\\n'\n",
    "          '$ mv tasks_1-20_v1-2.tar.gz ~/.keras/datasets/babi-tasks-v1-2.tar.gz')\n",
    "    raise"
   ]
  },
  {
   "cell_type": "code",
   "execution_count": 7,
   "metadata": {
    "ExecuteTime": {
     "end_time": "2018-08-16T07:28:12.843593Z",
     "start_time": "2018-08-16T07:28:12.832969Z"
    }
   },
   "outputs": [],
   "source": [
    "challenges = {\n",
    "    # QA1 with 10,000 samples\n",
    "    'single_supporting_fact_10k': 'tasks_1-20_v1-2/en-10k/qa1_single-supporting-fact_{}.txt',\n",
    "    # QA2 with 10,000 samples\n",
    "    'two_supporting_facts_10k': 'tasks_1-20_v1-2/en-10k/qa2_two-supporting-facts_{}.txt',\n",
    "}\n",
    "challenge_type = 'single_supporting_fact_10k'\n",
    "challenge = challenges[challenge_type]"
   ]
  },
  {
   "cell_type": "code",
   "execution_count": 8,
   "metadata": {
    "ExecuteTime": {
     "end_time": "2018-08-16T07:28:14.361104Z",
     "start_time": "2018-08-16T07:28:12.850331Z"
    }
   },
   "outputs": [
    {
     "name": "stdout",
     "output_type": "stream",
     "text": [
      "Extracting stories for the challenge: single_supporting_fact_10k\n"
     ]
    },
    {
     "name": "stderr",
     "output_type": "stream",
     "text": [
      "/Users/neillee/anaconda3/lib/python3.6/re.py:212: FutureWarning: split() requires a non-empty pattern match.\n",
      "  return _compile(pattern, flags).split(string, maxsplit)\n"
     ]
    }
   ],
   "source": [
    "print('Extracting stories for the challenge:', challenge_type)\n",
    "with tarfile.open(path) as tar:\n",
    "    train_stories = get_stories(tar.extractfile(challenge.format('train')))\n",
    "    test_stories = get_stories(tar.extractfile(challenge.format('test')))"
   ]
  },
  {
   "cell_type": "code",
   "execution_count": 9,
   "metadata": {
    "ExecuteTime": {
     "end_time": "2018-08-16T07:28:14.428619Z",
     "start_time": "2018-08-16T07:28:14.364489Z"
    }
   },
   "outputs": [],
   "source": [
    "vocab = set()\n",
    "for story, q, answer in train_stories + test_stories:\n",
    "    vocab |= set(story + q + [answer])\n",
    "vocab = sorted(vocab)"
   ]
  },
  {
   "cell_type": "code",
   "execution_count": 10,
   "metadata": {
    "ExecuteTime": {
     "end_time": "2018-08-16T07:28:14.448800Z",
     "start_time": "2018-08-16T07:28:14.431498Z"
    }
   },
   "outputs": [],
   "source": [
    "# Reserve 0 for masking via pad_sequences\n",
    "vocab_size = len(vocab) + 1\n",
    "story_maxlen = max(map(len, (x for x, _, _ in train_stories + test_stories)))\n",
    "query_maxlen = max(map(len, (x for _, x, _ in train_stories + test_stories)))"
   ]
  },
  {
   "cell_type": "code",
   "execution_count": 11,
   "metadata": {
    "ExecuteTime": {
     "end_time": "2018-08-16T07:28:14.488596Z",
     "start_time": "2018-08-16T07:28:14.453393Z"
    }
   },
   "outputs": [
    {
     "name": "stdout",
     "output_type": "stream",
     "text": [
      "-\n",
      "Vocab size: 22 unique words\n",
      "Story max length: 68 words\n",
      "Query max length: 4 words\n",
      "Number of training stories: 10000\n",
      "Number of test stories: 1000\n",
      "-\n",
      "Here's what a \"story\" tuple looks like (input, query, answer):\n",
      "(['Mary', 'moved', 'to', 'the', 'bathroom', '.', 'John', 'went', 'to', 'the', 'hallway', '.'], ['Where', 'is', 'Mary', '?'], 'bathroom')\n",
      "-\n"
     ]
    }
   ],
   "source": [
    "print('-')\n",
    "print('Vocab size:', vocab_size, 'unique words')\n",
    "print('Story max length:', story_maxlen, 'words')\n",
    "print('Query max length:', query_maxlen, 'words')\n",
    "print('Number of training stories:', len(train_stories))\n",
    "print('Number of test stories:', len(test_stories))\n",
    "print('-')\n",
    "print('Here\\'s what a \"story\" tuple looks like (input, query, answer):')\n",
    "print(train_stories[0])\n",
    "print('-')"
   ]
  },
  {
   "cell_type": "code",
   "execution_count": 12,
   "metadata": {
    "ExecuteTime": {
     "end_time": "2018-08-16T07:28:14.874469Z",
     "start_time": "2018-08-16T07:28:14.501741Z"
    }
   },
   "outputs": [
    {
     "name": "stdout",
     "output_type": "stream",
     "text": [
      "Vectorizing the word sequences...\n",
      "-\n",
      "inputs: integer tensor of shape (samples, max_length)\n",
      "inputs_train shape: (10000, 68)\n",
      "inputs_test shape: (1000, 68)\n",
      "-\n",
      "queries: integer tensor of shape (samples, max_length)\n",
      "queries_train shape: (10000, 4)\n",
      "queries_test shape: (1000, 4)\n",
      "-\n",
      "answers: binary (1 or 0) tensor of shape (samples, vocab_size)\n",
      "answers_train shape: (10000,)\n",
      "answers_test shape: (1000,)\n",
      "-\n",
      "Compiling...\n"
     ]
    }
   ],
   "source": [
    "print('Vectorizing the word sequences...')\n",
    "word_idx = dict((c, i + 1) for i, c in enumerate(vocab))\n",
    "inputs_train, queries_train, answers_train = vectorize_stories(train_stories)\n",
    "inputs_test, queries_test, answers_test = vectorize_stories(test_stories)\n",
    "\n",
    "print('-')\n",
    "print('inputs: integer tensor of shape (samples, max_length)')\n",
    "print('inputs_train shape:', inputs_train.shape)\n",
    "print('inputs_test shape:', inputs_test.shape)\n",
    "print('-')\n",
    "print('queries: integer tensor of shape (samples, max_length)')\n",
    "print('queries_train shape:', queries_train.shape)\n",
    "print('queries_test shape:', queries_test.shape)\n",
    "print('-')\n",
    "print('answers: binary (1 or 0) tensor of shape (samples, vocab_size)')\n",
    "print('answers_train shape:', answers_train.shape)\n",
    "print('answers_test shape:', answers_test.shape)\n",
    "print('-')\n",
    "print('Compiling...')"
   ]
  },
  {
   "cell_type": "code",
   "execution_count": 13,
   "metadata": {
    "ExecuteTime": {
     "end_time": "2018-08-16T07:28:15.756014Z",
     "start_time": "2018-08-16T07:28:14.879969Z"
    }
   },
   "outputs": [
    {
     "name": "stdout",
     "output_type": "stream",
     "text": [
      "__________________________________________________________________________________________________\n",
      "Layer (type)                    Output Shape         Param #     Connected to                     \n",
      "==================================================================================================\n",
      "input_1 (InputLayer)            (None, 68)           0                                            \n",
      "__________________________________________________________________________________________________\n",
      "input_2 (InputLayer)            (None, 4)            0                                            \n",
      "__________________________________________________________________________________________________\n",
      "sequential_1 (Sequential)       multiple             1408        input_1[0][0]                    \n",
      "__________________________________________________________________________________________________\n",
      "sequential_3 (Sequential)       (None, 4, 64)        1408        input_2[0][0]                    \n",
      "__________________________________________________________________________________________________\n",
      "dot_1 (Dot)                     (None, 68, 4)        0           sequential_1[1][0]               \n",
      "                                                                 sequential_3[1][0]               \n",
      "__________________________________________________________________________________________________\n",
      "activation_1 (Activation)       (None, 68, 4)        0           dot_1[0][0]                      \n",
      "__________________________________________________________________________________________________\n",
      "sequential_2 (Sequential)       multiple             88          input_1[0][0]                    \n",
      "__________________________________________________________________________________________________\n",
      "add_1 (Add)                     (None, 68, 4)        0           activation_1[0][0]               \n",
      "                                                                 sequential_2[1][0]               \n",
      "__________________________________________________________________________________________________\n",
      "permute_1 (Permute)             (None, 4, 68)        0           add_1[0][0]                      \n",
      "__________________________________________________________________________________________________\n",
      "concatenate_1 (Concatenate)     (None, 4, 132)       0           permute_1[0][0]                  \n",
      "                                                                 sequential_3[1][0]               \n",
      "__________________________________________________________________________________________________\n",
      "lstm_1 (LSTM)                   (None, 32)           21120       concatenate_1[0][0]              \n",
      "__________________________________________________________________________________________________\n",
      "dropout_4 (Dropout)             (None, 32)           0           lstm_1[0][0]                     \n",
      "__________________________________________________________________________________________________\n",
      "dense_1 (Dense)                 (None, 22)           726         dropout_4[0][0]                  \n",
      "__________________________________________________________________________________________________\n",
      "activation_2 (Activation)       (None, 22)           0           dense_1[0][0]                    \n",
      "==================================================================================================\n",
      "Total params: 24,750\n",
      "Trainable params: 24,750\n",
      "Non-trainable params: 0\n",
      "__________________________________________________________________________________________________\n"
     ]
    }
   ],
   "source": [
    "# placeholders\n",
    "input_sequence = Input((story_maxlen,))\n",
    "question = Input((query_maxlen,))\n",
    "\n",
    "# encoders\n",
    "# embed the input sequence into a sequence of vectors\n",
    "input_encoder_m = Sequential()\n",
    "input_encoder_m.add(Embedding(input_dim=vocab_size,\n",
    "                              output_dim=64))\n",
    "input_encoder_m.add(Dropout(0.3))\n",
    "# output: (samples, story_maxlen, embedding_dim)\n",
    "\n",
    "# embed the input into a sequence of vectors of size query_maxlen\n",
    "input_encoder_c = Sequential()\n",
    "input_encoder_c.add(Embedding(input_dim=vocab_size,\n",
    "                              output_dim=query_maxlen))\n",
    "input_encoder_c.add(Dropout(0.3))\n",
    "# output: (samples, story_maxlen, query_maxlen)\n",
    "\n",
    "# embed the question into a sequence of vectors\n",
    "question_encoder = Sequential()\n",
    "question_encoder.add(Embedding(input_dim=vocab_size,\n",
    "                               output_dim=64,\n",
    "                               input_length=query_maxlen))\n",
    "question_encoder.add(Dropout(0.3))\n",
    "# output: (samples, query_maxlen, embedding_dim)\n",
    "\n",
    "# encode input sequence and questions (which are indices)\n",
    "# to sequences of dense vectors\n",
    "input_encoded_m = input_encoder_m(input_sequence)\n",
    "input_encoded_c = input_encoder_c(input_sequence)\n",
    "question_encoded = question_encoder(question)\n",
    "\n",
    "# compute a 'match' between the first input vector sequence\n",
    "# and the question vector sequence\n",
    "# shape: `(samples, story_maxlen, query_maxlen)`\n",
    "match = dot([input_encoded_m, question_encoded], axes=(2, 2))\n",
    "match = Activation('softmax')(match)\n",
    "\n",
    "# add the match matrix with the second input vector sequence\n",
    "response = add([match, input_encoded_c])  # (samples, story_maxlen, query_maxlen)\n",
    "response = Permute((2, 1))(response)  # (samples, query_maxlen, story_maxlen)\n",
    "\n",
    "# concatenate the match matrix with the question vector sequence\n",
    "answer = concatenate([response, question_encoded])\n",
    "\n",
    "# the original paper uses a matrix multiplication for this reduction step.\n",
    "# we choose to use a RNN instead.\n",
    "answer = LSTM(32)(answer)  # (samples, 32)\n",
    "\n",
    "# one regularization layer -- more would probably be needed.\n",
    "answer = Dropout(0.3)(answer)\n",
    "answer = Dense(vocab_size)(answer)  # (samples, vocab_size)\n",
    "# we output a probability distribution over the vocabulary\n",
    "answer = Activation('softmax')(answer)\n",
    "\n",
    "# build the final model\n",
    "model = Model([input_sequence, question], answer)\n",
    "model.compile(optimizer='rmsprop', loss='sparse_categorical_crossentropy',\n",
    "              metrics=['accuracy'])\n",
    "model.summary()"
   ]
  },
  {
   "cell_type": "code",
   "execution_count": 14,
   "metadata": {
    "ExecuteTime": {
     "end_time": "2018-08-16T07:48:52.676094Z",
     "start_time": "2018-08-16T07:28:15.763910Z"
    }
   },
   "outputs": [
    {
     "name": "stdout",
     "output_type": "stream",
     "text": [
      "Train on 10000 samples, validate on 1000 samples\n",
      "Epoch 1/120\n",
      "10000/10000 [==============================] - 10s 1ms/step - loss: 1.9388 - acc: 0.1632 - val_loss: 1.7969 - val_acc: 0.1820\n",
      "Epoch 2/120\n",
      "10000/10000 [==============================] - 10s 952us/step - loss: 1.7861 - acc: 0.2016 - val_loss: 1.6890 - val_acc: 0.2650\n",
      "Epoch 3/120\n",
      "10000/10000 [==============================] - 9s 914us/step - loss: 1.6598 - acc: 0.3193 - val_loss: 1.5971 - val_acc: 0.3340\n",
      "Epoch 4/120\n",
      "10000/10000 [==============================] - 11s 1ms/step - loss: 1.5503 - acc: 0.3947 - val_loss: 1.4678 - val_acc: 0.4590\n",
      "Epoch 5/120\n",
      "10000/10000 [==============================] - 9s 945us/step - loss: 1.4808 - acc: 0.4374 - val_loss: 1.3948 - val_acc: 0.4680\n",
      "Epoch 6/120\n",
      "10000/10000 [==============================] - 9s 896us/step - loss: 1.4118 - acc: 0.4595 - val_loss: 1.3578 - val_acc: 0.4730\n",
      "Epoch 7/120\n",
      "10000/10000 [==============================] - 10s 970us/step - loss: 1.3840 - acc: 0.4634 - val_loss: 1.3506 - val_acc: 0.4670\n",
      "Epoch 8/120\n",
      "10000/10000 [==============================] - 10s 1ms/step - loss: 1.3737 - acc: 0.4725 - val_loss: 1.3410 - val_acc: 0.4700\n",
      "Epoch 9/120\n",
      "10000/10000 [==============================] - 10s 1ms/step - loss: 1.3626 - acc: 0.4688 - val_loss: 1.3541 - val_acc: 0.4680\n",
      "Epoch 10/120\n",
      "10000/10000 [==============================] - 9s 944us/step - loss: 1.3538 - acc: 0.4729 - val_loss: 1.3272 - val_acc: 0.4850\n",
      "Epoch 11/120\n",
      "10000/10000 [==============================] - 10s 1ms/step - loss: 1.3406 - acc: 0.4761 - val_loss: 1.2869 - val_acc: 0.5120\n",
      "Epoch 12/120\n",
      "10000/10000 [==============================] - 12s 1ms/step - loss: 1.2978 - acc: 0.4916 - val_loss: 1.2782 - val_acc: 0.5060s: 1.2977 - acc:\n",
      "Epoch 13/120\n",
      "10000/10000 [==============================] - 10s 1ms/step - loss: 1.2597 - acc: 0.5008 - val_loss: 1.2482 - val_acc: 0.5110\n",
      "Epoch 14/120\n",
      "10000/10000 [==============================] - 10s 998us/step - loss: 1.2411 - acc: 0.5009 - val_loss: 1.2594 - val_acc: 0.4910\n",
      "Epoch 15/120\n",
      "10000/10000 [==============================] - 12s 1ms/step - loss: 1.2403 - acc: 0.5033 - val_loss: 1.2446 - val_acc: 0.5030\n",
      "Epoch 16/120\n",
      "10000/10000 [==============================] - 14s 1ms/step - loss: 1.2335 - acc: 0.5032 - val_loss: 1.2559 - val_acc: 0.4990\n",
      "Epoch 17/120\n",
      "10000/10000 [==============================] - 11s 1ms/step - loss: 1.2184 - acc: 0.5070 - val_loss: 1.2287 - val_acc: 0.5100 0s - loss: 1.2220 - \n",
      "Epoch 18/120\n",
      "10000/10000 [==============================] - 9s 947us/step - loss: 1.2172 - acc: 0.5152 - val_loss: 1.2064 - val_acc: 0.5250\n",
      "Epoch 19/120\n",
      "10000/10000 [==============================] - 11s 1ms/step - loss: 1.2135 - acc: 0.5093 - val_loss: 1.2515 - val_acc: 0.4810\n",
      "Epoch 20/120\n",
      "10000/10000 [==============================] - 10s 1ms/step - loss: 1.2076 - acc: 0.5107 - val_loss: 1.2094 - val_acc: 0.5110\n",
      "Epoch 21/120\n",
      "10000/10000 [==============================] - 12s 1ms/step - loss: 1.1950 - acc: 0.5119 - val_loss: 1.2414 - val_acc: 0.4840\n",
      "Epoch 22/120\n",
      "10000/10000 [==============================] - 11s 1ms/step - loss: 1.1871 - acc: 0.5190 - val_loss: 1.1953 - val_acc: 0.5070\n",
      "Epoch 23/120\n",
      "10000/10000 [==============================] - 11s 1ms/step - loss: 1.1893 - acc: 0.5152 - val_loss: 1.1867 - val_acc: 0.5220\n",
      "Epoch 24/120\n",
      "10000/10000 [==============================] - 11s 1ms/step - loss: 1.1803 - acc: 0.5163 - val_loss: 1.2042 - val_acc: 0.5220\n",
      "Epoch 25/120\n",
      "10000/10000 [==============================] - 12s 1ms/step - loss: 1.1791 - acc: 0.5191 - val_loss: 1.1990 - val_acc: 0.5050\n",
      "Epoch 26/120\n",
      "10000/10000 [==============================] - 16s 2ms/step - loss: 1.1734 - acc: 0.5174 - val_loss: 1.1805 - val_acc: 0.5190\n",
      "Epoch 27/120\n",
      "10000/10000 [==============================] - 16s 2ms/step - loss: 1.1764 - acc: 0.5217 - val_loss: 1.1773 - val_acc: 0.5170\n",
      "Epoch 28/120\n",
      "10000/10000 [==============================] - 12s 1ms/step - loss: 1.1615 - acc: 0.5207 - val_loss: 1.1621 - val_acc: 0.5210acc: 0.52 - - ETA: 0s - loss: 1.1610 - acc:\n",
      "Epoch 29/120\n",
      "10000/10000 [==============================] - 11s 1ms/step - loss: 1.1580 - acc: 0.5290 - val_loss: 1.1679 - val_acc: 0.5130\n",
      "Epoch 30/120\n",
      "10000/10000 [==============================] - 12s 1ms/step - loss: 1.1561 - acc: 0.5252 - val_loss: 1.1547 - val_acc: 0.5220\n",
      "Epoch 31/120\n",
      "10000/10000 [==============================] - 10s 1ms/step - loss: 1.1516 - acc: 0.5228 - val_loss: 1.1509 - val_acc: 0.5340\n",
      "Epoch 32/120\n",
      "10000/10000 [==============================] - 10s 964us/step - loss: 1.1448 - acc: 0.5248 - val_loss: 1.1683 - val_acc: 0.5100\n",
      "Epoch 33/120\n",
      "10000/10000 [==============================] - 9s 902us/step - loss: 1.1415 - acc: 0.5365 - val_loss: 1.1598 - val_acc: 0.5080.1431 - acc:\n",
      "Epoch 34/120\n",
      "10000/10000 [==============================] - 9s 894us/step - loss: 1.1382 - acc: 0.5344 - val_loss: 1.1521 - val_acc: 0.5240\n",
      "Epoch 35/120\n",
      "10000/10000 [==============================] - 10s 1ms/step - loss: 1.1298 - acc: 0.5357 - val_loss: 1.1604 - val_acc: 0.5230\n",
      "Epoch 36/120\n",
      "10000/10000 [==============================] - 8s 833us/step - loss: 1.1293 - acc: 0.5317 - val_loss: 1.1771 - val_acc: 0.5270\n",
      "Epoch 37/120\n",
      "10000/10000 [==============================] - 10s 1ms/step - loss: 1.1161 - acc: 0.5413 - val_loss: 1.1851 - val_acc: 0.5070\n",
      "Epoch 38/120\n",
      "10000/10000 [==============================] - 13s 1ms/step - loss: 1.1180 - acc: 0.5389 - val_loss: 1.1458 - val_acc: 0.5210\n",
      "Epoch 39/120\n",
      "10000/10000 [==============================] - 14s 1ms/step - loss: 1.1143 - acc: 0.5387 - val_loss: 1.1525 - val_acc: 0.5160\n",
      "Epoch 40/120\n",
      "10000/10000 [==============================] - 11s 1ms/step - loss: 1.1072 - acc: 0.5403 - val_loss: 1.1536 - val_acc: 0.5070\n",
      "Epoch 41/120\n",
      "10000/10000 [==============================] - 8s 821us/step - loss: 1.0934 - acc: 0.5485 - val_loss: 1.1505 - val_acc: 0.5150\n",
      "Epoch 42/120\n",
      "10000/10000 [==============================] - 10s 1ms/step - loss: 1.0917 - acc: 0.5537 - val_loss: 1.1553 - val_acc: 0.5290\n",
      "Epoch 43/120\n",
      "10000/10000 [==============================] - 10s 1ms/step - loss: 1.0805 - acc: 0.5574 - val_loss: 1.0980 - val_acc: 0.5410\n",
      "Epoch 44/120\n",
      "10000/10000 [==============================] - 10s 1ms/step - loss: 1.0434 - acc: 0.5749 - val_loss: 1.1410 - val_acc: 0.5640\n",
      "Epoch 45/120\n",
      "10000/10000 [==============================] - 12s 1ms/step - loss: 0.9868 - acc: 0.6087 - val_loss: 0.9699 - val_acc: 0.6210\n",
      "Epoch 46/120\n",
      "10000/10000 [==============================] - 11s 1ms/step - loss: 0.8788 - acc: 0.6684 - val_loss: 0.8397 - val_acc: 0.6790\n",
      "Epoch 47/120\n",
      "10000/10000 [==============================] - 9s 909us/step - loss: 0.7821 - acc: 0.7102 - val_loss: 0.8240 - val_acc: 0.7140\n",
      "Epoch 48/120\n",
      "10000/10000 [==============================] - 8s 847us/step - loss: 0.7185 - acc: 0.7364 - val_loss: 0.7293 - val_acc: 0.7260\n",
      "Epoch 49/120\n",
      "10000/10000 [==============================] - 8s 842us/step - loss: 0.6647 - acc: 0.7540 - val_loss: 0.6772 - val_acc: 0.7460\n",
      "Epoch 50/120\n",
      "10000/10000 [==============================] - 11s 1ms/step - loss: 0.6333 - acc: 0.7661 - val_loss: 0.6448 - val_acc: 0.7580\n",
      "Epoch 51/120\n",
      "10000/10000 [==============================] - 9s 870us/step - loss: 0.6139 - acc: 0.7734 - val_loss: 0.6302 - val_acc: 0.7510\n",
      "Epoch 52/120\n",
      "10000/10000 [==============================] - 10s 999us/step - loss: 0.5979 - acc: 0.7743 - val_loss: 0.6202 - val_acc: 0.7650\n",
      "Epoch 53/120\n",
      "10000/10000 [==============================] - 15s 2ms/step - loss: 0.5699 - acc: 0.7839 - val_loss: 0.5937 - val_acc: 0.7730s - loss:  - ETA: 4s - lo - ETA: \n",
      "Epoch 54/120\n",
      "10000/10000 [==============================] - 13s 1ms/step - loss: 0.5531 - acc: 0.7900 - val_loss: 0.5683 - val_acc: 0.7900\n",
      "Epoch 55/120\n",
      "10000/10000 [==============================] - 10s 1ms/step - loss: 0.5352 - acc: 0.8007 - val_loss: 0.5627 - val_acc: 0.7790\n",
      "Epoch 56/120\n",
      "10000/10000 [==============================] - 10s 987us/step - loss: 0.5021 - acc: 0.8046 - val_loss: 0.5206 - val_acc: 0.8040\n",
      "Epoch 57/120\n",
      "10000/10000 [==============================] - 11s 1ms/step - loss: 0.4795 - acc: 0.8158 - val_loss: 0.5198 - val_acc: 0.8020\n",
      "Epoch 58/120\n"
     ]
    },
    {
     "name": "stdout",
     "output_type": "stream",
     "text": [
      "10000/10000 [==============================] - 9s 937us/step - loss: 0.4563 - acc: 0.8244 - val_loss: 0.4807 - val_acc: 0.8290\n",
      "Epoch 59/120\n",
      "10000/10000 [==============================] - 9s 907us/step - loss: 0.4288 - acc: 0.8368 - val_loss: 0.4570 - val_acc: 0.8270\n",
      "Epoch 60/120\n",
      "10000/10000 [==============================] - 10s 982us/step - loss: 0.4100 - acc: 0.8416 - val_loss: 0.4343 - val_acc: 0.8370\n",
      "Epoch 61/120\n",
      "10000/10000 [==============================] - 9s 934us/step - loss: 0.3873 - acc: 0.8541 - val_loss: 0.4157 - val_acc: 0.83908 - acc\n",
      "Epoch 62/120\n",
      "10000/10000 [==============================] - 10s 979us/step - loss: 0.3732 - acc: 0.8590 - val_loss: 0.4094 - val_acc: 0.8460\n",
      "Epoch 63/120\n",
      "10000/10000 [==============================] - 10s 961us/step - loss: 0.3559 - acc: 0.8657 - val_loss: 0.4036 - val_acc: 0.8470\n",
      "Epoch 64/120\n",
      "10000/10000 [==============================] - 9s 902us/step - loss: 0.3432 - acc: 0.8710 - val_loss: 0.3867 - val_acc: 0.8510\n",
      "Epoch 65/120\n",
      "10000/10000 [==============================] - 9s 919us/step - loss: 0.3298 - acc: 0.8735 - val_loss: 0.3717 - val_acc: 0.8620\n",
      "Epoch 66/120\n",
      "10000/10000 [==============================] - 10s 976us/step - loss: 0.3127 - acc: 0.8827 - val_loss: 0.3682 - val_acc: 0.8710\n",
      "Epoch 67/120\n",
      "10000/10000 [==============================] - 9s 912us/step - loss: 0.3034 - acc: 0.8853 - val_loss: 0.3427 - val_acc: 0.8720\n",
      "Epoch 68/120\n",
      "10000/10000 [==============================] - 10s 1ms/step - loss: 0.2931 - acc: 0.8905 - val_loss: 0.3594 - val_acc: 0.8730\n",
      "Epoch 69/120\n",
      "10000/10000 [==============================] - 8s 814us/step - loss: 0.2760 - acc: 0.8977 - val_loss: 0.4100 - val_acc: 0.8490\n",
      "Epoch 70/120\n",
      "10000/10000 [==============================] - 8s 827us/step - loss: 0.2688 - acc: 0.9025 - val_loss: 0.3086 - val_acc: 0.8840\n",
      "Epoch 71/120\n",
      "10000/10000 [==============================] - 8s 821us/step - loss: 0.2522 - acc: 0.9059 - val_loss: 0.3137 - val_acc: 0.8900\n",
      "Epoch 72/120\n",
      "10000/10000 [==============================] - 8s 819us/step - loss: 0.2442 - acc: 0.9086 - val_loss: 0.2844 - val_acc: 0.8990\n",
      "Epoch 73/120\n",
      "10000/10000 [==============================] - 10s 1ms/step - loss: 0.2316 - acc: 0.9152 - val_loss: 0.3004 - val_acc: 0.8870 0s - loss: 0.2309 - acc: 0\n",
      "Epoch 74/120\n",
      "10000/10000 [==============================] - 10s 982us/step - loss: 0.2299 - acc: 0.9147 - val_loss: 0.3156 - val_acc: 0.8820\n",
      "Epoch 75/120\n",
      "10000/10000 [==============================] - 9s 864us/step - loss: 0.2140 - acc: 0.9195 - val_loss: 0.2566 - val_acc: 0.9090\n",
      "Epoch 76/120\n",
      "10000/10000 [==============================] - 8s 783us/step - loss: 0.2053 - acc: 0.9266 - val_loss: 0.2391 - val_acc: 0.9200\n",
      "Epoch 77/120\n",
      "10000/10000 [==============================] - 8s 807us/step - loss: 0.2018 - acc: 0.9285 - val_loss: 0.2595 - val_acc: 0.9020\n",
      "Epoch 78/120\n",
      "10000/10000 [==============================] - 8s 786us/step - loss: 0.1957 - acc: 0.9278 - val_loss: 0.2388 - val_acc: 0.9140\n",
      "Epoch 79/120\n",
      "10000/10000 [==============================] - 8s 809us/step - loss: 0.1863 - acc: 0.9348 - val_loss: 0.2454 - val_acc: 0.9130\n",
      "Epoch 80/120\n",
      "10000/10000 [==============================] - 8s 788us/step - loss: 0.1821 - acc: 0.9345 - val_loss: 0.2898 - val_acc: 0.9090\n",
      "Epoch 81/120\n",
      "10000/10000 [==============================] - 9s 919us/step - loss: 0.1780 - acc: 0.9355 - val_loss: 0.2467 - val_acc: 0.9120\n",
      "Epoch 82/120\n",
      "10000/10000 [==============================] - 10s 955us/step - loss: 0.1666 - acc: 0.9388 - val_loss: 0.2595 - val_acc: 0.9130\n",
      "Epoch 83/120\n",
      "10000/10000 [==============================] - 10s 1ms/step - loss: 0.1577 - acc: 0.9443 - val_loss: 0.2306 - val_acc: 0.9240\n",
      "Epoch 84/120\n",
      "10000/10000 [==============================] - 10s 994us/step - loss: 0.1551 - acc: 0.9447 - val_loss: 0.2853 - val_acc: 0.9100\n",
      "Epoch 85/120\n",
      "10000/10000 [==============================] - 10s 1ms/step - loss: 0.1554 - acc: 0.9430 - val_loss: 0.1846 - val_acc: 0.9310\n",
      "Epoch 86/120\n",
      "10000/10000 [==============================] - 11s 1ms/step - loss: 0.1461 - acc: 0.9483 - val_loss: 0.1848 - val_acc: 0.9370\n",
      "Epoch 87/120\n",
      "10000/10000 [==============================] - 10s 1ms/step - loss: 0.1383 - acc: 0.9497 - val_loss: 0.1949 - val_acc: 0.9290\n",
      "Epoch 88/120\n",
      "10000/10000 [==============================] - 10s 967us/step - loss: 0.1400 - acc: 0.9513 - val_loss: 0.2018 - val_acc: 0.9280\n",
      "Epoch 89/120\n",
      "10000/10000 [==============================] - 11s 1ms/step - loss: 0.1409 - acc: 0.9540 - val_loss: 0.1976 - val_acc: 0.9300\n",
      "Epoch 90/120\n",
      "10000/10000 [==============================] - 12s 1ms/step - loss: 0.1318 - acc: 0.9533 - val_loss: 0.1895 - val_acc: 0.9370\n",
      "Epoch 91/120\n",
      "10000/10000 [==============================] - 11s 1ms/step - loss: 0.1229 - acc: 0.9563 - val_loss: 0.1850 - val_acc: 0.9370\n",
      "Epoch 92/120\n",
      "10000/10000 [==============================] - 11s 1ms/step - loss: 0.1276 - acc: 0.9557 - val_loss: 0.1840 - val_acc: 0.9420\n",
      "Epoch 93/120\n",
      "10000/10000 [==============================] - 10s 1ms/step - loss: 0.1222 - acc: 0.9570 - val_loss: 0.1817 - val_acc: 0.9420\n",
      "Epoch 94/120\n",
      "10000/10000 [==============================] - 10s 1ms/step - loss: 0.1100 - acc: 0.9609 - val_loss: 0.2295 - val_acc: 0.9280\n",
      "Epoch 95/120\n",
      "10000/10000 [==============================] - 9s 923us/step - loss: 0.1128 - acc: 0.9587 - val_loss: 0.2098 - val_acc: 0.9370\n",
      "Epoch 96/120\n",
      "10000/10000 [==============================] - 9s 946us/step - loss: 0.1132 - acc: 0.9609 - val_loss: 0.1875 - val_acc: 0.9410\n",
      "Epoch 97/120\n",
      "10000/10000 [==============================] - 9s 945us/step - loss: 0.1085 - acc: 0.9613 - val_loss: 0.2543 - val_acc: 0.9200\n",
      "Epoch 98/120\n",
      "10000/10000 [==============================] - 9s 912us/step - loss: 0.1070 - acc: 0.9619 - val_loss: 0.1859 - val_acc: 0.9390\n",
      "Epoch 99/120\n",
      "10000/10000 [==============================] - 11s 1ms/step - loss: 0.1004 - acc: 0.9652 - val_loss: 0.1801 - val_acc: 0.9390\n",
      "Epoch 100/120\n",
      "10000/10000 [==============================] - 10s 1ms/step - loss: 0.0944 - acc: 0.9669 - val_loss: 0.1713 - val_acc: 0.9450\n",
      "Epoch 101/120\n",
      "10000/10000 [==============================] - 9s 898us/step - loss: 0.0909 - acc: 0.9698 - val_loss: 0.1707 - val_acc: 0.9500\n",
      "Epoch 102/120\n",
      "10000/10000 [==============================] - 10s 993us/step - loss: 0.0929 - acc: 0.9682 - val_loss: 0.1618 - val_acc: 0.9490\n",
      "Epoch 103/120\n",
      "10000/10000 [==============================] - 9s 934us/step - loss: 0.0832 - acc: 0.9715 - val_loss: 0.1867 - val_acc: 0.9460\n",
      "Epoch 104/120\n",
      "10000/10000 [==============================] - 9s 906us/step - loss: 0.0900 - acc: 0.9701 - val_loss: 0.1654 - val_acc: 0.9480\n",
      "Epoch 105/120\n",
      "10000/10000 [==============================] - 9s 893us/step - loss: 0.0895 - acc: 0.9704 - val_loss: 0.1467 - val_acc: 0.9500\n",
      "Epoch 106/120\n",
      "10000/10000 [==============================] - 9s 894us/step - loss: 0.0858 - acc: 0.9728 - val_loss: 0.1924 - val_acc: 0.9360\n",
      "Epoch 107/120\n",
      "10000/10000 [==============================] - 10s 1ms/step - loss: 0.0772 - acc: 0.9750 - val_loss: 0.1613 - val_acc: 0.9450\n",
      "Epoch 108/120\n",
      "10000/10000 [==============================] - 8s 821us/step - loss: 0.0806 - acc: 0.9712 - val_loss: 0.1622 - val_acc: 0.9460\n",
      "Epoch 109/120\n",
      "10000/10000 [==============================] - 8s 832us/step - loss: 0.0787 - acc: 0.9743 - val_loss: 0.1520 - val_acc: 0.9500\n",
      "Epoch 110/120\n",
      "10000/10000 [==============================] - 8s 801us/step - loss: 0.0807 - acc: 0.9726 - val_loss: 0.1532 - val_acc: 0.9480\n",
      "Epoch 111/120\n",
      "10000/10000 [==============================] - 8s 832us/step - loss: 0.0782 - acc: 0.9722 - val_loss: 0.3023 - val_acc: 0.9260\n",
      "Epoch 112/120\n",
      "10000/10000 [==============================] - 10s 964us/step - loss: 0.0797 - acc: 0.9733 - val_loss: 0.1765 - val_acc: 0.9450\n",
      "Epoch 113/120\n",
      "10000/10000 [==============================] - 10s 995us/step - loss: 0.0668 - acc: 0.9777 - val_loss: 0.1695 - val_acc: 0.9490\n",
      "Epoch 114/120\n",
      "10000/10000 [==============================] - 13s 1ms/step - loss: 0.0711 - acc: 0.9759 - val_loss: 0.1596 - val_acc: 0.9520\n",
      "Epoch 115/120\n",
      "10000/10000 [==============================] - 9s 927us/step - loss: 0.0717 - acc: 0.9765 - val_loss: 0.1685 - val_acc: 0.9430\n",
      "Epoch 116/120\n"
     ]
    },
    {
     "name": "stdout",
     "output_type": "stream",
     "text": [
      "10000/10000 [==============================] - 15s 1ms/step - loss: 0.0641 - acc: 0.9787 - val_loss: 0.1576 - val_acc: 0.9530\n",
      "Epoch 117/120\n",
      "10000/10000 [==============================] - 15s 2ms/step - loss: 0.0640 - acc: 0.9792 - val_loss: 0.1431 - val_acc: 0.9500\n",
      "Epoch 118/120\n",
      "10000/10000 [==============================] - 13s 1ms/step - loss: 0.0616 - acc: 0.9781 - val_loss: 0.1552 - val_acc: 0.9510\n",
      "Epoch 119/120\n",
      "10000/10000 [==============================] - 15s 2ms/step - loss: 0.0656 - acc: 0.9781 - val_loss: 0.1520 - val_acc: 0.9540 acc: 0.9\n",
      "Epoch 120/120\n",
      "10000/10000 [==============================] - 16s 2ms/step - loss: 0.0633 - acc: 0.9787 - val_loss: 0.1554 - val_acc: 0.9550\n"
     ]
    },
    {
     "data": {
      "text/plain": [
       "<keras.callbacks.History at 0x124c7fe48>"
      ]
     },
     "execution_count": 14,
     "metadata": {},
     "output_type": "execute_result"
    }
   ],
   "source": [
    "# train\n",
    "model.fit([inputs_train, queries_train], answers_train,\n",
    "          batch_size=32,\n",
    "          epochs=120,\n",
    "          validation_data=([inputs_test, queries_test], answers_test))"
   ]
  }
 ],
 "metadata": {
  "kernelspec": {
   "display_name": "Python 3",
   "language": "python",
   "name": "python3"
  },
  "language_info": {
   "codemirror_mode": {
    "name": "ipython",
    "version": 3
   },
   "file_extension": ".py",
   "mimetype": "text/x-python",
   "name": "python",
   "nbconvert_exporter": "python",
   "pygments_lexer": "ipython3",
   "version": "3.6.3"
  },
  "toc": {
   "base_numbering": 1,
   "nav_menu": {},
   "number_sections": true,
   "sideBar": true,
   "skip_h1_title": false,
   "title_cell": "Table of Contents",
   "title_sidebar": "Contents",
   "toc_cell": false,
   "toc_position": {},
   "toc_section_display": true,
   "toc_window_display": false
  },
  "varInspector": {
   "cols": {
    "lenName": 16,
    "lenType": 16,
    "lenVar": 40
   },
   "kernels_config": {
    "python": {
     "delete_cmd_postfix": "",
     "delete_cmd_prefix": "del ",
     "library": "var_list.py",
     "varRefreshCmd": "print(var_dic_list())"
    },
    "r": {
     "delete_cmd_postfix": ") ",
     "delete_cmd_prefix": "rm(",
     "library": "var_list.r",
     "varRefreshCmd": "cat(var_dic_list()) "
    }
   },
   "types_to_exclude": [
    "module",
    "function",
    "builtin_function_or_method",
    "instance",
    "_Feature"
   ],
   "window_display": false
  }
 },
 "nbformat": 4,
 "nbformat_minor": 2
}
