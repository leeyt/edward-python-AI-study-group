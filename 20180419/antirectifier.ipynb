{
 "cells": [
  {
   "cell_type": "markdown",
   "metadata": {
    "ExecuteTime": {
     "end_time": "2018-08-16T06:44:45.084981Z",
     "start_time": "2018-08-16T06:44:45.074591Z"
    }
   },
   "source": [
    "# Anti-Rectifier\n",
    "\n",
    "The example demonstrates how to write custom layers for Keras.\n",
    "\n",
    "We build a custom activation layer called 'Antirectifier',\n",
    "which modifies the shape of the tensor that passes through it.\n",
    "\n",
    "We need to specify two methods: `compute_output_shape` and `call`.\n",
    "\n",
    "Note that the same result can also be achieved via a Lambda layer.\n",
    "\n",
    "Because our custom layer is written with primitives from the Keras\n",
    "backend (`K`), our code can run both on TensorFlow and Theano."
   ]
  },
  {
   "cell_type": "code",
   "execution_count": 1,
   "metadata": {
    "ExecuteTime": {
     "end_time": "2018-08-16T06:52:59.587823Z",
     "start_time": "2018-08-16T06:52:56.186449Z"
    }
   },
   "outputs": [
    {
     "name": "stderr",
     "output_type": "stream",
     "text": [
      "Using TensorFlow backend.\n"
     ]
    }
   ],
   "source": [
    "import keras\n",
    "from keras.models import Sequential\n",
    "from keras.layers import Layer, Dense, Dropout, Activation\n",
    "from keras import backend as K\n",
    "\n",
    "from keras.datasets import mnist"
   ]
  },
  {
   "cell_type": "code",
   "execution_count": 2,
   "metadata": {
    "ExecuteTime": {
     "end_time": "2018-08-16T06:52:59.638200Z",
     "start_time": "2018-08-16T06:52:59.591009Z"
    }
   },
   "outputs": [],
   "source": [
    "class Antirectifier(Layer):\n",
    "    '''This is the combination of a sample-wise\n",
    "    L2 normalization with the concatenation of the\n",
    "    positive part of the input with the negative part\n",
    "    of the input. The result is a tensor of samples that are\n",
    "    twice as large as the input samples.\n",
    "\n",
    "    It can be used in place of a ReLU.\n",
    "\n",
    "    # Input shape\n",
    "        2D tensor of shape (samples, n)\n",
    "\n",
    "    # Output shape\n",
    "        2D tensor of shape (samples, 2*n)\n",
    "\n",
    "    # Theoretical justification\n",
    "        When applying ReLU, assuming that the distribution\n",
    "        of the previous output is approximately centered around 0.,\n",
    "        you are discarding half of your input. This is inefficient.\n",
    "\n",
    "        Antirectifier allows to return all-positive outputs like ReLU,\n",
    "        without discarding any data.\n",
    "\n",
    "        Tests on MNIST show that Antirectifier allows to train networks\n",
    "        with twice less parameters yet with comparable\n",
    "        classification accuracy as an equivalent ReLU-based network.\n",
    "    '''\n",
    "\n",
    "    def compute_output_shape(self, input_shape):\n",
    "        shape = list(input_shape)\n",
    "        assert len(shape) == 2  # only valid for 2D tensors\n",
    "        shape[-1] *= 2\n",
    "        return tuple(shape)\n",
    "\n",
    "    def call(self, inputs):\n",
    "        inputs -= K.mean(inputs, axis=1, keepdims=True)\n",
    "        inputs = K.l2_normalize(inputs, axis=1)\n",
    "        pos = K.relu(inputs)\n",
    "        neg = K.relu(-inputs)\n",
    "        return K.concatenate([pos, neg], axis=1)"
   ]
  },
  {
   "cell_type": "code",
   "execution_count": 3,
   "metadata": {
    "ExecuteTime": {
     "end_time": "2018-08-16T06:52:59.658104Z",
     "start_time": "2018-08-16T06:52:59.650329Z"
    }
   },
   "outputs": [],
   "source": [
    "# global parameters\n",
    "batch_size = 128\n",
    "num_classes = 10\n",
    "epochs = 40"
   ]
  },
  {
   "cell_type": "code",
   "execution_count": 4,
   "metadata": {
    "ExecuteTime": {
     "end_time": "2018-08-16T06:53:00.274786Z",
     "start_time": "2018-08-16T06:52:59.665734Z"
    }
   },
   "outputs": [],
   "source": [
    "# the data, split between train and test sets\n",
    "(x_train, y_train), (x_test, y_test) = mnist.load_data()"
   ]
  },
  {
   "cell_type": "code",
   "execution_count": 5,
   "metadata": {
    "ExecuteTime": {
     "end_time": "2018-08-16T06:53:00.500217Z",
     "start_time": "2018-08-16T06:53:00.278477Z"
    }
   },
   "outputs": [
    {
     "name": "stdout",
     "output_type": "stream",
     "text": [
      "60000 train samples\n",
      "10000 test samples\n"
     ]
    }
   ],
   "source": [
    "x_train = x_train.reshape(60000, 784)\n",
    "x_test = x_test.reshape(10000, 784)\n",
    "x_train = x_train.astype('float32')\n",
    "x_test = x_test.astype('float32')\n",
    "x_train /= 255\n",
    "x_test /= 255\n",
    "print(x_train.shape[0], 'train samples')\n",
    "print(x_test.shape[0], 'test samples')"
   ]
  },
  {
   "cell_type": "code",
   "execution_count": 6,
   "metadata": {
    "ExecuteTime": {
     "end_time": "2018-08-16T06:53:00.519302Z",
     "start_time": "2018-08-16T06:53:00.504913Z"
    }
   },
   "outputs": [],
   "source": [
    "# convert class vectors to binary class matrices\n",
    "y_train = keras.utils.to_categorical(y_train, num_classes)\n",
    "y_test = keras.utils.to_categorical(y_test, num_classes)"
   ]
  },
  {
   "cell_type": "code",
   "execution_count": 7,
   "metadata": {
    "ExecuteTime": {
     "end_time": "2018-08-16T06:53:00.671628Z",
     "start_time": "2018-08-16T06:53:00.526497Z"
    }
   },
   "outputs": [],
   "source": [
    "# build the model\n",
    "model = Sequential()\n",
    "\n",
    "model.add(Dense(256, input_shape=(784,)))\n",
    "model.add(Antirectifier())\n",
    "model.add(Dropout(0.1))\n",
    "\n",
    "model.add(Dense(256))\n",
    "model.add(Antirectifier())\n",
    "model.add(Dropout(0.1))\n",
    "\n",
    "model.add(Dense(num_classes))\n",
    "model.add(Activation('softmax'))"
   ]
  },
  {
   "cell_type": "code",
   "execution_count": 8,
   "metadata": {
    "ExecuteTime": {
     "end_time": "2018-08-16T06:53:00.753426Z",
     "start_time": "2018-08-16T06:53:00.677326Z"
    }
   },
   "outputs": [
    {
     "name": "stdout",
     "output_type": "stream",
     "text": [
      "_________________________________________________________________\n",
      "Layer (type)                 Output Shape              Param #   \n",
      "=================================================================\n",
      "dense_1 (Dense)              (None, 256)               200960    \n",
      "_________________________________________________________________\n",
      "antirectifier_1 (Antirectifi (None, 512)               0         \n",
      "_________________________________________________________________\n",
      "dropout_1 (Dropout)          (None, 512)               0         \n",
      "_________________________________________________________________\n",
      "dense_2 (Dense)              (None, 256)               131328    \n",
      "_________________________________________________________________\n",
      "antirectifier_2 (Antirectifi (None, 512)               0         \n",
      "_________________________________________________________________\n",
      "dropout_2 (Dropout)          (None, 512)               0         \n",
      "_________________________________________________________________\n",
      "dense_3 (Dense)              (None, 10)                5130      \n",
      "_________________________________________________________________\n",
      "activation_1 (Activation)    (None, 10)                0         \n",
      "=================================================================\n",
      "Total params: 337,418\n",
      "Trainable params: 337,418\n",
      "Non-trainable params: 0\n",
      "_________________________________________________________________\n"
     ]
    }
   ],
   "source": [
    "# compile the model\n",
    "model.compile(loss='categorical_crossentropy',\n",
    "              optimizer='rmsprop',\n",
    "              metrics=['accuracy'])\n",
    "model.summary()"
   ]
  },
  {
   "cell_type": "code",
   "execution_count": 9,
   "metadata": {
    "ExecuteTime": {
     "end_time": "2018-08-16T07:05:08.904150Z",
     "start_time": "2018-08-16T06:53:00.758684Z"
    }
   },
   "outputs": [
    {
     "name": "stdout",
     "output_type": "stream",
     "text": [
      "Train on 60000 samples, validate on 10000 samples\n",
      "Epoch 1/40\n",
      "60000/60000 [==============================] - 18s 295us/step - loss: 0.6088 - acc: 0.9132 - val_loss: 0.1541 - val_acc: 0.9610\n",
      "Epoch 2/40\n",
      "60000/60000 [==============================] - 17s 290us/step - loss: 0.1280 - acc: 0.9650 - val_loss: 0.1099 - val_acc: 0.9673\n",
      "Epoch 3/40\n",
      "60000/60000 [==============================] - 16s 262us/step - loss: 0.0837 - acc: 0.9757 - val_loss: 0.1014 - val_acc: 0.9705\n",
      "Epoch 4/40\n",
      "60000/60000 [==============================] - 16s 263us/step - loss: 0.0647 - acc: 0.9806 - val_loss: 0.0686 - val_acc: 0.9787\n",
      "Epoch 5/40\n",
      "60000/60000 [==============================] - 16s 267us/step - loss: 0.0529 - acc: 0.9837 - val_loss: 0.0651 - val_acc: 0.9805\n",
      "Epoch 6/40\n",
      "60000/60000 [==============================] - 16s 262us/step - loss: 0.0434 - acc: 0.9865 - val_loss: 0.0647 - val_acc: 0.9808\n",
      "Epoch 7/40\n",
      "60000/60000 [==============================] - 16s 274us/step - loss: 0.0379 - acc: 0.9884 - val_loss: 0.0687 - val_acc: 0.9792\n",
      "Epoch 8/40\n",
      "60000/60000 [==============================] - 18s 302us/step - loss: 0.0331 - acc: 0.9893 - val_loss: 0.0782 - val_acc: 0.9762\n",
      "Epoch 9/40\n",
      "60000/60000 [==============================] - 18s 293us/step - loss: 0.0275 - acc: 0.9916 - val_loss: 0.0675 - val_acc: 0.9799\n",
      "Epoch 10/40\n",
      "60000/60000 [==============================] - 18s 302us/step - loss: 0.0257 - acc: 0.9915 - val_loss: 0.0651 - val_acc: 0.9813\n",
      "Epoch 11/40\n",
      "60000/60000 [==============================] - 19s 317us/step - loss: 0.0229 - acc: 0.9926 - val_loss: 0.0699 - val_acc: 0.9793\n",
      "Epoch 12/40\n",
      "60000/60000 [==============================] - 20s 341us/step - loss: 0.0199 - acc: 0.9935 - val_loss: 0.0668 - val_acc: 0.9822\n",
      "Epoch 13/40\n",
      "60000/60000 [==============================] - 15s 243us/step - loss: 0.0186 - acc: 0.9941 - val_loss: 0.0726 - val_acc: 0.9814\n",
      "Epoch 14/40\n",
      "60000/60000 [==============================] - 19s 319us/step - loss: 0.0170 - acc: 0.9945 - val_loss: 0.0712 - val_acc: 0.9813a\n",
      "Epoch 15/40\n",
      "60000/60000 [==============================] - 20s 335us/step - loss: 0.0155 - acc: 0.9949 - val_loss: 0.0754 - val_acc: 0.9797\n",
      "Epoch 16/40\n",
      "60000/60000 [==============================] - 24s 403us/step - loss: 0.0144 - acc: 0.9954 - val_loss: 0.0772 - val_acc: 0.9814\n",
      "Epoch 17/40\n",
      "60000/60000 [==============================] - 15s 251us/step - loss: 0.0129 - acc: 0.9961 - val_loss: 0.0675 - val_acc: 0.9823\n",
      "Epoch 18/40\n",
      "60000/60000 [==============================] - 16s 263us/step - loss: 0.0128 - acc: 0.9959 - val_loss: 0.0700 - val_acc: 0.9827\n",
      "Epoch 19/40\n",
      "60000/60000 [==============================] - 18s 297us/step - loss: 0.0119 - acc: 0.9963 - val_loss: 0.0724 - val_acc: 0.9825\n",
      "Epoch 20/40\n",
      "60000/60000 [==============================] - 26s 434us/step - loss: 0.0102 - acc: 0.9969 - val_loss: 0.0769 - val_acc: 0.9809\n",
      "Epoch 21/40\n",
      "60000/60000 [==============================] - 18s 295us/step - loss: 0.0098 - acc: 0.9968 - val_loss: 0.0730 - val_acc: 0.9814\n",
      "Epoch 22/40\n",
      "60000/60000 [==============================] - 16s 263us/step - loss: 0.0084 - acc: 0.9975 - val_loss: 0.0758 - val_acc: 0.9808\n",
      "Epoch 23/40\n",
      "60000/60000 [==============================] - 17s 281us/step - loss: 0.0096 - acc: 0.9970 - val_loss: 0.0789 - val_acc: 0.9811\n",
      "Epoch 24/40\n",
      "60000/60000 [==============================] - 14s 231us/step - loss: 0.0088 - acc: 0.9972 - val_loss: 0.0768 - val_acc: 0.9823\n",
      "Epoch 25/40\n",
      "60000/60000 [==============================] - 19s 313us/step - loss: 0.0083 - acc: 0.9975 - val_loss: 0.0914 - val_acc: 0.9802\n",
      "Epoch 26/40\n",
      "60000/60000 [==============================] - 24s 396us/step - loss: 0.0077 - acc: 0.9976 - val_loss: 0.0831 - val_acc: 0.9804\n",
      "Epoch 27/40\n",
      "60000/60000 [==============================] - 23s 376us/step - loss: 0.0071 - acc: 0.9978 - val_loss: 0.0858 - val_acc: 0.9819\n",
      "Epoch 28/40\n",
      "60000/60000 [==============================] - 23s 379us/step - loss: 0.0065 - acc: 0.9978 - val_loss: 0.0855 - val_acc: 0.9806\n",
      "Epoch 29/40\n",
      "60000/60000 [==============================] - 17s 281us/step - loss: 0.0069 - acc: 0.9977 - val_loss: 0.0794 - val_acc: 0.9810\n",
      "Epoch 30/40\n",
      "60000/60000 [==============================] - 18s 295us/step - loss: 0.0066 - acc: 0.9977 - val_loss: 0.0864 - val_acc: 0.9809\n",
      "Epoch 31/40\n",
      "60000/60000 [==============================] - 20s 339us/step - loss: 0.0065 - acc: 0.9978 - val_loss: 0.0828 - val_acc: 0.9813\n",
      "Epoch 32/40\n",
      "60000/60000 [==============================] - 20s 335us/step - loss: 0.0057 - acc: 0.9981 - val_loss: 0.0830 - val_acc: 0.9826\n",
      "Epoch 33/40\n",
      "60000/60000 [==============================] - 19s 322us/step - loss: 0.0059 - acc: 0.9980 - val_loss: 0.0910 - val_acc: 0.9816\n",
      "Epoch 34/40\n",
      "60000/60000 [==============================] - 20s 333us/step - loss: 0.0058 - acc: 0.9984 - val_loss: 0.0814 - val_acc: 0.9829\n",
      "Epoch 35/40\n",
      "60000/60000 [==============================] - 18s 305us/step - loss: 0.0054 - acc: 0.9982 - val_loss: 0.0828 - val_acc: 0.9828\n",
      "Epoch 36/40\n",
      "60000/60000 [==============================] - 16s 268us/step - loss: 0.0057 - acc: 0.9981 - val_loss: 0.0844 - val_acc: 0.9817\n",
      "Epoch 37/40\n",
      "60000/60000 [==============================] - 16s 259us/step - loss: 0.0049 - acc: 0.9984 - val_loss: 0.0867 - val_acc: 0.9823\n",
      "Epoch 38/40\n",
      "60000/60000 [==============================] - 16s 274us/step - loss: 0.0054 - acc: 0.9981 - val_loss: 0.0908 - val_acc: 0.9815\n",
      "Epoch 39/40\n",
      "60000/60000 [==============================] - 18s 303us/step - loss: 0.0045 - acc: 0.9984 - val_loss: 0.0876 - val_acc: 0.9819\n",
      "Epoch 40/40\n",
      "60000/60000 [==============================] - 15s 250us/step - loss: 0.0039 - acc: 0.9989 - val_loss: 0.0873 - val_acc: 0.9827\n"
     ]
    },
    {
     "data": {
      "text/plain": [
       "<keras.callbacks.History at 0x120d95cc0>"
      ]
     },
     "execution_count": 9,
     "metadata": {},
     "output_type": "execute_result"
    }
   ],
   "source": [
    "# train the model\n",
    "model.fit(x_train, y_train,\n",
    "          batch_size=batch_size,\n",
    "          epochs=epochs,\n",
    "          verbose=1,\n",
    "          validation_data=(x_test, y_test))\n",
    "\n",
    "# next, compare with an equivalent network\n",
    "# with 2x bigger Dense layers and ReLU"
   ]
  }
 ],
 "metadata": {
  "kernelspec": {
   "display_name": "Python 3",
   "language": "python",
   "name": "python3"
  },
  "language_info": {
   "codemirror_mode": {
    "name": "ipython",
    "version": 3
   },
   "file_extension": ".py",
   "mimetype": "text/x-python",
   "name": "python",
   "nbconvert_exporter": "python",
   "pygments_lexer": "ipython3",
   "version": "3.6.3"
  },
  "toc": {
   "base_numbering": 1,
   "nav_menu": {},
   "number_sections": true,
   "sideBar": true,
   "skip_h1_title": false,
   "title_cell": "Table of Contents",
   "title_sidebar": "Contents",
   "toc_cell": false,
   "toc_position": {},
   "toc_section_display": true,
   "toc_window_display": false
  },
  "varInspector": {
   "cols": {
    "lenName": 16,
    "lenType": 16,
    "lenVar": 40
   },
   "kernels_config": {
    "python": {
     "delete_cmd_postfix": "",
     "delete_cmd_prefix": "del ",
     "library": "var_list.py",
     "varRefreshCmd": "print(var_dic_list())"
    },
    "r": {
     "delete_cmd_postfix": ") ",
     "delete_cmd_prefix": "rm(",
     "library": "var_list.r",
     "varRefreshCmd": "cat(var_dic_list()) "
    }
   },
   "types_to_exclude": [
    "module",
    "function",
    "builtin_function_or_method",
    "instance",
    "_Feature"
   ],
   "window_display": false
  }
 },
 "nbformat": 4,
 "nbformat_minor": 2
}
