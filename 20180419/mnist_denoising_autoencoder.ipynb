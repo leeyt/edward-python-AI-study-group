{
 "cells": [
  {
   "cell_type": "markdown",
   "metadata": {
    "ExecuteTime": {
     "end_time": "2018-09-13T04:08:11.165593Z",
     "start_time": "2018-09-13T04:08:11.150591Z"
    }
   },
   "source": [
    "# MNIST - Denoising autoencoder\n",
    "\n",
    "Trains a denoising autoencoder on MNIST dataset.\n",
    "\n",
    "Denoising is one of the classic applications of autoencoders. The denoising process removes unwanted noise that corrupted the true signal.\n",
    "\n",
    "Noise + Data ---> Denoising Autoencoder ---> Data\n",
    "\n",
    "Given a training dataset of corrupted data as input and true signal as output, a denoising autoencoder can recover the hidden structure to generate clean data.\n",
    "\n",
    "This example has modular design. The encoder, decoder and autoencoder are 3 models that share weights. For example, after training the autoencoder, the encoder can be used to  generate latent vectors of input data for low-dim visualization like PCA or TSNE."
   ]
  },
  {
   "cell_type": "code",
   "execution_count": 2,
   "metadata": {
    "ExecuteTime": {
     "end_time": "2018-09-13T04:09:59.593204Z",
     "start_time": "2018-09-13T04:09:54.308064Z"
    }
   },
   "outputs": [
    {
     "name": "stderr",
     "output_type": "stream",
     "text": [
      "/Users/neillee/anaconda3/lib/python3.6/site-packages/h5py/__init__.py:34: FutureWarning: Conversion of the second argument of issubdtype from `float` to `np.floating` is deprecated. In future, it will be treated as `np.float64 == np.dtype(float).type`.\n",
      "  from ._conv import register_converters as _register_converters\n",
      "Using TensorFlow backend.\n"
     ]
    }
   ],
   "source": [
    "import keras\n",
    "from keras.layers import Activation, Dense, Input\n",
    "from keras.layers import Conv2D, Flatten\n",
    "from keras.layers import Reshape, Conv2DTranspose\n",
    "from keras.models import Model\n",
    "from keras import backend as K\n",
    "from keras.datasets import mnist\n",
    "import numpy as np\n",
    "import matplotlib.pyplot as plt\n",
    "from PIL import Image"
   ]
  },
  {
   "cell_type": "code",
   "execution_count": 3,
   "metadata": {
    "ExecuteTime": {
     "end_time": "2018-09-13T04:10:01.643052Z",
     "start_time": "2018-09-13T04:10:01.632549Z"
    }
   },
   "outputs": [],
   "source": [
    "np.random.seed(1337)"
   ]
  },
  {
   "cell_type": "code",
   "execution_count": 4,
   "metadata": {
    "ExecuteTime": {
     "end_time": "2018-09-13T04:10:05.818927Z",
     "start_time": "2018-09-13T04:10:05.202768Z"
    }
   },
   "outputs": [],
   "source": [
    "# MNIST dataset\n",
    "(x_train, _), (x_test, _) = mnist.load_data()"
   ]
  },
  {
   "cell_type": "code",
   "execution_count": 5,
   "metadata": {
    "ExecuteTime": {
     "end_time": "2018-09-13T04:10:10.289643Z",
     "start_time": "2018-09-13T04:10:09.876359Z"
    }
   },
   "outputs": [],
   "source": [
    "image_size = x_train.shape[1]\n",
    "x_train = np.reshape(x_train, [-1, image_size, image_size, 1])\n",
    "x_test = np.reshape(x_test, [-1, image_size, image_size, 1])\n",
    "x_train = x_train.astype('float32') / 255\n",
    "x_test = x_test.astype('float32') / 255"
   ]
  },
  {
   "cell_type": "code",
   "execution_count": 6,
   "metadata": {
    "ExecuteTime": {
     "end_time": "2018-09-13T04:10:27.987985Z",
     "start_time": "2018-09-13T04:10:23.496346Z"
    }
   },
   "outputs": [],
   "source": [
    "# Generate corrupted MNIST images by adding noise with normal dist\n",
    "# centered at 0.5 and std=0.5\n",
    "noise = np.random.normal(loc=0.5, scale=0.5, size=x_train.shape)\n",
    "x_train_noisy = x_train + noise\n",
    "noise = np.random.normal(loc=0.5, scale=0.5, size=x_test.shape)\n",
    "x_test_noisy = x_test + noise"
   ]
  },
  {
   "cell_type": "code",
   "execution_count": 7,
   "metadata": {
    "ExecuteTime": {
     "end_time": "2018-09-13T04:10:34.502713Z",
     "start_time": "2018-09-13T04:10:33.673291Z"
    }
   },
   "outputs": [],
   "source": [
    "x_train_noisy = np.clip(x_train_noisy, 0., 1.)\n",
    "x_test_noisy = np.clip(x_test_noisy, 0., 1.)"
   ]
  },
  {
   "cell_type": "code",
   "execution_count": 9,
   "metadata": {
    "ExecuteTime": {
     "end_time": "2018-09-13T04:10:46.568499Z",
     "start_time": "2018-09-13T04:10:46.560545Z"
    }
   },
   "outputs": [],
   "source": [
    "# Network parameters\n",
    "input_shape = (image_size, image_size, 1)\n",
    "batch_size = 128\n",
    "kernel_size = 3\n",
    "latent_dim = 16"
   ]
  },
  {
   "cell_type": "code",
   "execution_count": 10,
   "metadata": {
    "ExecuteTime": {
     "end_time": "2018-09-13T04:10:48.551995Z",
     "start_time": "2018-09-13T04:10:48.546165Z"
    }
   },
   "outputs": [],
   "source": [
    "# Encoder/Decoder number of CNN layers and filters per layer\n",
    "layer_filters = [32, 64]"
   ]
  },
  {
   "cell_type": "code",
   "execution_count": 11,
   "metadata": {
    "ExecuteTime": {
     "end_time": "2018-09-13T04:11:00.908117Z",
     "start_time": "2018-09-13T04:11:00.872739Z"
    }
   },
   "outputs": [],
   "source": [
    "# Build the Autoencoder Model\n",
    "# First build the Encoder Model\n",
    "inputs = Input(shape=input_shape, name='encoder_input')\n",
    "x = inputs"
   ]
  },
  {
   "cell_type": "code",
   "execution_count": 12,
   "metadata": {
    "ExecuteTime": {
     "end_time": "2018-09-13T04:11:06.471332Z",
     "start_time": "2018-09-13T04:11:06.374074Z"
    }
   },
   "outputs": [],
   "source": [
    "# Stack of Conv2D blocks\n",
    "# Notes:\n",
    "# 1) Use Batch Normalization before ReLU on deep networks\n",
    "# 2) Use MaxPooling2D as alternative to strides>1\n",
    "# - faster but not as good as strides>1\n",
    "for filters in layer_filters:\n",
    "    x = Conv2D(filters=filters,\n",
    "               kernel_size=kernel_size,\n",
    "               strides=2,\n",
    "               activation='relu',\n",
    "               padding='same')(x)"
   ]
  },
  {
   "cell_type": "code",
   "execution_count": 13,
   "metadata": {
    "ExecuteTime": {
     "end_time": "2018-09-13T04:11:10.495169Z",
     "start_time": "2018-09-13T04:11:10.489025Z"
    }
   },
   "outputs": [],
   "source": [
    "# Shape info needed to build Decoder Model\n",
    "shape = K.int_shape(x)"
   ]
  },
  {
   "cell_type": "code",
   "execution_count": 14,
   "metadata": {
    "ExecuteTime": {
     "end_time": "2018-09-13T04:11:14.561208Z",
     "start_time": "2018-09-13T04:11:14.503539Z"
    }
   },
   "outputs": [],
   "source": [
    "# Generate the latent vector\n",
    "x = Flatten()(x)\n",
    "latent = Dense(latent_dim, name='latent_vector')(x)"
   ]
  },
  {
   "cell_type": "code",
   "execution_count": 15,
   "metadata": {
    "ExecuteTime": {
     "end_time": "2018-09-13T04:11:18.961328Z",
     "start_time": "2018-09-13T04:11:18.937628Z"
    }
   },
   "outputs": [
    {
     "name": "stdout",
     "output_type": "stream",
     "text": [
      "_________________________________________________________________\n",
      "Layer (type)                 Output Shape              Param #   \n",
      "=================================================================\n",
      "encoder_input (InputLayer)   (None, 28, 28, 1)         0         \n",
      "_________________________________________________________________\n",
      "conv2d_1 (Conv2D)            (None, 14, 14, 32)        320       \n",
      "_________________________________________________________________\n",
      "conv2d_2 (Conv2D)            (None, 7, 7, 64)          18496     \n",
      "_________________________________________________________________\n",
      "flatten_1 (Flatten)          (None, 3136)              0         \n",
      "_________________________________________________________________\n",
      "latent_vector (Dense)        (None, 16)                50192     \n",
      "=================================================================\n",
      "Total params: 69,008\n",
      "Trainable params: 69,008\n",
      "Non-trainable params: 0\n",
      "_________________________________________________________________\n"
     ]
    }
   ],
   "source": [
    "# Instantiate Encoder Model\n",
    "encoder = Model(inputs, latent, name='encoder')\n",
    "encoder.summary()"
   ]
  },
  {
   "cell_type": "code",
   "execution_count": 18,
   "metadata": {
    "ExecuteTime": {
     "end_time": "2018-09-13T04:12:14.644580Z",
     "start_time": "2018-09-13T04:12:13.958454Z"
    }
   },
   "outputs": [
    {
     "name": "stdout",
     "output_type": "stream",
     "text": [
      "_________________________________________________________________\n",
      "Layer (type)                 Output Shape              Param #   \n",
      "=================================================================\n",
      "decoder_input (InputLayer)   (None, 16)                0         \n",
      "_________________________________________________________________\n",
      "dense_2 (Dense)              (None, 3136)              53312     \n",
      "_________________________________________________________________\n",
      "reshape_2 (Reshape)          (None, 7, 7, 64)          0         \n",
      "_________________________________________________________________\n",
      "conv2d_transpose_3 (Conv2DTr (None, 14, 14, 64)        36928     \n",
      "_________________________________________________________________\n",
      "conv2d_transpose_4 (Conv2DTr (None, 28, 28, 32)        18464     \n",
      "_________________________________________________________________\n",
      "conv2d_transpose_5 (Conv2DTr (None, 28, 28, 1)         289       \n",
      "_________________________________________________________________\n",
      "decoder_output (Activation)  (None, 28, 28, 1)         0         \n",
      "=================================================================\n",
      "Total params: 108,993\n",
      "Trainable params: 108,993\n",
      "Non-trainable params: 0\n",
      "_________________________________________________________________\n"
     ]
    }
   ],
   "source": [
    "# Build the Decoder Model\n",
    "latent_inputs = Input(shape=(latent_dim,), name='decoder_input')\n",
    "x = Dense(shape[1] * shape[2] * shape[3])(latent_inputs)\n",
    "x = Reshape((shape[1], shape[2], shape[3]))(x)\n",
    "\n",
    "# Stack of Transposed Conv2D blocks\n",
    "# Notes:\n",
    "# 1) Use Batch Normalization before ReLU on deep networks\n",
    "# 2) Use UpSampling2D as alternative to strides>1\n",
    "# - faster but not as good as strides>1\n",
    "for filters in layer_filters[::-1]:\n",
    "    x = Conv2DTranspose(filters=filters,\n",
    "                        kernel_size=kernel_size,\n",
    "                        strides=2,\n",
    "                        activation='relu',\n",
    "                        padding='same')(x)\n",
    "\n",
    "x = Conv2DTranspose(filters=1,\n",
    "                    kernel_size=kernel_size,\n",
    "                    padding='same')(x)\n",
    "\n",
    "outputs = Activation('sigmoid', name='decoder_output')(x)\n",
    "\n",
    "# Instantiate Decoder Model\n",
    "decoder = Model(latent_inputs, outputs, name='decoder')\n",
    "decoder.summary()"
   ]
  },
  {
   "cell_type": "code",
   "execution_count": 19,
   "metadata": {
    "ExecuteTime": {
     "end_time": "2018-09-13T04:12:21.641792Z",
     "start_time": "2018-09-13T04:12:21.311209Z"
    }
   },
   "outputs": [
    {
     "name": "stdout",
     "output_type": "stream",
     "text": [
      "_________________________________________________________________\n",
      "Layer (type)                 Output Shape              Param #   \n",
      "=================================================================\n",
      "encoder_input (InputLayer)   (None, 28, 28, 1)         0         \n",
      "_________________________________________________________________\n",
      "encoder (Model)              (None, 16)                69008     \n",
      "_________________________________________________________________\n",
      "decoder (Model)              (None, 28, 28, 1)         108993    \n",
      "=================================================================\n",
      "Total params: 178,001\n",
      "Trainable params: 178,001\n",
      "Non-trainable params: 0\n",
      "_________________________________________________________________\n"
     ]
    }
   ],
   "source": [
    "# Autoencoder = Encoder + Decoder\n",
    "# Instantiate Autoencoder Model\n",
    "autoencoder = Model(inputs, decoder(encoder(inputs)), name='autoencoder')\n",
    "autoencoder.summary()"
   ]
  },
  {
   "cell_type": "code",
   "execution_count": 20,
   "metadata": {
    "ExecuteTime": {
     "end_time": "2018-09-13T04:12:37.030898Z",
     "start_time": "2018-09-13T04:12:36.971940Z"
    }
   },
   "outputs": [],
   "source": [
    "autoencoder.compile(loss='mse', optimizer='adam')"
   ]
  },
  {
   "cell_type": "code",
   "execution_count": 21,
   "metadata": {
    "ExecuteTime": {
     "end_time": "2018-09-13T05:43:34.778060Z",
     "start_time": "2018-09-13T04:12:43.374239Z"
    }
   },
   "outputs": [
    {
     "name": "stdout",
     "output_type": "stream",
     "text": [
      "Train on 60000 samples, validate on 10000 samples\n",
      "Epoch 1/30\n",
      "60000/60000 [==============================] - 181s 3ms/step - loss: 0.0592 - val_loss: 0.0325\n",
      "Epoch 2/30\n",
      "60000/60000 [==============================] - 171s 3ms/step - loss: 0.0264 - val_loss: 0.0225\n",
      "Epoch 3/30\n",
      "60000/60000 [==============================] - 161s 3ms/step - loss: 0.0214 - val_loss: 0.0199\n",
      "Epoch 4/30\n",
      "60000/60000 [==============================] - 190s 3ms/step - loss: 0.0195 - val_loss: 0.0190\n",
      "Epoch 5/30\n",
      "60000/60000 [==============================] - 163s 3ms/step - loss: 0.0185 - val_loss: 0.0180\n",
      "Epoch 6/30\n",
      "60000/60000 [==============================] - 159s 3ms/step - loss: 0.0178 - val_loss: 0.0175\n",
      "Epoch 7/30\n",
      "60000/60000 [==============================] - 229s 4ms/step - loss: 0.0173 - val_loss: 0.0172\n",
      "Epoch 8/30\n",
      "60000/60000 [==============================] - 239s 4ms/step - loss: 0.0169 - val_loss: 0.0168\n",
      "Epoch 9/30\n",
      "60000/60000 [==============================] - 191s 3ms/step - loss: 0.0166 - val_loss: 0.0166\n",
      "Epoch 10/30\n",
      "60000/60000 [==============================] - 206s 3ms/step - loss: 0.0163 - val_loss: 0.0167\n",
      "Epoch 11/30\n",
      "60000/60000 [==============================] - 174s 3ms/step - loss: 0.0161 - val_loss: 0.0164\n",
      "Epoch 12/30\n",
      "60000/60000 [==============================] - 163s 3ms/step - loss: 0.0159 - val_loss: 0.0162\n",
      "Epoch 13/30\n",
      "60000/60000 [==============================] - 194s 3ms/step - loss: 0.0157 - val_loss: 0.0162\n",
      "Epoch 14/30\n",
      "60000/60000 [==============================] - 169s 3ms/step - loss: 0.0155 - val_loss: 0.0161\n",
      "Epoch 15/30\n",
      "60000/60000 [==============================] - 186s 3ms/step - loss: 0.0154 - val_loss: 0.0159\n",
      "Epoch 16/30\n",
      "60000/60000 [==============================] - 166s 3ms/step - loss: 0.0153 - val_loss: 0.0160\n",
      "Epoch 17/30\n",
      "60000/60000 [==============================] - 152s 3ms/step - loss: 0.0152 - val_loss: 0.0160\n",
      "Epoch 18/30\n",
      "60000/60000 [==============================] - 154s 3ms/step - loss: 0.0150 - val_loss: 0.0158\n",
      "Epoch 19/30\n",
      "60000/60000 [==============================] - 159s 3ms/step - loss: 0.0149 - val_loss: 0.0158\n",
      "Epoch 20/30\n",
      "60000/60000 [==============================] - 156s 3ms/step - loss: 0.0148 - val_loss: 0.0157\n",
      "Epoch 21/30\n",
      "60000/60000 [==============================] - 155s 3ms/step - loss: 0.0148 - val_loss: 0.0156\n",
      "Epoch 22/30\n",
      "60000/60000 [==============================] - 206s 3ms/step - loss: 0.0147 - val_loss: 0.0157\n",
      "Epoch 23/30\n",
      "60000/60000 [==============================] - 198s 3ms/step - loss: 0.0146 - val_loss: 0.0157\n",
      "Epoch 24/30\n",
      "60000/60000 [==============================] - 194s 3ms/step - loss: 0.0145 - val_loss: 0.0157\n",
      "Epoch 25/30\n",
      "60000/60000 [==============================] - 194s 3ms/step - loss: 0.0145 - val_loss: 0.0156\n",
      "Epoch 26/30\n",
      "60000/60000 [==============================] - 160s 3ms/step - loss: 0.0144 - val_loss: 0.0156\n",
      "Epoch 27/30\n",
      "60000/60000 [==============================] - 232s 4ms/step - loss: 0.0144 - val_loss: 0.0156\n",
      "Epoch 28/30\n",
      "60000/60000 [==============================] - 210s 4ms/step - loss: 0.0143 - val_loss: 0.0156\n",
      "Epoch 29/30\n",
      "60000/60000 [==============================] - 170s 3ms/step - loss: 0.0143 - val_loss: 0.0155\n",
      "Epoch 30/30\n",
      "60000/60000 [==============================] - 167s 3ms/step - loss: 0.0142 - val_loss: 0.0155\n"
     ]
    },
    {
     "data": {
      "text/plain": [
       "<keras.callbacks.History at 0x183ab43fd0>"
      ]
     },
     "execution_count": 21,
     "metadata": {},
     "output_type": "execute_result"
    }
   ],
   "source": [
    "# Train the autoencoder\n",
    "autoencoder.fit(x_train_noisy,\n",
    "                x_train,\n",
    "                validation_data=(x_test_noisy, x_test),\n",
    "                epochs=30,\n",
    "                batch_size=batch_size)"
   ]
  },
  {
   "cell_type": "code",
   "execution_count": 22,
   "metadata": {
    "ExecuteTime": {
     "end_time": "2018-09-13T06:12:31.159048Z",
     "start_time": "2018-09-13T06:12:22.294715Z"
    }
   },
   "outputs": [],
   "source": [
    "# Predict the Autoencoder output from corrupted test images\n",
    "x_decoded = autoencoder.predict(x_test_noisy)"
   ]
  },
  {
   "cell_type": "code",
   "execution_count": 23,
   "metadata": {
    "ExecuteTime": {
     "end_time": "2018-09-13T06:12:53.464155Z",
     "start_time": "2018-09-13T06:12:53.242895Z"
    }
   },
   "outputs": [],
   "source": [
    "# Display the 1st 8 corrupted and denoised images\n",
    "rows, cols = 10, 30\n",
    "num = rows * cols\n",
    "imgs = np.concatenate([x_test[:num], x_test_noisy[:num], x_decoded[:num]])\n",
    "imgs = imgs.reshape((rows * 3, cols, image_size, image_size))\n",
    "imgs = np.vstack(np.split(imgs, rows, axis=1))\n",
    "imgs = imgs.reshape((rows * 3, -1, image_size, image_size))\n",
    "imgs = np.vstack([np.hstack(i) for i in imgs])\n",
    "imgs = (imgs * 255).astype(np.uint8)"
   ]
  },
  {
   "cell_type": "code",
   "execution_count": 24,
   "metadata": {
    "ExecuteTime": {
     "end_time": "2018-09-13T06:13:02.095621Z",
     "start_time": "2018-09-13T06:13:00.461577Z"
    }
   },
   "outputs": [
    {
     "data": {
      "image/png": "[encoded data removed]",
      "text/plain": [
       "<matplotlib.figure.Figure at 0x10ab98400>"
      ]
     },
     "metadata": {},
     "output_type": "display_data"
    }
   ],
   "source": [
    "plt.figure()\n",
    "plt.axis('off')\n",
    "plt.title('Original images: top rows, '\n",
    "          'Corrupted Input: middle rows, '\n",
    "          'Denoised Input:  third rows')\n",
    "plt.imshow(imgs, interpolation='none', cmap='gray')\n",
    "Image.fromarray(imgs).save('corrupted_and_denoised.png')\n",
    "plt.show()"
   ]
  }
 ],
 "metadata": {
  "kernelspec": {
   "display_name": "Python 3",
   "language": "python",
   "name": "python3"
  },
  "language_info": {
   "codemirror_mode": {
    "name": "ipython",
    "version": 3
   },
   "file_extension": ".py",
   "mimetype": "text/x-python",
   "name": "python",
   "nbconvert_exporter": "python",
   "pygments_lexer": "ipython3",
   "version": "3.6.3"
  },
  "toc": {
   "base_numbering": 1,
   "nav_menu": {},
   "number_sections": true,
   "sideBar": true,
   "skip_h1_title": false,
   "title_cell": "Table of Contents",
   "title_sidebar": "Contents",
   "toc_cell": false,
   "toc_position": {},
   "toc_section_display": true,
   "toc_window_display": false
  },
  "varInspector": {
   "cols": {
    "lenName": 16,
    "lenType": 16,
    "lenVar": 40
   },
   "kernels_config": {
    "python": {
     "delete_cmd_postfix": "",
     "delete_cmd_prefix": "del ",
     "library": "var_list.py",
     "varRefreshCmd": "print(var_dic_list())"
    },
    "r": {
     "delete_cmd_postfix": ") ",
     "delete_cmd_prefix": "rm(",
     "library": "var_list.r",
     "varRefreshCmd": "cat(var_dic_list()) "
    }
   },
   "types_to_exclude": [
    "module",
    "function",
    "builtin_function_or_method",
    "instance",
    "_Feature"
   ],
   "window_display": false
  }
 },
 "nbformat": 4,
 "nbformat_minor": 2
}
