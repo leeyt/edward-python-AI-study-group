{
 "cells": [
  {
   "cell_type": "markdown",
   "metadata": {
    "ExecuteTime": {
     "end_time": "2018-08-16T07:57:18.374037Z",
     "start_time": "2018-08-16T07:57:18.362111Z"
    }
   },
   "source": [
    "# bAbi - RNN\n",
    "\n",
    "Trains two recurrent neural networks based upon a story and a question.\n",
    "\n",
    "The resulting merged vector is then queried to answer a range of bAbI tasks.\n",
    "\n",
    "The results are comparable to those for an LSTM model provided in Weston et al.:  \n",
    "[Towards AI-Complete Question Answering: A Set of Prerequisite Toy Tasks](http://arxiv.org/abs/1502.05698)\n",
    "\n",
    "|Task Number                  | FB LSTM Baseline | Keras QA\n",
    "|---                          |---              | ---\n",
    "|QA1 - Single Supporting Fact | 50               | 100.0\n",
    "|QA2 - Two Supporting Facts   | 20               | 50.0\n",
    "|QA3 - Three Supporting Facts | 20               | 20.5\n",
    "|QA4 - Two Arg. Relations     | 61               | 62.9\n",
    "|QA5 - Three Arg. Relations   | 70               | 61.9\n",
    "|QA6 - yes/No Questions       | 48               | 50.7\n",
    "|QA7 - Counting               | 49               | 78.9\n",
    "|QA8 - Lists/Sets             | 45               | 77.2\n",
    "|QA9 - Simple Negation        | 64               | 64.0\n",
    "|QA10 - Indefinite Knowledge  | 44               | 47.7\n",
    "|QA11 - Basic Coreference     | 72               | 74.9\n",
    "|QA12 - Conjunction           | 74               | 76.4\n",
    "|QA13 - Compound Coreference  | 94               | 94.4\n",
    "|QA14 - Time Reasoning        | 27               | 34.8\n",
    "|QA15 - Basic Deduction       | 21               | 32.4\n",
    "|QA16 - Basic Induction       | 23               | 50.6\n",
    "|QA17 - Positional Reasoning  | 51               | 49.1\n",
    "|QA18 - Size Reasoning        | 52               | 90.8\n",
    "|QA19 - Path Finding          | 8                | 9.0\n",
    "|QA20 - Agent's Motivations   | 91               | 90.7\n",
    "\n",
    "For the resources related to the bAbI project, refer to:\n",
    "https://research.facebook.com/researchers/1543934539189348"
   ]
  },
  {
   "cell_type": "markdown",
   "metadata": {
    "ExecuteTime": {
     "end_time": "2018-08-16T07:57:18.374037Z",
     "start_time": "2018-08-16T07:57:18.362111Z"
    }
   },
   "source": [
    "## Notes\n",
    "\n",
    "- With default word, sentence, and query vector sizes, the GRU model achieves:\n",
    "  - 100% test accuracy on QA1 in 20 epochs (2 seconds per epoch on CPU)\n",
    "  - 50% test accuracy on QA2 in 20 epochs (16 seconds per epoch on CPU)\n",
    "In comparison, the Facebook paper achieves 50% and 20% for the LSTM baseline.\n",
    "\n",
    "- The task does not traditionally parse the question separately. This likely\n",
    "improves accuracy and is a good example of merging two RNNs.\n",
    "\n",
    "- The word vector embeddings are not shared between the story and question RNNs.\n",
    "\n",
    "- See how the accuracy changes given 10,000 training samples (en-10k) instead\n",
    "of only 1000. 1000 was used in order to be comparable to the original paper.\n",
    "\n",
    "- Experiment with GRU, LSTM, and JZS1-3 as they give subtly different results.\n",
    "\n",
    "- The length and noise (i.e. 'useless' story components) impact the ability for\n",
    "LSTMs / GRUs to provide the correct answer. Given only the supporting facts,\n",
    "these RNNs can achieve 100% accuracy on many tasks. Memory networks and neural\n",
    "networks that use attentional processes can efficiently search through this\n",
    "noise to find the relevant statements, improving performance substantially.\n",
    "This becomes especially obvious on QA2 and QA3, both far longer than QA1."
   ]
  },
  {
   "cell_type": "code",
   "execution_count": 1,
   "metadata": {
    "ExecuteTime": {
     "end_time": "2018-08-16T08:07:28.795429Z",
     "start_time": "2018-08-16T08:07:25.913738Z"
    }
   },
   "outputs": [
    {
     "name": "stderr",
     "output_type": "stream",
     "text": [
      "Using TensorFlow backend.\n"
     ]
    }
   ],
   "source": [
    "from functools import reduce\n",
    "import re\n",
    "import tarfile\n",
    "\n",
    "import numpy as np\n",
    "\n",
    "from keras.utils.data_utils import get_file\n",
    "from keras.layers.embeddings import Embedding\n",
    "from keras import layers\n",
    "from keras.layers import recurrent\n",
    "from keras.models import Model\n",
    "from keras.preprocessing.sequence import pad_sequences"
   ]
  },
  {
   "cell_type": "code",
   "execution_count": 2,
   "metadata": {
    "ExecuteTime": {
     "end_time": "2018-08-16T08:07:28.812206Z",
     "start_time": "2018-08-16T08:07:28.800733Z"
    }
   },
   "outputs": [],
   "source": [
    "def tokenize(sent):\n",
    "    '''Return the tokens of a sentence including punctuation.\n",
    "\n",
    "    >>> tokenize('Bob dropped the apple. Where is the apple?')\n",
    "    ['Bob', 'dropped', 'the', 'apple', '.', 'Where', 'is', 'the', 'apple', '?']\n",
    "    '''\n",
    "    return [x.strip() for x in re.split('(\\W+)?', sent) if x.strip()]"
   ]
  },
  {
   "cell_type": "code",
   "execution_count": 3,
   "metadata": {
    "ExecuteTime": {
     "end_time": "2018-08-16T08:07:28.885828Z",
     "start_time": "2018-08-16T08:07:28.820584Z"
    }
   },
   "outputs": [],
   "source": [
    "def parse_stories(lines, only_supporting=False):\n",
    "    '''Parse stories provided in the bAbi tasks format\n",
    "\n",
    "    If only_supporting is true,\n",
    "    only the sentences that support the answer are kept.\n",
    "    '''\n",
    "    data = []\n",
    "    story = []\n",
    "    for line in lines:\n",
    "        line = line.decode('utf-8').strip()\n",
    "        nid, line = line.split(' ', 1)\n",
    "        nid = int(nid)\n",
    "        if nid == 1:\n",
    "            story = []\n",
    "        if '\\t' in line:\n",
    "            q, a, supporting = line.split('\\t')\n",
    "            q = tokenize(q)\n",
    "            substory = None\n",
    "            if only_supporting:\n",
    "                # Only select the related substory\n",
    "                supporting = map(int, supporting.split())\n",
    "                substory = [story[i - 1] for i in supporting]\n",
    "            else:\n",
    "                # Provide all the substories\n",
    "                substory = [x for x in story if x]\n",
    "            data.append((substory, q, a))\n",
    "            story.append('')\n",
    "        else:\n",
    "            sent = tokenize(line)\n",
    "            story.append(sent)\n",
    "    return data"
   ]
  },
  {
   "cell_type": "code",
   "execution_count": 4,
   "metadata": {
    "ExecuteTime": {
     "end_time": "2018-08-16T08:07:28.903579Z",
     "start_time": "2018-08-16T08:07:28.889691Z"
    }
   },
   "outputs": [],
   "source": [
    "def get_stories(f, only_supporting=False, max_length=None):\n",
    "    '''Given a file name, read the file, retrieve the stories,\n",
    "    and then convert the sentences into a single story.\n",
    "\n",
    "    If max_length is supplied,\n",
    "    any stories longer than max_length tokens will be discarded.\n",
    "    '''\n",
    "    data = parse_stories(f.readlines(), only_supporting=only_supporting)\n",
    "    flatten = lambda data: reduce(lambda x, y: x + y, data)\n",
    "    data = [(flatten(story), q, answer) for story, q, answer in data if not max_length or len(flatten(story)) < max_length]\n",
    "    return data"
   ]
  },
  {
   "cell_type": "code",
   "execution_count": 5,
   "metadata": {
    "ExecuteTime": {
     "end_time": "2018-08-16T08:07:28.940849Z",
     "start_time": "2018-08-16T08:07:28.907245Z"
    }
   },
   "outputs": [],
   "source": [
    "def vectorize_stories(data, word_idx, story_maxlen, query_maxlen):\n",
    "    xs = []\n",
    "    xqs = []\n",
    "    ys = []\n",
    "    for story, query, answer in data:\n",
    "        x = [word_idx[w] for w in story]\n",
    "        xq = [word_idx[w] for w in query]\n",
    "        # let's not forget that index 0 is reserved\n",
    "        y = np.zeros(len(word_idx) + 1)\n",
    "        y[word_idx[answer]] = 1\n",
    "        xs.append(x)\n",
    "        xqs.append(xq)\n",
    "        ys.append(y)\n",
    "    return pad_sequences(xs, maxlen=story_maxlen), pad_sequences(xqs, maxlen=query_maxlen), np.array(ys)"
   ]
  },
  {
   "cell_type": "code",
   "execution_count": 6,
   "metadata": {
    "ExecuteTime": {
     "end_time": "2018-08-16T08:07:28.964003Z",
     "start_time": "2018-08-16T08:07:28.945409Z"
    }
   },
   "outputs": [
    {
     "name": "stdout",
     "output_type": "stream",
     "text": [
      "RNN / Embed / Sent / Query = <class 'keras.layers.recurrent.LSTM'>, 50, 100, 100\n"
     ]
    }
   ],
   "source": [
    "RNN = recurrent.LSTM\n",
    "EMBED_HIDDEN_SIZE = 50\n",
    "SENT_HIDDEN_SIZE = 100\n",
    "QUERY_HIDDEN_SIZE = 100\n",
    "BATCH_SIZE = 32\n",
    "EPOCHS = 40\n",
    "print('RNN / Embed / Sent / Query = {}, {}, {}, {}'.format(RNN,\n",
    "                                                           EMBED_HIDDEN_SIZE,\n",
    "                                                           SENT_HIDDEN_SIZE,\n",
    "                                                           QUERY_HIDDEN_SIZE))"
   ]
  },
  {
   "cell_type": "code",
   "execution_count": 7,
   "metadata": {
    "ExecuteTime": {
     "end_time": "2018-08-16T08:07:28.979763Z",
     "start_time": "2018-08-16T08:07:28.971367Z"
    }
   },
   "outputs": [],
   "source": [
    "try:\n",
    "    path = get_file('babi-tasks-v1-2.tar.gz', origin='https://s3.amazonaws.com/text-datasets/babi_tasks_1-20_v1-2.tar.gz')\n",
    "except:\n",
    "    print('Error downloading dataset, please download it manually:\\n'\n",
    "          '$ wget http://www.thespermwhale.com/jaseweston/babi/tasks_1-20_v1-2.tar.gz\\n'\n",
    "          '$ mv tasks_1-20_v1-2.tar.gz ~/.keras/datasets/babi-tasks-v1-2.tar.gz')\n",
    "    raise"
   ]
  },
  {
   "cell_type": "code",
   "execution_count": 8,
   "metadata": {
    "ExecuteTime": {
     "end_time": "2018-08-16T08:07:30.982277Z",
     "start_time": "2018-08-16T08:07:28.984320Z"
    }
   },
   "outputs": [
    {
     "name": "stderr",
     "output_type": "stream",
     "text": [
      "/Users/neillee/anaconda3/lib/python3.6/re.py:212: FutureWarning: split() requires a non-empty pattern match.\n",
      "  return _compile(pattern, flags).split(string, maxsplit)\n"
     ]
    }
   ],
   "source": [
    "# Default QA1 with 1000 samples\n",
    "# challenge = 'tasks_1-20_v1-2/en/qa1_single-supporting-fact_{}.txt'\n",
    "# QA1 with 10,000 samples\n",
    "# challenge = 'tasks_1-20_v1-2/en-10k/qa1_single-supporting-fact_{}.txt'\n",
    "# QA2 with 1000 samples\n",
    "challenge = 'tasks_1-20_v1-2/en/qa2_two-supporting-facts_{}.txt'\n",
    "# QA2 with 10,000 samples\n",
    "# challenge = 'tasks_1-20_v1-2/en-10k/qa2_two-supporting-facts_{}.txt'\n",
    "with tarfile.open(path) as tar:\n",
    "    train = get_stories(tar.extractfile(challenge.format('train')))\n",
    "    test = get_stories(tar.extractfile(challenge.format('test')))"
   ]
  },
  {
   "cell_type": "code",
   "execution_count": 9,
   "metadata": {
    "ExecuteTime": {
     "end_time": "2018-08-16T08:07:31.157472Z",
     "start_time": "2018-08-16T08:07:30.990942Z"
    }
   },
   "outputs": [],
   "source": [
    "vocab = set()\n",
    "for story, q, answer in train + test:\n",
    "    vocab |= set(story + q + [answer])\n",
    "vocab = sorted(vocab)"
   ]
  },
  {
   "cell_type": "code",
   "execution_count": 10,
   "metadata": {
    "ExecuteTime": {
     "end_time": "2018-08-16T08:07:31.205383Z",
     "start_time": "2018-08-16T08:07:31.164293Z"
    }
   },
   "outputs": [],
   "source": [
    "# Reserve 0 for masking via pad_sequences\n",
    "vocab_size = len(vocab) + 1\n",
    "word_idx = dict((c, i + 1) for i, c in enumerate(vocab))\n",
    "story_maxlen = max(map(len, (x for x, _, _ in train + test)))\n",
    "query_maxlen = max(map(len, (x for _, x, _ in train + test)))"
   ]
  },
  {
   "cell_type": "code",
   "execution_count": 11,
   "metadata": {
    "ExecuteTime": {
     "end_time": "2018-08-16T08:07:31.661238Z",
     "start_time": "2018-08-16T08:07:31.226622Z"
    }
   },
   "outputs": [
    {
     "name": "stdout",
     "output_type": "stream",
     "text": [
      "vocab = ['.', '?', 'Daniel', 'John', 'Mary', 'Sandra', 'Where', 'apple', 'back', 'bathroom', 'bedroom', 'discarded', 'down', 'dropped', 'football', 'garden', 'got', 'grabbed', 'hallway', 'is', 'journeyed', 'kitchen', 'left', 'milk', 'moved', 'office', 'picked', 'put', 'the', 'there', 'to', 'took', 'travelled', 'up', 'went']\n",
      "x.shape = (1000, 552)\n",
      "xq.shape = (1000, 5)\n",
      "y.shape = (1000, 36)\n",
      "story_maxlen, query_maxlen = 552, 5\n"
     ]
    }
   ],
   "source": [
    "x, xq, y = vectorize_stories(train, word_idx, story_maxlen, query_maxlen)\n",
    "tx, txq, ty = vectorize_stories(test, word_idx, story_maxlen, query_maxlen)\n",
    "\n",
    "print('vocab = {}'.format(vocab))\n",
    "print('x.shape = {}'.format(x.shape))\n",
    "print('xq.shape = {}'.format(xq.shape))\n",
    "print('y.shape = {}'.format(y.shape))\n",
    "print('story_maxlen, query_maxlen = {}, {}'.format(story_maxlen, query_maxlen))"
   ]
  },
  {
   "cell_type": "code",
   "execution_count": 12,
   "metadata": {
    "ExecuteTime": {
     "end_time": "2018-08-16T08:07:32.960638Z",
     "start_time": "2018-08-16T08:07:31.679118Z"
    }
   },
   "outputs": [
    {
     "name": "stdout",
     "output_type": "stream",
     "text": [
      "Build model...\n",
      "__________________________________________________________________________________________________\n",
      "Layer (type)                    Output Shape         Param #     Connected to                     \n",
      "==================================================================================================\n",
      "input_2 (InputLayer)            (None, 5)            0                                            \n",
      "__________________________________________________________________________________________________\n",
      "embedding_2 (Embedding)         (None, 5, 50)        1800        input_2[0][0]                    \n",
      "__________________________________________________________________________________________________\n",
      "input_1 (InputLayer)            (None, 552)          0                                            \n",
      "__________________________________________________________________________________________________\n",
      "dropout_2 (Dropout)             (None, 5, 50)        0           embedding_2[0][0]                \n",
      "__________________________________________________________________________________________________\n",
      "embedding_1 (Embedding)         (None, 552, 50)      1800        input_1[0][0]                    \n",
      "__________________________________________________________________________________________________\n",
      "lstm_1 (LSTM)                   (None, 50)           20200       dropout_2[0][0]                  \n",
      "__________________________________________________________________________________________________\n",
      "dropout_1 (Dropout)             (None, 552, 50)      0           embedding_1[0][0]                \n",
      "__________________________________________________________________________________________________\n",
      "repeat_vector_1 (RepeatVector)  (None, 552, 50)      0           lstm_1[0][0]                     \n",
      "__________________________________________________________________________________________________\n",
      "add_1 (Add)                     (None, 552, 50)      0           dropout_1[0][0]                  \n",
      "                                                                 repeat_vector_1[0][0]            \n",
      "__________________________________________________________________________________________________\n",
      "lstm_2 (LSTM)                   (None, 50)           20200       add_1[0][0]                      \n",
      "__________________________________________________________________________________________________\n",
      "dropout_3 (Dropout)             (None, 50)           0           lstm_2[0][0]                     \n",
      "__________________________________________________________________________________________________\n",
      "dense_1 (Dense)                 (None, 36)           1836        dropout_3[0][0]                  \n",
      "==================================================================================================\n",
      "Total params: 45,836\n",
      "Trainable params: 45,836\n",
      "Non-trainable params: 0\n",
      "__________________________________________________________________________________________________\n"
     ]
    }
   ],
   "source": [
    "print('Build model...')\n",
    "\n",
    "sentence = layers.Input(shape=(story_maxlen,), dtype='int32')\n",
    "encoded_sentence = layers.Embedding(vocab_size, EMBED_HIDDEN_SIZE)(sentence)\n",
    "encoded_sentence = layers.Dropout(0.3)(encoded_sentence)\n",
    "\n",
    "question = layers.Input(shape=(query_maxlen,), dtype='int32')\n",
    "encoded_question = layers.Embedding(vocab_size, EMBED_HIDDEN_SIZE)(question)\n",
    "encoded_question = layers.Dropout(0.3)(encoded_question)\n",
    "encoded_question = RNN(EMBED_HIDDEN_SIZE)(encoded_question)\n",
    "encoded_question = layers.RepeatVector(story_maxlen)(encoded_question)\n",
    "\n",
    "merged = layers.add([encoded_sentence, encoded_question])\n",
    "merged = RNN(EMBED_HIDDEN_SIZE)(merged)\n",
    "merged = layers.Dropout(0.3)(merged)\n",
    "preds = layers.Dense(vocab_size, activation='softmax')(merged)\n",
    "\n",
    "model = Model([sentence, question], preds)\n",
    "model.compile(optimizer='adam',\n",
    "              loss='categorical_crossentropy',\n",
    "              metrics=['accuracy'])\n",
    "model.summary()"
   ]
  },
  {
   "cell_type": "code",
   "execution_count": 13,
   "metadata": {
    "ExecuteTime": {
     "end_time": "2018-08-16T08:47:58.010670Z",
     "start_time": "2018-08-16T08:07:32.969917Z"
    }
   },
   "outputs": [
    {
     "name": "stdout",
     "output_type": "stream",
     "text": [
      "Training\n",
      "Train on 950 samples, validate on 50 samples\n",
      "Epoch 1/40\n",
      "950/950 [==============================] - 58s 61ms/step - loss: 3.0910 - acc: 0.2032 - val_loss: 2.3198 - val_acc: 0.0600\n",
      "Epoch 2/40\n",
      "950/950 [==============================] - 56s 59ms/step - loss: 2.0251 - acc: 0.2084 - val_loss: 1.8454 - val_acc: 0.0600\n",
      "Epoch 3/40\n",
      "950/950 [==============================] - 56s 59ms/step - loss: 1.9078 - acc: 0.1895 - val_loss: 1.8362 - val_acc: 0.0600\n",
      "Epoch 4/40\n",
      "950/950 [==============================] - 55s 58ms/step - loss: 1.8874 - acc: 0.1926 - val_loss: 1.8497 - val_acc: 0.0600\n",
      "Epoch 5/40\n",
      "950/950 [==============================] - 68s 72ms/step - loss: 1.8802 - acc: 0.1642 - val_loss: 1.8183 - val_acc: 0.0600\n",
      "Epoch 6/40\n",
      "950/950 [==============================] - 72s 76ms/step - loss: 1.8831 - acc: 0.1821 - val_loss: 1.8337 - val_acc: 0.0600\n",
      "Epoch 7/40\n",
      "950/950 [==============================] - 61s 64ms/step - loss: 1.8654 - acc: 0.1853 - val_loss: 1.8292 - val_acc: 0.0600\n",
      "Epoch 8/40\n",
      "950/950 [==============================] - 59s 62ms/step - loss: 1.8298 - acc: 0.2084 - val_loss: 1.8118 - val_acc: 0.0600\n",
      "Epoch 9/40\n",
      "950/950 [==============================] - 57s 60ms/step - loss: 1.8480 - acc: 0.1842 - val_loss: 1.8146 - val_acc: 0.0600\n",
      "Epoch 10/40\n",
      "950/950 [==============================] - 64s 67ms/step - loss: 1.8477 - acc: 0.1853 - val_loss: 1.8331 - val_acc: 0.0600\n",
      "Epoch 11/40\n",
      "950/950 [==============================] - 59s 62ms/step - loss: 1.8320 - acc: 0.1905 - val_loss: 1.8074 - val_acc: 0.0600\n",
      "Epoch 12/40\n",
      "950/950 [==============================] - 56s 59ms/step - loss: 1.8463 - acc: 0.1779 - val_loss: 1.8095 - val_acc: 0.0600\n",
      "Epoch 13/40\n",
      "950/950 [==============================] - 69s 72ms/step - loss: 1.8312 - acc: 0.1916 - val_loss: 1.8096 - val_acc: 0.0600\n",
      "Epoch 14/40\n",
      "950/950 [==============================] - 68s 72ms/step - loss: 1.8463 - acc: 0.1926 - val_loss: 1.8161 - val_acc: 0.0600\n",
      "Epoch 15/40\n",
      "950/950 [==============================] - 62s 65ms/step - loss: 1.8006 - acc: 0.2147 - val_loss: 1.8037 - val_acc: 0.0600\n",
      "Epoch 16/40\n",
      "950/950 [==============================] - 60s 64ms/step - loss: 1.8119 - acc: 0.1895 - val_loss: 1.8134 - val_acc: 0.0600\n",
      "Epoch 17/40\n",
      "950/950 [==============================] - 57s 60ms/step - loss: 1.8050 - acc: 0.2158 - val_loss: 1.8228 - val_acc: 0.0600\n",
      "Epoch 18/40\n",
      "950/950 [==============================] - 60s 63ms/step - loss: 1.8078 - acc: 0.2168 - val_loss: 1.7996 - val_acc: 0.0600\n",
      "Epoch 19/40\n",
      "950/950 [==============================] - 66s 69ms/step - loss: 1.8102 - acc: 0.1989 - val_loss: 1.7895 - val_acc: 0.1600\n",
      "Epoch 20/40\n",
      "950/950 [==============================] - 63s 66ms/step - loss: 1.7870 - acc: 0.2137 - val_loss: 1.7820 - val_acc: 0.3400\n",
      "Epoch 21/40\n",
      "950/950 [==============================] - 65s 69ms/step - loss: 1.7887 - acc: 0.2211 - val_loss: 1.8004 - val_acc: 0.1200\n",
      "Epoch 22/40\n",
      "950/950 [==============================] - 58s 61ms/step - loss: 1.7773 - acc: 0.2305 - val_loss: 1.7467 - val_acc: 0.2600\n",
      "Epoch 23/40\n",
      "950/950 [==============================] - 55s 58ms/step - loss: 1.7625 - acc: 0.2442 - val_loss: 1.7308 - val_acc: 0.3200\n",
      "Epoch 24/40\n",
      "950/950 [==============================] - 57s 60ms/step - loss: 1.7784 - acc: 0.2547 - val_loss: 1.7426 - val_acc: 0.2600\n",
      "Epoch 25/40\n",
      "950/950 [==============================] - 56s 59ms/step - loss: 1.7408 - acc: 0.2800 - val_loss: 1.7543 - val_acc: 0.2600\n",
      "Epoch 26/40\n",
      "950/950 [==============================] - 58s 61ms/step - loss: 1.7222 - acc: 0.3000 - val_loss: 1.7183 - val_acc: 0.2800\n",
      "Epoch 27/40\n",
      "950/950 [==============================] - 64s 67ms/step - loss: 1.7275 - acc: 0.2842 - val_loss: 1.6892 - val_acc: 0.3800\n",
      "Epoch 28/40\n",
      "950/950 [==============================] - 64s 67ms/step - loss: 1.7112 - acc: 0.3000 - val_loss: 1.7199 - val_acc: 0.2800\n",
      "Epoch 29/40\n",
      "950/950 [==============================] - 57s 60ms/step - loss: 1.6978 - acc: 0.3211 - val_loss: 1.6639 - val_acc: 0.3800\n",
      "Epoch 30/40\n",
      "950/950 [==============================] - 71s 74ms/step - loss: 1.6868 - acc: 0.3274 - val_loss: 1.6574 - val_acc: 0.3800\n",
      "Epoch 31/40\n",
      "950/950 [==============================] - 60s 64ms/step - loss: 1.7000 - acc: 0.3116 - val_loss: 1.6814 - val_acc: 0.3800\n",
      "Epoch 32/40\n",
      "950/950 [==============================] - 64s 67ms/step - loss: 1.6993 - acc: 0.3158 - val_loss: 1.6596 - val_acc: 0.3400\n",
      "Epoch 33/40\n",
      "950/950 [==============================] - 64s 67ms/step - loss: 1.6846 - acc: 0.3337 - val_loss: 1.6705 - val_acc: 0.4000\n",
      "Epoch 34/40\n",
      "950/950 [==============================] - 62s 66ms/step - loss: 1.6535 - acc: 0.3421 - val_loss: 1.6544 - val_acc: 0.3400\n",
      "Epoch 35/40\n",
      "950/950 [==============================] - 58s 61ms/step - loss: 1.6349 - acc: 0.3442 - val_loss: 1.6225 - val_acc: 0.4200\n",
      "Epoch 36/40\n",
      "950/950 [==============================] - 56s 58ms/step - loss: 1.6149 - acc: 0.3516 - val_loss: 1.6251 - val_acc: 0.3600\n",
      "Epoch 37/40\n",
      "950/950 [==============================] - 55s 58ms/step - loss: 1.6215 - acc: 0.3579 - val_loss: 1.6166 - val_acc: 0.4200\n",
      "Epoch 38/40\n",
      "950/950 [==============================] - 59s 62ms/step - loss: 1.5991 - acc: 0.3832 - val_loss: 1.6058 - val_acc: 0.3800\n",
      "Epoch 39/40\n",
      "950/950 [==============================] - 58s 61ms/step - loss: 1.5764 - acc: 0.3758 - val_loss: 1.6149 - val_acc: 0.3800\n",
      "Epoch 40/40\n",
      "950/950 [==============================] - 55s 58ms/step - loss: 1.6127 - acc: 0.3526 - val_loss: 1.5848 - val_acc: 0.4000\n"
     ]
    },
    {
     "data": {
      "text/plain": [
       "<keras.callbacks.History at 0x129a4b9b0>"
      ]
     },
     "execution_count": 13,
     "metadata": {},
     "output_type": "execute_result"
    }
   ],
   "source": [
    "print('Training')\n",
    "model.fit([x, xq], y,\n",
    "          batch_size=BATCH_SIZE,\n",
    "          epochs=EPOCHS,\n",
    "          validation_split=0.05)"
   ]
  },
  {
   "cell_type": "code",
   "execution_count": 14,
   "metadata": {
    "ExecuteTime": {
     "end_time": "2018-08-16T08:48:07.769763Z",
     "start_time": "2018-08-16T08:47:58.048108Z"
    }
   },
   "outputs": [
    {
     "name": "stdout",
     "output_type": "stream",
     "text": [
      "1000/1000 [==============================] - 10s 10ms/step\n",
      "Test loss / test accuracy = 1.6804 / 0.3200\n"
     ]
    }
   ],
   "source": [
    "loss, acc = model.evaluate([tx, txq], ty,\n",
    "                           batch_size=BATCH_SIZE)\n",
    "print('Test loss / test accuracy = {:.4f} / {:.4f}'.format(loss, acc))"
   ]
  }
 ],
 "metadata": {
  "kernelspec": {
   "display_name": "Python 3",
   "language": "python",
   "name": "python3"
  },
  "language_info": {
   "codemirror_mode": {
    "name": "ipython",
    "version": 3
   },
   "file_extension": ".py",
   "mimetype": "text/x-python",
   "name": "python",
   "nbconvert_exporter": "python",
   "pygments_lexer": "ipython3",
   "version": "3.6.3"
  },
  "toc": {
   "base_numbering": 1,
   "nav_menu": {},
   "number_sections": true,
   "sideBar": true,
   "skip_h1_title": false,
   "title_cell": "Table of Contents",
   "title_sidebar": "Contents",
   "toc_cell": false,
   "toc_position": {},
   "toc_section_display": true,
   "toc_window_display": false
  },
  "varInspector": {
   "cols": {
    "lenName": 16,
    "lenType": 16,
    "lenVar": 40
   },
   "kernels_config": {
    "python": {
     "delete_cmd_postfix": "",
     "delete_cmd_prefix": "del ",
     "library": "var_list.py",
     "varRefreshCmd": "print(var_dic_list())"
    },
    "r": {
     "delete_cmd_postfix": ") ",
     "delete_cmd_prefix": "rm(",
     "library": "var_list.r",
     "varRefreshCmd": "cat(var_dic_list()) "
    }
   },
   "types_to_exclude": [
    "module",
    "function",
    "builtin_function_or_method",
    "instance",
    "_Feature"
   ],
   "window_display": false
  }
 },
 "nbformat": 4,
 "nbformat_minor": 2
}
