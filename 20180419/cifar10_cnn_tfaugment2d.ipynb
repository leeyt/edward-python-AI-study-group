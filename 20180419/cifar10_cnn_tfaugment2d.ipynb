{
 "cells": [
  {
   "cell_type": "markdown",
   "metadata": {
    "ExecuteTime": {
     "end_time": "2018-08-16T09:34:01.832250Z",
     "start_time": "2018-08-16T09:34:01.824818Z"
    }
   },
   "source": [
    "# Cifar-10 - TensorFlow Augmentation API\n",
    "\n",
    "Train a simple deep CNN on the CIFAR10 small images dataset.\n",
    "\n",
    "Using Tensorflow internal augmentation APIs by replacing ImageGenerator with\n",
    "an embedded AugmentLayer using LambdaLayer, which is faster on GPU."
   ]
  },
  {
   "cell_type": "markdown",
   "metadata": {
    "ExecuteTime": {
     "end_time": "2018-08-16T09:34:01.832250Z",
     "start_time": "2018-08-16T09:34:01.824818Z"
    }
   },
   "source": [
    "## Benchmark of  `ImageGenerator`  vs  `AugmentLayer` both using augmentation 2D:\n",
    "\n",
    "(backend = Tensorflow-GPU, Nvidia Tesla P100-SXM2)\n",
    "\n",
    "Settings: horizontal_flip = True\n",
    "\n",
    "Epoch<br>Number| ImageGenerator<br>%Accuracy | ImageGenerator<br>Performance | AugmentLayer<br>%Accuracy  | Augment Layer<br>Performance\n",
    "---------|-----------------|---------------|----------------|-----------------\n",
    "1         | 44.84          | 15ms/step      | 45.54         | 358us/step\n",
    "2         | 52.34          |  8ms/step      | 50.55         | 285us/step\n",
    "8         | 65.45          |  8ms/step      | 65.59         | 281us/step\n",
    "25        | 76.74          |  8ms/step      | 76.17         | 280us/step\n",
    "100       | 78.81          |  8ms/step      | 78.70         | 285us/step\n",
    "\n",
    "Settings: rotation = 30.0\n",
    "\n",
    "\n",
    "Epoch<br>Number| ImageGenerator<br>%Accuracy | ImageGenerator<br>Performance | AugmentLayer<br>%Accuracy  | Augment Layer<br>Performance\n",
    "---------|-----------------|----------------|---------------|------------------\n",
    "1         | 43.46          | 15ms/step      | 42.21         | 334us/step\n",
    "2         | 48.95          | 11ms/step      | 48.06         | 282us/step\n",
    "8         | 63.59          | 11ms/step      | 61.35         | 290us/step\n",
    "25        | 72.25          | 12ms/step      | 71.08         | 287us/step\n",
    "100       | 76.35          | 11ms/step      | 74.62         | 286us/step\n",
    "\n",
    "(Corner process and rotation precision by `ImageGenerator` and `AugmentLayer`\n",
    "are slightly different.)"
   ]
  },
  {
   "cell_type": "code",
   "execution_count": null,
   "metadata": {
    "ExecuteTime": {
     "end_time": "2018-08-16T12:06:24.164786Z",
     "start_time": "2018-08-16T12:06:20.654405Z"
    }
   },
   "outputs": [],
   "source": [
    "import keras\n",
    "from keras.datasets import cifar10\n",
    "from keras.models import Sequential\n",
    "from keras.layers import Dense, Dropout, Activation, Flatten\n",
    "from keras.layers import Conv2D, Lambda, MaxPooling2D\n",
    "from keras import backend as K\n",
    "import os\n",
    "\n",
    "if K.backend() != 'tensorflow':\n",
    "    raise RuntimeError('This example can only run with the '\n",
    "                       'TensorFlow backend, '\n",
    "                       'because it requires TF-native augmentation APIs')\n",
    "\n",
    "import tensorflow as tf"
   ]
  },
  {
   "cell_type": "code",
   "execution_count": null,
   "metadata": {
    "ExecuteTime": {
     "end_time": "2018-08-16T12:06:24.459404Z",
     "start_time": "2018-08-16T12:06:24.167936Z"
    }
   },
   "outputs": [],
   "source": [
    "def augment_2d(inputs, rotation=0, horizontal_flip=False, vertical_flip=False):\n",
    "    \"\"\"Apply additive augmentation on 2D data.\n",
    "\n",
    "    # Arguments\n",
    "      rotation: A float, the degree range for rotation (0 <= rotation < 180),\n",
    "          e.g. 3 for random image rotation between (-3.0, 3.0).\n",
    "      horizontal_flip: A boolean, whether to allow random horizontal flip,\n",
    "          e.g. true for 50% possibility to flip image horizontally.\n",
    "      vertical_flip: A boolean, whether to allow random vertical flip,\n",
    "          e.g. true for 50% possibility to flip image vertically.\n",
    "\n",
    "    # Returns\n",
    "      input data after augmentation, whose shape is the same as its original.\n",
    "    \"\"\"\n",
    "    if inputs.dtype != tf.float32:\n",
    "        inputs = tf.image.convert_image_dtype(inputs, dtype=tf.float32)\n",
    "\n",
    "    with tf.name_scope('augmentation'):\n",
    "        shp = tf.shape(inputs)\n",
    "        batch_size, height, width = shp[0], shp[1], shp[2]\n",
    "        width = tf.cast(width, tf.float32)\n",
    "        height = tf.cast(height, tf.float32)\n",
    "\n",
    "        transforms = []\n",
    "        identity = tf.constant([1, 0, 0, 0, 1, 0, 0, 0], dtype=tf.float32)\n",
    "\n",
    "        if rotation > 0:\n",
    "            angle_rad = rotation * 3.141592653589793 / 180.0\n",
    "            angles = tf.random_uniform([batch_size], -angle_rad, angle_rad)\n",
    "            f = tf.contrib.image.angles_to_projective_transforms(angles,\n",
    "                                                                 height, width)\n",
    "            transforms.append(f)\n",
    "\n",
    "        if horizontal_flip:\n",
    "            coin = tf.less(tf.random_uniform([batch_size], 0, 1.0), 0.5)\n",
    "            shape = [-1., 0., width, 0., 1., 0., 0., 0.]\n",
    "            flip_transform = tf.convert_to_tensor(shape, dtype=tf.float32)\n",
    "            flip = tf.tile(tf.expand_dims(flip_transform, 0), [batch_size, 1])\n",
    "            noflip = tf.tile(tf.expand_dims(identity, 0), [batch_size, 1])\n",
    "            transforms.append(tf.where(coin, flip, noflip))\n",
    "\n",
    "        if vertical_flip:\n",
    "            coin = tf.less(tf.random_uniform([batch_size], 0, 1.0), 0.5)\n",
    "            shape = [1., 0., 0., 0., -1., height, 0., 0.]\n",
    "            flip_transform = tf.convert_to_tensor(shape, dtype=tf.float32)\n",
    "            flip = tf.tile(tf.expand_dims(flip_transform, 0), [batch_size, 1])\n",
    "            noflip = tf.tile(tf.expand_dims(identity, 0), [batch_size, 1])\n",
    "            transforms.append(tf.where(coin, flip, noflip))\n",
    "\n",
    "    if transforms:\n",
    "        f = tf.contrib.image.compose_transforms(*transforms)\n",
    "        inputs = tf.contrib.image.transform(inputs, f, interpolation='BILINEAR')\n",
    "    return inputs"
   ]
  },
  {
   "cell_type": "code",
   "execution_count": null,
   "metadata": {
    "ExecuteTime": {
     "end_time": "2018-08-16T12:06:24.481273Z",
     "start_time": "2018-08-16T12:06:24.464279Z"
    }
   },
   "outputs": [],
   "source": [
    "batch_size = 32\n",
    "num_classes = 10\n",
    "epochs = 100\n",
    "num_predictions = 20\n",
    "save_dir = 'SavedModels'\n",
    "model_name = 'keras_cifar10_trained_model.h5'"
   ]
  },
  {
   "cell_type": "code",
   "execution_count": null,
   "metadata": {
    "ExecuteTime": {
     "end_time": "2018-08-16T12:06:24.934694Z",
     "start_time": "2018-08-16T12:06:24.487628Z"
    }
   },
   "outputs": [],
   "source": [
    "# The data, split between train and test sets:\n",
    "(x_train, y_train), (x_test, y_test) = cifar10.load_data()\n",
    "print('x_train shape:', x_train.shape)\n",
    "print(x_train.shape[0], 'train samples')\n",
    "print(x_test.shape[0], 'test samples')"
   ]
  },
  {
   "cell_type": "code",
   "execution_count": null,
   "metadata": {
    "ExecuteTime": {
     "end_time": "2018-08-16T12:06:24.952725Z",
     "start_time": "2018-08-16T12:06:24.941378Z"
    }
   },
   "outputs": [],
   "source": [
    "# Convert class vectors to binary class matrices.\n",
    "y_train = keras.utils.to_categorical(y_train, num_classes)\n",
    "y_test = keras.utils.to_categorical(y_test, num_classes)"
   ]
  },
  {
   "cell_type": "code",
   "execution_count": null,
   "metadata": {
    "ExecuteTime": {
     "end_time": "2018-08-16T12:06:34.042050Z",
     "start_time": "2018-08-16T12:06:24.959272Z"
    }
   },
   "outputs": [],
   "source": [
    "model = Sequential()\n",
    "model.add(Lambda(augment_2d,\n",
    "                 input_shape=x_train.shape[1:],\n",
    "                 arguments={'rotation': 8.0, 'horizontal_flip': True}))\n",
    "model.add(Conv2D(32, (3, 3), padding='same'))\n",
    "model.add(Activation('relu'))\n",
    "model.add(Conv2D(32, (3, 3)))\n",
    "model.add(Activation('relu'))\n",
    "model.add(MaxPooling2D(pool_size=(2, 2)))\n",
    "model.add(Dropout(0.25))\n",
    "\n",
    "model.add(Conv2D(64, (3, 3), padding='same'))\n",
    "model.add(Activation('relu'))\n",
    "model.add(Conv2D(64, (3, 3)))\n",
    "model.add(Activation('relu'))\n",
    "model.add(MaxPooling2D(pool_size=(2, 2)))\n",
    "model.add(Dropout(0.25))\n",
    "\n",
    "model.add(Flatten())\n",
    "model.add(Dense(512))\n",
    "model.add(Activation('relu'))\n",
    "model.add(Dropout(0.5))\n",
    "model.add(Dense(num_classes))\n",
    "model.add(Activation('softmax'))\n",
    "\n",
    "# initiate RMSprop optimizer\n",
    "opt = keras.optimizers.rmsprop(lr=0.0001, decay=1e-6)\n",
    "\n",
    "# Let's train the model using RMSprop\n",
    "model.compile(loss='categorical_crossentropy',\n",
    "              optimizer=opt,\n",
    "              metrics=['accuracy'])\n",
    "model.summary()"
   ]
  },
  {
   "cell_type": "code",
   "execution_count": null,
   "metadata": {
    "ExecuteTime": {
     "end_time": "2018-08-16T12:06:34.994476Z",
     "start_time": "2018-08-16T12:06:34.046989Z"
    }
   },
   "outputs": [],
   "source": [
    "x_train = x_train.astype('float32')\n",
    "x_test = x_test.astype('float32')\n",
    "x_train /= 255\n",
    "x_test /= 255"
   ]
  },
  {
   "cell_type": "code",
   "execution_count": null,
   "metadata": {
    "ExecuteTime": {
     "end_time": "2018-08-16T15:37:38.522605Z",
     "start_time": "2018-08-16T12:06:34.998747Z"
    }
   },
   "outputs": [],
   "source": [
    "model.fit(x_train, y_train,\n",
    "          batch_size=batch_size,\n",
    "          epochs=epochs,\n",
    "          validation_data=(x_test, y_test),\n",
    "          shuffle=True)"
   ]
  },
  {
   "cell_type": "code",
   "execution_count": null,
   "metadata": {
    "ExecuteTime": {
     "end_time": "2018-08-16T15:37:38.530008Z",
     "start_time": "2018-08-16T12:06:20.736Z"
    }
   },
   "outputs": [],
   "source": [
    "# Save model and weights\n",
    "if not os.path.isdir(save_dir):\n",
    "    os.makedirs(save_dir)\n",
    "model_path = os.path.join(save_dir, model_name)\n",
    "model.save(model_path)\n",
    "print('Saved trained model at %s ' % model_path)"
   ]
  },
  {
   "cell_type": "code",
   "execution_count": null,
   "metadata": {
    "ExecuteTime": {
     "end_time": "2018-08-16T15:37:38.533404Z",
     "start_time": "2018-08-16T12:06:20.754Z"
    }
   },
   "outputs": [],
   "source": [
    "# Score trained model.\n",
    "scores = model.evaluate(x_test, y_test, verbose=1)\n",
    "print('Test loss:', scores[0])\n",
    "print('Test accuracy:', scores[1])"
   ]
  }
 ],
 "metadata": {
  "kernelspec": {
   "display_name": "Python 3",
   "language": "python",
   "name": "python3"
  },
  "language_info": {
   "codemirror_mode": {
    "name": "ipython",
    "version": 3
   },
   "file_extension": ".py",
   "mimetype": "text/x-python",
   "name": "python",
   "nbconvert_exporter": "python",
   "pygments_lexer": "ipython3",
   "version": "3.6.3"
  },
  "toc": {
   "base_numbering": 1,
   "nav_menu": {},
   "number_sections": true,
   "sideBar": true,
   "skip_h1_title": false,
   "title_cell": "Table of Contents",
   "title_sidebar": "Contents",
   "toc_cell": false,
   "toc_position": {},
   "toc_section_display": true,
   "toc_window_display": false
  },
  "varInspector": {
   "cols": {
    "lenName": 16,
    "lenType": 16,
    "lenVar": 40
   },
   "kernels_config": {
    "python": {
     "delete_cmd_postfix": "",
     "delete_cmd_prefix": "del ",
     "library": "var_list.py",
     "varRefreshCmd": "print(var_dic_list())"
    },
    "r": {
     "delete_cmd_postfix": ") ",
     "delete_cmd_prefix": "rm(",
     "library": "var_list.r",
     "varRefreshCmd": "cat(var_dic_list()) "
    }
   },
   "types_to_exclude": [
    "module",
    "function",
    "builtin_function_or_method",
    "instance",
    "_Feature"
   ],
   "window_display": false
  }
 },
 "nbformat": 4,
 "nbformat_minor": 2
}
